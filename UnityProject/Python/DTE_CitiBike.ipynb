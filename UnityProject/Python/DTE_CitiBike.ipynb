{
  "cells": [
    {
      "cell_type": "markdown",
      "metadata": {
        "id": "UmNgxrlZJJn4"
      },
      "source": [
        "# Data Input"
      ]
    },
    {
      "cell_type": "code",
      "execution_count": 1,
      "metadata": {
        "id": "G9MHPWJRMo9r"
      },
      "outputs": [
        {
          "ename": "KeyboardInterrupt",
          "evalue": "",
          "output_type": "error",
          "traceback": [
            "\u001b[1;31m---------------------------------------------------------------------------\u001b[0m",
            "\u001b[1;31mKeyboardInterrupt\u001b[0m                         Traceback (most recent call last)",
            "Cell \u001b[1;32mIn[1], line 5\u001b[0m\n\u001b[0;32m      2\u001b[0m \u001b[38;5;28;01mimport\u001b[39;00m \u001b[38;5;21;01mshutil\u001b[39;00m\n\u001b[0;32m      4\u001b[0m url \u001b[38;5;241m=\u001b[39m \u001b[38;5;124m\"\u001b[39m\u001b[38;5;124mhttps://s3.amazonaws.com/tripdata/202401-citibike-tripdata.zip\u001b[39m\u001b[38;5;124m\"\u001b[39m\n\u001b[1;32m----> 5\u001b[0m \u001b[43murlretrieve\u001b[49m\u001b[43m(\u001b[49m\u001b[43murl\u001b[49m\u001b[43m,\u001b[49m\u001b[43m \u001b[49m\u001b[38;5;124;43m\"\u001b[39;49m\u001b[38;5;124;43m202401-citibike-tripdata.zip\u001b[39;49m\u001b[38;5;124;43m\"\u001b[39;49m\u001b[43m)\u001b[49m \u001b[38;5;66;03m# Download dataset\u001b[39;00m\n\u001b[0;32m      6\u001b[0m shutil\u001b[38;5;241m.\u001b[39munpack_archive(\u001b[38;5;124m\"\u001b[39m\u001b[38;5;124m202401-citibike-tripdata.zip\u001b[39m\u001b[38;5;124m\"\u001b[39m, \u001b[38;5;124m\"\u001b[39m\u001b[38;5;124m202401-citibike-tripdata\u001b[39m\u001b[38;5;124m\"\u001b[39m) \u001b[38;5;66;03m# Unzip dataset\u001b[39;00m\n",
            "File \u001b[1;32mc:\\Users\\jaime\\anaconda3\\Lib\\urllib\\request.py:270\u001b[0m, in \u001b[0;36murlretrieve\u001b[1;34m(url, filename, reporthook, data)\u001b[0m\n\u001b[0;32m    267\u001b[0m     reporthook(blocknum, bs, size)\n\u001b[0;32m    269\u001b[0m \u001b[38;5;28;01mwhile\u001b[39;00m \u001b[38;5;28;01mTrue\u001b[39;00m:\n\u001b[1;32m--> 270\u001b[0m     block \u001b[38;5;241m=\u001b[39m \u001b[43mfp\u001b[49m\u001b[38;5;241;43m.\u001b[39;49m\u001b[43mread\u001b[49m\u001b[43m(\u001b[49m\u001b[43mbs\u001b[49m\u001b[43m)\u001b[49m\n\u001b[0;32m    271\u001b[0m     \u001b[38;5;28;01mif\u001b[39;00m \u001b[38;5;129;01mnot\u001b[39;00m block:\n\u001b[0;32m    272\u001b[0m         \u001b[38;5;28;01mbreak\u001b[39;00m\n",
            "File \u001b[1;32mc:\\Users\\jaime\\anaconda3\\Lib\\http\\client.py:473\u001b[0m, in \u001b[0;36mHTTPResponse.read\u001b[1;34m(self, amt)\u001b[0m\n\u001b[0;32m    470\u001b[0m \u001b[38;5;28;01mif\u001b[39;00m \u001b[38;5;28mself\u001b[39m\u001b[38;5;241m.\u001b[39mlength \u001b[38;5;129;01mis\u001b[39;00m \u001b[38;5;129;01mnot\u001b[39;00m \u001b[38;5;28;01mNone\u001b[39;00m \u001b[38;5;129;01mand\u001b[39;00m amt \u001b[38;5;241m>\u001b[39m \u001b[38;5;28mself\u001b[39m\u001b[38;5;241m.\u001b[39mlength:\n\u001b[0;32m    471\u001b[0m     \u001b[38;5;66;03m# clip the read to the \"end of response\"\u001b[39;00m\n\u001b[0;32m    472\u001b[0m     amt \u001b[38;5;241m=\u001b[39m \u001b[38;5;28mself\u001b[39m\u001b[38;5;241m.\u001b[39mlength\n\u001b[1;32m--> 473\u001b[0m s \u001b[38;5;241m=\u001b[39m \u001b[38;5;28mself\u001b[39m\u001b[38;5;241m.\u001b[39mfp\u001b[38;5;241m.\u001b[39mread(amt)\n\u001b[0;32m    474\u001b[0m \u001b[38;5;28;01mif\u001b[39;00m \u001b[38;5;129;01mnot\u001b[39;00m s \u001b[38;5;129;01mand\u001b[39;00m amt:\n\u001b[0;32m    475\u001b[0m     \u001b[38;5;66;03m# Ideally, we would raise IncompleteRead if the content-length\u001b[39;00m\n\u001b[0;32m    476\u001b[0m     \u001b[38;5;66;03m# wasn't satisfied, but it might break compatibility.\u001b[39;00m\n\u001b[0;32m    477\u001b[0m     \u001b[38;5;28mself\u001b[39m\u001b[38;5;241m.\u001b[39m_close_conn()\n",
            "File \u001b[1;32mc:\\Users\\jaime\\anaconda3\\Lib\\socket.py:706\u001b[0m, in \u001b[0;36mSocketIO.readinto\u001b[1;34m(self, b)\u001b[0m\n\u001b[0;32m    704\u001b[0m \u001b[38;5;28;01mwhile\u001b[39;00m \u001b[38;5;28;01mTrue\u001b[39;00m:\n\u001b[0;32m    705\u001b[0m     \u001b[38;5;28;01mtry\u001b[39;00m:\n\u001b[1;32m--> 706\u001b[0m         \u001b[38;5;28;01mreturn\u001b[39;00m \u001b[38;5;28;43mself\u001b[39;49m\u001b[38;5;241;43m.\u001b[39;49m\u001b[43m_sock\u001b[49m\u001b[38;5;241;43m.\u001b[39;49m\u001b[43mrecv_into\u001b[49m\u001b[43m(\u001b[49m\u001b[43mb\u001b[49m\u001b[43m)\u001b[49m\n\u001b[0;32m    707\u001b[0m     \u001b[38;5;28;01mexcept\u001b[39;00m timeout:\n\u001b[0;32m    708\u001b[0m         \u001b[38;5;28mself\u001b[39m\u001b[38;5;241m.\u001b[39m_timeout_occurred \u001b[38;5;241m=\u001b[39m \u001b[38;5;28;01mTrue\u001b[39;00m\n",
            "File \u001b[1;32mc:\\Users\\jaime\\anaconda3\\Lib\\ssl.py:1315\u001b[0m, in \u001b[0;36mSSLSocket.recv_into\u001b[1;34m(self, buffer, nbytes, flags)\u001b[0m\n\u001b[0;32m   1311\u001b[0m     \u001b[38;5;28;01mif\u001b[39;00m flags \u001b[38;5;241m!=\u001b[39m \u001b[38;5;241m0\u001b[39m:\n\u001b[0;32m   1312\u001b[0m         \u001b[38;5;28;01mraise\u001b[39;00m \u001b[38;5;167;01mValueError\u001b[39;00m(\n\u001b[0;32m   1313\u001b[0m           \u001b[38;5;124m\"\u001b[39m\u001b[38;5;124mnon-zero flags not allowed in calls to recv_into() on \u001b[39m\u001b[38;5;132;01m%s\u001b[39;00m\u001b[38;5;124m\"\u001b[39m \u001b[38;5;241m%\u001b[39m\n\u001b[0;32m   1314\u001b[0m           \u001b[38;5;28mself\u001b[39m\u001b[38;5;241m.\u001b[39m\u001b[38;5;18m__class__\u001b[39m)\n\u001b[1;32m-> 1315\u001b[0m     \u001b[38;5;28;01mreturn\u001b[39;00m \u001b[38;5;28;43mself\u001b[39;49m\u001b[38;5;241;43m.\u001b[39;49m\u001b[43mread\u001b[49m\u001b[43m(\u001b[49m\u001b[43mnbytes\u001b[49m\u001b[43m,\u001b[49m\u001b[43m \u001b[49m\u001b[43mbuffer\u001b[49m\u001b[43m)\u001b[49m\n\u001b[0;32m   1316\u001b[0m \u001b[38;5;28;01melse\u001b[39;00m:\n\u001b[0;32m   1317\u001b[0m     \u001b[38;5;28;01mreturn\u001b[39;00m \u001b[38;5;28msuper\u001b[39m()\u001b[38;5;241m.\u001b[39mrecv_into(buffer, nbytes, flags)\n",
            "File \u001b[1;32mc:\\Users\\jaime\\anaconda3\\Lib\\ssl.py:1167\u001b[0m, in \u001b[0;36mSSLSocket.read\u001b[1;34m(self, len, buffer)\u001b[0m\n\u001b[0;32m   1165\u001b[0m \u001b[38;5;28;01mtry\u001b[39;00m:\n\u001b[0;32m   1166\u001b[0m     \u001b[38;5;28;01mif\u001b[39;00m buffer \u001b[38;5;129;01mis\u001b[39;00m \u001b[38;5;129;01mnot\u001b[39;00m \u001b[38;5;28;01mNone\u001b[39;00m:\n\u001b[1;32m-> 1167\u001b[0m         \u001b[38;5;28;01mreturn\u001b[39;00m \u001b[38;5;28;43mself\u001b[39;49m\u001b[38;5;241;43m.\u001b[39;49m\u001b[43m_sslobj\u001b[49m\u001b[38;5;241;43m.\u001b[39;49m\u001b[43mread\u001b[49m\u001b[43m(\u001b[49m\u001b[38;5;28;43mlen\u001b[39;49m\u001b[43m,\u001b[49m\u001b[43m \u001b[49m\u001b[43mbuffer\u001b[49m\u001b[43m)\u001b[49m\n\u001b[0;32m   1168\u001b[0m     \u001b[38;5;28;01melse\u001b[39;00m:\n\u001b[0;32m   1169\u001b[0m         \u001b[38;5;28;01mreturn\u001b[39;00m \u001b[38;5;28mself\u001b[39m\u001b[38;5;241m.\u001b[39m_sslobj\u001b[38;5;241m.\u001b[39mread(\u001b[38;5;28mlen\u001b[39m)\n",
            "\u001b[1;31mKeyboardInterrupt\u001b[0m: "
          ]
        }
      ],
      "source": [
        "from urllib.request import urlretrieve\n",
        "import shutil\n",
        "\n",
        "url = \"https://s3.amazonaws.com/tripdata/202401-citibike-tripdata.zip\"\n",
        "urlretrieve(url, \"202401-citibike-tripdata.zip\") # Download dataset\n",
        "shutil.unpack_archive(\"202401-citibike-tripdata.zip\", \"202401-citibike-tripdata\") # Unzip dataset"
      ]
    },
    {
      "cell_type": "code",
      "execution_count": null,
      "metadata": {
        "colab": {
          "base_uri": "https://localhost:8080/"
        },
        "id": "441fecdd",
        "outputId": "f9bdc831-ee45-420e-d2e7-ca0b58e1d678"
      },
      "outputs": [
        {
          "name": "stdout",
          "output_type": "stream",
          "text": [
            "            ride_id  rideable_type              started_at  \\\n",
            "0  62EF1AC5BE598131   classic_bike 2024-01-24 09:03:33.533   \n",
            "1  8464E543DAB27DBF   classic_bike 2024-01-30 08:21:29.510   \n",
            "2  9C04FDC8549F5205  electric_bike 2024-01-22 21:18:25.199   \n",
            "3  7DD1703A3E0D8833  electric_bike 2024-01-31 22:15:49.861   \n",
            "4  6A96FCD170996E59   classic_bike 2024-01-29 22:52:28.276   \n",
            "\n",
            "                 ended_at         start_station_name start_station_id  \\\n",
            "0 2024-01-24 09:06:53.535           E 102 St & 1 Ave          7407.13   \n",
            "1 2024-01-30 08:29:03.304           E 102 St & 1 Ave          7407.13   \n",
            "2 2024-01-22 21:26:24.647            W 35 St & 8 Ave          6526.01   \n",
            "3 2024-01-31 22:22:45.520  Warren St & Roosevelt Ave          6346.07   \n",
            "4 2024-01-29 22:57:05.099            6 Ave & W 33 St          6364.07   \n",
            "\n",
            "           end_station_name end_station_id  start_lat  start_lng    end_lat  \\\n",
            "0  E 103 St & Lexington Ave        7463.09  40.786995 -73.941648  40.790305   \n",
            "1           E 91 St & 2 Ave        7286.01  40.786995 -73.941648  40.781153   \n",
            "2           1 Ave & E 39 St        6303.01  40.752762 -73.992805  40.747140   \n",
            "3    112 St & Northern Blvd        6683.01  40.749190 -73.870540  40.757880   \n",
            "4           W 29 St & 9 Ave        6416.06  40.749013 -73.988484  40.750073   \n",
            "\n",
            "     end_lng member_casual  \n",
            "0 -73.947558        member  \n",
            "1 -73.949630        member  \n",
            "2 -73.971130        member  \n",
            "3 -73.857630        member  \n",
            "4 -73.998393        member  \n",
            "\n",
            "Shape of the combined DataFrame: (1888085, 13)\n"
          ]
        }
      ],
      "source": [
        "import pandas as pd\n",
        "import os\n",
        "\n",
        "csv_dir = \"/content/202401-citibike-tripdata/\"\n",
        "csv_files = [f for f in os.listdir(csv_dir) if f.endswith('.csv')]\n",
        "dfs = []\n",
        "\n",
        "for csv_file in csv_files:\n",
        "    file_path = os.path.join(csv_dir, csv_file)\n",
        "    df_temp = pd.read_csv(file_path, dtype={\n",
        "    \"start_station_id\": \"string\",\n",
        "    \"end_station_id\": \"string\"\n",
        "}, parse_dates=[\"started_at\", \"ended_at\"])  # convert station ids to string for now\n",
        "    dfs.append(df_temp)\n",
        "\n",
        "df = pd.concat(dfs, ignore_index=True) # combine the 2 csv files\n",
        "print(df.head())\n",
        "print(f\"\\nShape of the combined DataFrame: {df.shape}\")"
      ]
    },
    {
      "cell_type": "markdown",
      "metadata": {
        "id": "HkVMFUSPLc-Z"
      },
      "source": [
        "# Data Preprocessing"
      ]
    },
    {
      "cell_type": "code",
      "execution_count": null,
      "metadata": {
        "colab": {
          "base_uri": "https://localhost:8080/",
          "height": 223
        },
        "id": "dX_b37jnNizC",
        "outputId": "27820e07-7a75-4762-a623-cff4f7f8f580"
      },
      "outputs": [
        {
          "name": "stdout",
          "output_type": "stream",
          "text": [
            "Found 337 rows with non-numeric station IDs\n"
          ]
        },
        {
          "data": {
            "application/vnd.google.colaboratory.intrinsic+json": {
              "summary": "{\n  \"name\": \"df\",\n  \"rows\": 5,\n  \"fields\": [\n    {\n      \"column\": \"start_station_id\",\n      \"properties\": {\n        \"dtype\": \"string\",\n        \"num_unique_values\": 3,\n        \"samples\": [\n          \"SYS016\",\n          \"6740.10\",\n          \"6432.11\"\n        ],\n        \"semantic_type\": \"\",\n        \"description\": \"\"\n      }\n    },\n    {\n      \"column\": \"end_station_id\",\n      \"properties\": {\n        \"dtype\": \"string\",\n        \"num_unique_values\": 4,\n        \"samples\": [\n          \"HB610\",\n          \"JC035\",\n          \"4768.02\"\n        ],\n        \"semantic_type\": \"\",\n        \"description\": \"\"\n      }\n    }\n  ]\n}",
              "type": "dataframe"
            },
            "text/html": [
              "\n",
              "  <div id=\"df-fd27197e-877e-4849-bd37-02cc66776505\" class=\"colab-df-container\">\n",
              "    <div>\n",
              "<style scoped>\n",
              "    .dataframe tbody tr th:only-of-type {\n",
              "        vertical-align: middle;\n",
              "    }\n",
              "\n",
              "    .dataframe tbody tr th {\n",
              "        vertical-align: top;\n",
              "    }\n",
              "\n",
              "    .dataframe thead th {\n",
              "        text-align: right;\n",
              "    }\n",
              "</style>\n",
              "<table border=\"1\" class=\"dataframe\">\n",
              "  <thead>\n",
              "    <tr style=\"text-align: right;\">\n",
              "      <th></th>\n",
              "      <th>start_station_id</th>\n",
              "      <th>end_station_id</th>\n",
              "    </tr>\n",
              "  </thead>\n",
              "  <tbody>\n",
              "    <tr>\n",
              "      <th>29386</th>\n",
              "      <td>SYS016</td>\n",
              "      <td>4768.02</td>\n",
              "    </tr>\n",
              "    <tr>\n",
              "      <th>52517</th>\n",
              "      <td>6740.10</td>\n",
              "      <td>HB610</td>\n",
              "    </tr>\n",
              "    <tr>\n",
              "      <th>55975</th>\n",
              "      <td>6740.10</td>\n",
              "      <td>HB610</td>\n",
              "    </tr>\n",
              "    <tr>\n",
              "      <th>67218</th>\n",
              "      <td>SYS016</td>\n",
              "      <td>5170.01</td>\n",
              "    </tr>\n",
              "    <tr>\n",
              "      <th>68710</th>\n",
              "      <td>6432.11</td>\n",
              "      <td>JC035</td>\n",
              "    </tr>\n",
              "  </tbody>\n",
              "</table>\n",
              "</div>\n",
              "    <div class=\"colab-df-buttons\">\n",
              "\n",
              "  <div class=\"colab-df-container\">\n",
              "    <button class=\"colab-df-convert\" onclick=\"convertToInteractive('df-fd27197e-877e-4849-bd37-02cc66776505')\"\n",
              "            title=\"Convert this dataframe to an interactive table.\"\n",
              "            style=\"display:none;\">\n",
              "\n",
              "  <svg xmlns=\"http://www.w3.org/2000/svg\" height=\"24px\" viewBox=\"0 -960 960 960\">\n",
              "    <path d=\"M120-120v-720h720v720H120Zm60-500h600v-160H180v160Zm220 220h160v-160H400v160Zm0 220h160v-160H400v160ZM180-400h160v-160H180v160Zm440 0h160v-160H620v160ZM180-180h160v-160H180v160Zm440 0h160v-160H620v160Z\"/>\n",
              "  </svg>\n",
              "    </button>\n",
              "\n",
              "  <style>\n",
              "    .colab-df-container {\n",
              "      display:flex;\n",
              "      gap: 12px;\n",
              "    }\n",
              "\n",
              "    .colab-df-convert {\n",
              "      background-color: #E8F0FE;\n",
              "      border: none;\n",
              "      border-radius: 50%;\n",
              "      cursor: pointer;\n",
              "      display: none;\n",
              "      fill: #1967D2;\n",
              "      height: 32px;\n",
              "      padding: 0 0 0 0;\n",
              "      width: 32px;\n",
              "    }\n",
              "\n",
              "    .colab-df-convert:hover {\n",
              "      background-color: #E2EBFA;\n",
              "      box-shadow: 0px 1px 2px rgba(60, 64, 67, 0.3), 0px 1px 3px 1px rgba(60, 64, 67, 0.15);\n",
              "      fill: #174EA6;\n",
              "    }\n",
              "\n",
              "    .colab-df-buttons div {\n",
              "      margin-bottom: 4px;\n",
              "    }\n",
              "\n",
              "    [theme=dark] .colab-df-convert {\n",
              "      background-color: #3B4455;\n",
              "      fill: #D2E3FC;\n",
              "    }\n",
              "\n",
              "    [theme=dark] .colab-df-convert:hover {\n",
              "      background-color: #434B5C;\n",
              "      box-shadow: 0px 1px 3px 1px rgba(0, 0, 0, 0.15);\n",
              "      filter: drop-shadow(0px 1px 2px rgba(0, 0, 0, 0.3));\n",
              "      fill: #FFFFFF;\n",
              "    }\n",
              "  </style>\n",
              "\n",
              "    <script>\n",
              "      const buttonEl =\n",
              "        document.querySelector('#df-fd27197e-877e-4849-bd37-02cc66776505 button.colab-df-convert');\n",
              "      buttonEl.style.display =\n",
              "        google.colab.kernel.accessAllowed ? 'block' : 'none';\n",
              "\n",
              "      async function convertToInteractive(key) {\n",
              "        const element = document.querySelector('#df-fd27197e-877e-4849-bd37-02cc66776505');\n",
              "        const dataTable =\n",
              "          await google.colab.kernel.invokeFunction('convertToInteractive',\n",
              "                                                    [key], {});\n",
              "        if (!dataTable) return;\n",
              "\n",
              "        const docLinkHtml = 'Like what you see? Visit the ' +\n",
              "          '<a target=\"_blank\" href=https://colab.research.google.com/notebooks/data_table.ipynb>data table notebook</a>'\n",
              "          + ' to learn more about interactive tables.';\n",
              "        element.innerHTML = '';\n",
              "        dataTable['output_type'] = 'display_data';\n",
              "        await google.colab.output.renderOutput(dataTable, element);\n",
              "        const docLink = document.createElement('div');\n",
              "        docLink.innerHTML = docLinkHtml;\n",
              "        element.appendChild(docLink);\n",
              "      }\n",
              "    </script>\n",
              "  </div>\n",
              "\n",
              "\n",
              "    <div id=\"df-e5174673-d2b6-4b11-bbff-f15d1027e484\">\n",
              "      <button class=\"colab-df-quickchart\" onclick=\"quickchart('df-e5174673-d2b6-4b11-bbff-f15d1027e484')\"\n",
              "                title=\"Suggest charts\"\n",
              "                style=\"display:none;\">\n",
              "\n",
              "<svg xmlns=\"http://www.w3.org/2000/svg\" height=\"24px\"viewBox=\"0 0 24 24\"\n",
              "     width=\"24px\">\n",
              "    <g>\n",
              "        <path d=\"M19 3H5c-1.1 0-2 .9-2 2v14c0 1.1.9 2 2 2h14c1.1 0 2-.9 2-2V5c0-1.1-.9-2-2-2zM9 17H7v-7h2v7zm4 0h-2V7h2v10zm4 0h-2v-4h2v4z\"/>\n",
              "    </g>\n",
              "</svg>\n",
              "      </button>\n",
              "\n",
              "<style>\n",
              "  .colab-df-quickchart {\n",
              "      --bg-color: #E8F0FE;\n",
              "      --fill-color: #1967D2;\n",
              "      --hover-bg-color: #E2EBFA;\n",
              "      --hover-fill-color: #174EA6;\n",
              "      --disabled-fill-color: #AAA;\n",
              "      --disabled-bg-color: #DDD;\n",
              "  }\n",
              "\n",
              "  [theme=dark] .colab-df-quickchart {\n",
              "      --bg-color: #3B4455;\n",
              "      --fill-color: #D2E3FC;\n",
              "      --hover-bg-color: #434B5C;\n",
              "      --hover-fill-color: #FFFFFF;\n",
              "      --disabled-bg-color: #3B4455;\n",
              "      --disabled-fill-color: #666;\n",
              "  }\n",
              "\n",
              "  .colab-df-quickchart {\n",
              "    background-color: var(--bg-color);\n",
              "    border: none;\n",
              "    border-radius: 50%;\n",
              "    cursor: pointer;\n",
              "    display: none;\n",
              "    fill: var(--fill-color);\n",
              "    height: 32px;\n",
              "    padding: 0;\n",
              "    width: 32px;\n",
              "  }\n",
              "\n",
              "  .colab-df-quickchart:hover {\n",
              "    background-color: var(--hover-bg-color);\n",
              "    box-shadow: 0 1px 2px rgba(60, 64, 67, 0.3), 0 1px 3px 1px rgba(60, 64, 67, 0.15);\n",
              "    fill: var(--button-hover-fill-color);\n",
              "  }\n",
              "\n",
              "  .colab-df-quickchart-complete:disabled,\n",
              "  .colab-df-quickchart-complete:disabled:hover {\n",
              "    background-color: var(--disabled-bg-color);\n",
              "    fill: var(--disabled-fill-color);\n",
              "    box-shadow: none;\n",
              "  }\n",
              "\n",
              "  .colab-df-spinner {\n",
              "    border: 2px solid var(--fill-color);\n",
              "    border-color: transparent;\n",
              "    border-bottom-color: var(--fill-color);\n",
              "    animation:\n",
              "      spin 1s steps(1) infinite;\n",
              "  }\n",
              "\n",
              "  @keyframes spin {\n",
              "    0% {\n",
              "      border-color: transparent;\n",
              "      border-bottom-color: var(--fill-color);\n",
              "      border-left-color: var(--fill-color);\n",
              "    }\n",
              "    20% {\n",
              "      border-color: transparent;\n",
              "      border-left-color: var(--fill-color);\n",
              "      border-top-color: var(--fill-color);\n",
              "    }\n",
              "    30% {\n",
              "      border-color: transparent;\n",
              "      border-left-color: var(--fill-color);\n",
              "      border-top-color: var(--fill-color);\n",
              "      border-right-color: var(--fill-color);\n",
              "    }\n",
              "    40% {\n",
              "      border-color: transparent;\n",
              "      border-right-color: var(--fill-color);\n",
              "      border-top-color: var(--fill-color);\n",
              "    }\n",
              "    60% {\n",
              "      border-color: transparent;\n",
              "      border-right-color: var(--fill-color);\n",
              "    }\n",
              "    80% {\n",
              "      border-color: transparent;\n",
              "      border-right-color: var(--fill-color);\n",
              "      border-bottom-color: var(--fill-color);\n",
              "    }\n",
              "    90% {\n",
              "      border-color: transparent;\n",
              "      border-bottom-color: var(--fill-color);\n",
              "    }\n",
              "  }\n",
              "</style>\n",
              "\n",
              "      <script>\n",
              "        async function quickchart(key) {\n",
              "          const quickchartButtonEl =\n",
              "            document.querySelector('#' + key + ' button');\n",
              "          quickchartButtonEl.disabled = true;  // To prevent multiple clicks.\n",
              "          quickchartButtonEl.classList.add('colab-df-spinner');\n",
              "          try {\n",
              "            const charts = await google.colab.kernel.invokeFunction(\n",
              "                'suggestCharts', [key], {});\n",
              "          } catch (error) {\n",
              "            console.error('Error during call to suggestCharts:', error);\n",
              "          }\n",
              "          quickchartButtonEl.classList.remove('colab-df-spinner');\n",
              "          quickchartButtonEl.classList.add('colab-df-quickchart-complete');\n",
              "        }\n",
              "        (() => {\n",
              "          let quickchartButtonEl =\n",
              "            document.querySelector('#df-e5174673-d2b6-4b11-bbff-f15d1027e484 button');\n",
              "          quickchartButtonEl.style.display =\n",
              "            google.colab.kernel.accessAllowed ? 'block' : 'none';\n",
              "        })();\n",
              "      </script>\n",
              "    </div>\n",
              "\n",
              "    </div>\n",
              "  </div>\n"
            ],
            "text/plain": [
              "      start_station_id end_station_id\n",
              "29386           SYS016        4768.02\n",
              "52517          6740.10          HB610\n",
              "55975          6740.10          HB610\n",
              "67218           SYS016        5170.01\n",
              "68710          6432.11          JC035"
            ]
          },
          "execution_count": 3,
          "metadata": {},
          "output_type": "execute_result"
        }
      ],
      "source": [
        "mask_start = ~df[\"start_station_id\"].str.replace(\".\", \"\", regex=False).str.isnumeric()\n",
        "mask_end = ~df[\"end_station_id\"].str.replace(\".\", \"\", regex=False).str.isnumeric() # Find non-numeric station ids\n",
        "mask = mask_start | mask_end\n",
        "print(f\"Found {mask.sum()} rows with non-numeric station IDs\")\n",
        "df.loc[mask, [\"start_station_id\", \"end_station_id\"]].head()"
      ]
    },
    {
      "cell_type": "code",
      "execution_count": null,
      "metadata": {
        "id": "2O2Ht8wdNkUH"
      },
      "outputs": [],
      "source": [
        "df = df[~mask].copy() # Remove the station ids\n",
        "df[\"start_station_id\"] = df[\"start_station_id\"].astype(float)\n",
        "df[\"end_station_id\"] = df[\"end_station_id\"].astype(float) # Convert station ids to float"
      ]
    },
    {
      "cell_type": "code",
      "execution_count": null,
      "metadata": {
        "colab": {
          "base_uri": "https://localhost:8080/"
        },
        "id": "0e632295",
        "outputId": "1cf4bf24-b708-4685-acc5-dc136e16674d"
      },
      "outputs": [
        {
          "name": "stdout",
          "output_type": "stream",
          "text": [
            "Number of rows with N/A station IDs: 0\n"
          ]
        }
      ],
      "source": [
        "na_station_ids_df = df[df['start_station_id'].isna() | df['end_station_id'].isna()]\n",
        "print(f\"Number of rows with N/A station IDs: {len(na_station_ids_df)}\")\n",
        "df = df.dropna(subset=['start_station_id', 'end_station_id'])"
      ]
    },
    {
      "cell_type": "markdown",
      "metadata": {
        "id": "zTsZEWgyLrP9"
      },
      "source": [
        "# Data Visualization"
      ]
    },
    {
      "cell_type": "code",
      "execution_count": null,
      "metadata": {
        "colab": {
          "base_uri": "https://localhost:8080/",
          "height": 472
        },
        "id": "WhWFm7NgPugC",
        "outputId": "40afb4b7-140f-47fd-a625-cb970316f5cd"
      },
      "outputs": [
        {
          "data": {
            "image/png": "[encoded data removed]",
            "text/plain": [
              "<Figure size 640x480 with 1 Axes>"
            ]
          },
          "metadata": {},
          "output_type": "display_data"
        }
      ],
      "source": [
        "import matplotlib.pyplot as plt\n",
        "\n",
        "rideable_type_counts = df[\"rideable_type\"].value_counts()\n",
        "\n",
        "plt.bar(rideable_type_counts.index, rideable_type_counts.values)\n",
        "plt.xlabel(\"Rideable Type\")\n",
        "plt.ylabel(\"Count\")\n",
        "plt.title(\"Distribution of Rideable Types\")\n",
        "plt.show()"
      ]
    },
    {
      "cell_type": "code",
      "execution_count": null,
      "metadata": {
        "colab": {
          "base_uri": "https://localhost:8080/",
          "height": 472
        },
        "id": "HU2ROacDR2Dy",
        "outputId": "100c7762-669e-470a-b508-1fb1891ac18c"
      },
      "outputs": [
        {
          "data": {
            "image/png": "[encoded data removed]",
            "text/plain": [
              "<Figure size 640x480 with 1 Axes>"
            ]
          },
          "metadata": {},
          "output_type": "display_data"
        }
      ],
      "source": [
        "user_type_counts = df[\"member_casual\"].value_counts()\n",
        "\n",
        "plt.bar(user_type_counts.index, user_type_counts.values)\n",
        "plt.xlabel(\"User Type\")\n",
        "plt.ylabel(\"Count\")\n",
        "plt.title(\"Distribution of Regular Members vs Casual Riders\")\n",
        "plt.show()"
      ]
    },
    {
      "cell_type": "code",
      "execution_count": null,
      "metadata": {
        "colab": {
          "base_uri": "https://localhost:8080/",
          "height": 206
        },
        "id": "9c7a9af3",
        "outputId": "d3912ef0-b5b5-4edb-c1e1-3403b0534e72"
      },
      "outputs": [
        {
          "data": {
            "application/vnd.google.colaboratory.intrinsic+json": {
              "summary": "{\n  \"name\": \"station_counts_df\",\n  \"rows\": 2126,\n  \"fields\": [\n    {\n      \"column\": \"station_id\",\n      \"properties\": {\n        \"dtype\": \"number\",\n        \"std\": 1602.7070963053493,\n        \"min\": 2733.03,\n        \"max\": 8897.05,\n        \"num_unique_values\": 2126,\n        \"samples\": [\n          4066.15,\n          8462.09,\n          7800.03\n        ],\n        \"semantic_type\": \"\",\n        \"description\": \"\"\n      }\n    },\n    {\n      \"column\": \"start_count\",\n      \"properties\": {\n        \"dtype\": \"number\",\n        \"std\": 1082.6085230320114,\n        \"min\": 0.0,\n        \"max\": 8320.0,\n        \"num_unique_values\": 1221,\n        \"samples\": [\n          285.0,\n          1022.0,\n          124.0\n        ],\n        \"semantic_type\": \"\",\n        \"description\": \"\"\n      }\n    },\n    {\n      \"column\": \"end_count\",\n      \"properties\": {\n        \"dtype\": \"number\",\n        \"std\": 1086,\n        \"min\": 4,\n        \"max\": 8309,\n        \"num_unique_values\": 1221,\n        \"samples\": [\n          200,\n          947,\n          105\n        ],\n        \"semantic_type\": \"\",\n        \"description\": \"\"\n      }\n    }\n  ]\n}",
              "type": "dataframe",
              "variable_name": "station_counts_df"
            },
            "text/html": [
              "\n",
              "  <div id=\"df-f7f24f09-e144-438b-9736-7bfeeb01b1f8\" class=\"colab-df-container\">\n",
              "    <div>\n",
              "<style scoped>\n",
              "    .dataframe tbody tr th:only-of-type {\n",
              "        vertical-align: middle;\n",
              "    }\n",
              "\n",
              "    .dataframe tbody tr th {\n",
              "        vertical-align: top;\n",
              "    }\n",
              "\n",
              "    .dataframe thead th {\n",
              "        text-align: right;\n",
              "    }\n",
              "</style>\n",
              "<table border=\"1\" class=\"dataframe\">\n",
              "  <thead>\n",
              "    <tr style=\"text-align: right;\">\n",
              "      <th></th>\n",
              "      <th>station_id</th>\n",
              "      <th>start_count</th>\n",
              "      <th>end_count</th>\n",
              "    </tr>\n",
              "  </thead>\n",
              "  <tbody>\n",
              "    <tr>\n",
              "      <th>0</th>\n",
              "      <td>2733.03</td>\n",
              "      <td>64.0</td>\n",
              "      <td>69</td>\n",
              "    </tr>\n",
              "    <tr>\n",
              "      <th>1</th>\n",
              "      <td>2782.02</td>\n",
              "      <td>102.0</td>\n",
              "      <td>97</td>\n",
              "    </tr>\n",
              "    <tr>\n",
              "      <th>2</th>\n",
              "      <td>2821.05</td>\n",
              "      <td>156.0</td>\n",
              "      <td>167</td>\n",
              "    </tr>\n",
              "    <tr>\n",
              "      <th>3</th>\n",
              "      <td>2832.03</td>\n",
              "      <td>119.0</td>\n",
              "      <td>124</td>\n",
              "    </tr>\n",
              "    <tr>\n",
              "      <th>4</th>\n",
              "      <td>2861.02</td>\n",
              "      <td>113.0</td>\n",
              "      <td>100</td>\n",
              "    </tr>\n",
              "  </tbody>\n",
              "</table>\n",
              "</div>\n",
              "    <div class=\"colab-df-buttons\">\n",
              "\n",
              "  <div class=\"colab-df-container\">\n",
              "    <button class=\"colab-df-convert\" onclick=\"convertToInteractive('df-f7f24f09-e144-438b-9736-7bfeeb01b1f8')\"\n",
              "            title=\"Convert this dataframe to an interactive table.\"\n",
              "            style=\"display:none;\">\n",
              "\n",
              "  <svg xmlns=\"http://www.w3.org/2000/svg\" height=\"24px\" viewBox=\"0 -960 960 960\">\n",
              "    <path d=\"M120-120v-720h720v720H120Zm60-500h600v-160H180v160Zm220 220h160v-160H400v160Zm0 220h160v-160H400v160ZM180-400h160v-160H180v160Zm440 0h160v-160H620v160ZM180-180h160v-160H180v160Zm440 0h160v-160H620v160Z\"/>\n",
              "  </svg>\n",
              "    </button>\n",
              "\n",
              "  <style>\n",
              "    .colab-df-container {\n",
              "      display:flex;\n",
              "      gap: 12px;\n",
              "    }\n",
              "\n",
              "    .colab-df-convert {\n",
              "      background-color: #E8F0FE;\n",
              "      border: none;\n",
              "      border-radius: 50%;\n",
              "      cursor: pointer;\n",
              "      display: none;\n",
              "      fill: #1967D2;\n",
              "      height: 32px;\n",
              "      padding: 0 0 0 0;\n",
              "      width: 32px;\n",
              "    }\n",
              "\n",
              "    .colab-df-convert:hover {\n",
              "      background-color: #E2EBFA;\n",
              "      box-shadow: 0px 1px 2px rgba(60, 64, 67, 0.3), 0px 1px 3px 1px rgba(60, 64, 67, 0.15);\n",
              "      fill: #174EA6;\n",
              "    }\n",
              "\n",
              "    .colab-df-buttons div {\n",
              "      margin-bottom: 4px;\n",
              "    }\n",
              "\n",
              "    [theme=dark] .colab-df-convert {\n",
              "      background-color: #3B4455;\n",
              "      fill: #D2E3FC;\n",
              "    }\n",
              "\n",
              "    [theme=dark] .colab-df-convert:hover {\n",
              "      background-color: #434B5C;\n",
              "      box-shadow: 0px 1px 3px 1px rgba(0, 0, 0, 0.15);\n",
              "      filter: drop-shadow(0px 1px 2px rgba(0, 0, 0, 0.3));\n",
              "      fill: #FFFFFF;\n",
              "    }\n",
              "  </style>\n",
              "\n",
              "    <script>\n",
              "      const buttonEl =\n",
              "        document.querySelector('#df-f7f24f09-e144-438b-9736-7bfeeb01b1f8 button.colab-df-convert');\n",
              "      buttonEl.style.display =\n",
              "        google.colab.kernel.accessAllowed ? 'block' : 'none';\n",
              "\n",
              "      async function convertToInteractive(key) {\n",
              "        const element = document.querySelector('#df-f7f24f09-e144-438b-9736-7bfeeb01b1f8');\n",
              "        const dataTable =\n",
              "          await google.colab.kernel.invokeFunction('convertToInteractive',\n",
              "                                                    [key], {});\n",
              "        if (!dataTable) return;\n",
              "\n",
              "        const docLinkHtml = 'Like what you see? Visit the ' +\n",
              "          '<a target=\"_blank\" href=https://colab.research.google.com/notebooks/data_table.ipynb>data table notebook</a>'\n",
              "          + ' to learn more about interactive tables.';\n",
              "        element.innerHTML = '';\n",
              "        dataTable['output_type'] = 'display_data';\n",
              "        await google.colab.output.renderOutput(dataTable, element);\n",
              "        const docLink = document.createElement('div');\n",
              "        docLink.innerHTML = docLinkHtml;\n",
              "        element.appendChild(docLink);\n",
              "      }\n",
              "    </script>\n",
              "  </div>\n",
              "\n",
              "\n",
              "    <div id=\"df-75e1b28c-7b29-4a93-918b-6ca2d07fc351\">\n",
              "      <button class=\"colab-df-quickchart\" onclick=\"quickchart('df-75e1b28c-7b29-4a93-918b-6ca2d07fc351')\"\n",
              "                title=\"Suggest charts\"\n",
              "                style=\"display:none;\">\n",
              "\n",
              "<svg xmlns=\"http://www.w3.org/2000/svg\" height=\"24px\"viewBox=\"0 0 24 24\"\n",
              "     width=\"24px\">\n",
              "    <g>\n",
              "        <path d=\"M19 3H5c-1.1 0-2 .9-2 2v14c0 1.1.9 2 2 2h14c1.1 0 2-.9 2-2V5c0-1.1-.9-2-2-2zM9 17H7v-7h2v7zm4 0h-2V7h2v10zm4 0h-2v-4h2v4z\"/>\n",
              "    </g>\n",
              "</svg>\n",
              "      </button>\n",
              "\n",
              "<style>\n",
              "  .colab-df-quickchart {\n",
              "      --bg-color: #E8F0FE;\n",
              "      --fill-color: #1967D2;\n",
              "      --hover-bg-color: #E2EBFA;\n",
              "      --hover-fill-color: #174EA6;\n",
              "      --disabled-fill-color: #AAA;\n",
              "      --disabled-bg-color: #DDD;\n",
              "  }\n",
              "\n",
              "  [theme=dark] .colab-df-quickchart {\n",
              "      --bg-color: #3B4455;\n",
              "      --fill-color: #D2E3FC;\n",
              "      --hover-bg-color: #434B5C;\n",
              "      --hover-fill-color: #FFFFFF;\n",
              "      --disabled-bg-color: #3B4455;\n",
              "      --disabled-fill-color: #666;\n",
              "  }\n",
              "\n",
              "  .colab-df-quickchart {\n",
              "    background-color: var(--bg-color);\n",
              "    border: none;\n",
              "    border-radius: 50%;\n",
              "    cursor: pointer;\n",
              "    display: none;\n",
              "    fill: var(--fill-color);\n",
              "    height: 32px;\n",
              "    padding: 0;\n",
              "    width: 32px;\n",
              "  }\n",
              "\n",
              "  .colab-df-quickchart:hover {\n",
              "    background-color: var(--hover-bg-color);\n",
              "    box-shadow: 0 1px 2px rgba(60, 64, 67, 0.3), 0 1px 3px 1px rgba(60, 64, 67, 0.15);\n",
              "    fill: var(--button-hover-fill-color);\n",
              "  }\n",
              "\n",
              "  .colab-df-quickchart-complete:disabled,\n",
              "  .colab-df-quickchart-complete:disabled:hover {\n",
              "    background-color: var(--disabled-bg-color);\n",
              "    fill: var(--disabled-fill-color);\n",
              "    box-shadow: none;\n",
              "  }\n",
              "\n",
              "  .colab-df-spinner {\n",
              "    border: 2px solid var(--fill-color);\n",
              "    border-color: transparent;\n",
              "    border-bottom-color: var(--fill-color);\n",
              "    animation:\n",
              "      spin 1s steps(1) infinite;\n",
              "  }\n",
              "\n",
              "  @keyframes spin {\n",
              "    0% {\n",
              "      border-color: transparent;\n",
              "      border-bottom-color: var(--fill-color);\n",
              "      border-left-color: var(--fill-color);\n",
              "    }\n",
              "    20% {\n",
              "      border-color: transparent;\n",
              "      border-left-color: var(--fill-color);\n",
              "      border-top-color: var(--fill-color);\n",
              "    }\n",
              "    30% {\n",
              "      border-color: transparent;\n",
              "      border-left-color: var(--fill-color);\n",
              "      border-top-color: var(--fill-color);\n",
              "      border-right-color: var(--fill-color);\n",
              "    }\n",
              "    40% {\n",
              "      border-color: transparent;\n",
              "      border-right-color: var(--fill-color);\n",
              "      border-top-color: var(--fill-color);\n",
              "    }\n",
              "    60% {\n",
              "      border-color: transparent;\n",
              "      border-right-color: var(--fill-color);\n",
              "    }\n",
              "    80% {\n",
              "      border-color: transparent;\n",
              "      border-right-color: var(--fill-color);\n",
              "      border-bottom-color: var(--fill-color);\n",
              "    }\n",
              "    90% {\n",
              "      border-color: transparent;\n",
              "      border-bottom-color: var(--fill-color);\n",
              "    }\n",
              "  }\n",
              "</style>\n",
              "\n",
              "      <script>\n",
              "        async function quickchart(key) {\n",
              "          const quickchartButtonEl =\n",
              "            document.querySelector('#' + key + ' button');\n",
              "          quickchartButtonEl.disabled = true;  // To prevent multiple clicks.\n",
              "          quickchartButtonEl.classList.add('colab-df-spinner');\n",
              "          try {\n",
              "            const charts = await google.colab.kernel.invokeFunction(\n",
              "                'suggestCharts', [key], {});\n",
              "          } catch (error) {\n",
              "            console.error('Error during call to suggestCharts:', error);\n",
              "          }\n",
              "          quickchartButtonEl.classList.remove('colab-df-spinner');\n",
              "          quickchartButtonEl.classList.add('colab-df-quickchart-complete');\n",
              "        }\n",
              "        (() => {\n",
              "          let quickchartButtonEl =\n",
              "            document.querySelector('#df-75e1b28c-7b29-4a93-918b-6ca2d07fc351 button');\n",
              "          quickchartButtonEl.style.display =\n",
              "            google.colab.kernel.accessAllowed ? 'block' : 'none';\n",
              "        })();\n",
              "      </script>\n",
              "    </div>\n",
              "\n",
              "    </div>\n",
              "  </div>\n"
            ],
            "text/plain": [
              "   station_id  start_count  end_count\n",
              "0     2733.03         64.0         69\n",
              "1     2782.02        102.0         97\n",
              "2     2821.05        156.0        167\n",
              "3     2832.03        119.0        124\n",
              "4     2861.02        113.0        100"
            ]
          },
          "execution_count": 8,
          "metadata": {},
          "output_type": "execute_result"
        }
      ],
      "source": [
        "start_station_counts = df[\"start_station_id\"].value_counts()\n",
        "end_station_counts = df[\"end_station_id\"].value_counts()\n",
        "start_station_df = start_station_counts.reset_index()\n",
        "start_station_df.columns = [\"station_id\", \"start_count\"]\n",
        "\n",
        "end_station_df = end_station_counts.reset_index()\n",
        "end_station_df.columns = [\"station_id\", \"end_count\"]\n",
        "\n",
        "station_counts_df = pd.merge(start_station_df, end_station_df, on=\"station_id\", how=\"outer\").fillna(0)\n",
        "station_counts_df.head()"
      ]
    },
    {
      "cell_type": "code",
      "execution_count": null,
      "metadata": {
        "colab": {
          "base_uri": "https://localhost:8080/",
          "height": 594
        },
        "id": "aab1ed07",
        "outputId": "0ab25c2d-c26a-4249-ea07-2ffa249eebb5"
      },
      "outputs": [
        {
          "data": {
            "image/png": "[encoded data removed]",
            "text/plain": [
              "<Figure size 1500x700 with 1 Axes>"
            ]
          },
          "metadata": {},
          "output_type": "display_data"
        }
      ],
      "source": [
        "import numpy as np\n",
        "\n",
        "n_stations = len(station_counts_df)\n",
        "bar_width = 0.35\n",
        "index = np.arange(n_stations)\n",
        "\n",
        "plt.figure(figsize=(15, 7))\n",
        "plt.bar(index, station_counts_df[\"start_count\"], bar_width, label=\"Start Count\")\n",
        "plt.bar(index + bar_width, station_counts_df[\"end_count\"], bar_width, label=\"End Count\")\n",
        "\n",
        "plt.xlabel(\"Station ID Index\")\n",
        "plt.ylabel(\"Count\")\n",
        "plt.title(\"Start and End Station Counts by Station ID\")\n",
        "plt.xticks(index + bar_width / 2, station_counts_df[\"station_id\"], rotation=90)\n",
        "plt.legend()\n",
        "plt.tight_layout()\n",
        "plt.show()"
      ]
    },
    {
      "cell_type": "code",
      "execution_count": null,
      "metadata": {
        "colab": {
          "base_uri": "https://localhost:8080/"
        },
        "id": "Ccy4UUiOVFMM",
        "outputId": "ff230a08-a143-464c-87bf-b830b9581a84"
      },
      "outputs": [
        {
          "data": {
            "text/plain": [
              "2126"
            ]
          },
          "execution_count": 10,
          "metadata": {},
          "output_type": "execute_result"
        }
      ],
      "source": [
        "n_stations"
      ]
    },
    {
      "cell_type": "code",
      "execution_count": null,
      "metadata": {
        "colab": {
          "base_uri": "https://localhost:8080/",
          "height": 192
        },
        "id": "NZpnbdGVVF-B",
        "outputId": "b10e8413-4829-4c71-cfb3-e986da9c4b0a"
      },
      "outputs": [
        {
          "name": "stdout",
          "output_type": "stream",
          "text": [
            "Station(s) with start_count > 6000:\n"
          ]
        },
        {
          "data": {
            "application/vnd.google.colaboratory.intrinsic+json": {
              "summary": "{\n  \"name\": \"stations_with_high_start_count\",\n  \"rows\": 4,\n  \"fields\": [\n    {\n      \"column\": \"station_id\",\n      \"properties\": {\n        \"dtype\": \"number\",\n        \"std\": 287.4439268216788,\n        \"min\": 6140.05,\n        \"max\": 6822.09,\n        \"num_unique_values\": 4,\n        \"samples\": [\n          6331.01,\n          6822.09,\n          6140.05\n        ],\n        \"semantic_type\": \"\",\n        \"description\": \"\"\n      }\n    },\n    {\n      \"column\": \"start_count\",\n      \"properties\": {\n        \"dtype\": \"number\",\n        \"std\": 1033.5780489800145,\n        \"min\": 6020.0,\n        \"max\": 8320.0,\n        \"num_unique_values\": 4,\n        \"samples\": [\n          6020.0,\n          6554.0,\n          8320.0\n        ],\n        \"semantic_type\": \"\",\n        \"description\": \"\"\n      }\n    },\n    {\n      \"column\": \"end_count\",\n      \"properties\": {\n        \"dtype\": \"number\",\n        \"std\": 1009,\n        \"min\": 6051,\n        \"max\": 8309,\n        \"num_unique_values\": 4,\n        \"samples\": [\n          6051,\n          6615,\n          8309\n        ],\n        \"semantic_type\": \"\",\n        \"description\": \"\"\n      }\n    }\n  ]\n}",
              "type": "dataframe",
              "variable_name": "stations_with_high_start_count"
            },
            "text/html": [
              "\n",
              "  <div id=\"df-45d2067f-2037-4715-9103-bf365193a22b\" class=\"colab-df-container\">\n",
              "    <div>\n",
              "<style scoped>\n",
              "    .dataframe tbody tr th:only-of-type {\n",
              "        vertical-align: middle;\n",
              "    }\n",
              "\n",
              "    .dataframe tbody tr th {\n",
              "        vertical-align: top;\n",
              "    }\n",
              "\n",
              "    .dataframe thead th {\n",
              "        text-align: right;\n",
              "    }\n",
              "</style>\n",
              "<table border=\"1\" class=\"dataframe\">\n",
              "  <thead>\n",
              "    <tr style=\"text-align: right;\">\n",
              "      <th></th>\n",
              "      <th>station_id</th>\n",
              "      <th>start_count</th>\n",
              "      <th>end_count</th>\n",
              "    </tr>\n",
              "  </thead>\n",
              "  <tbody>\n",
              "    <tr>\n",
              "      <th>1048</th>\n",
              "      <td>6140.05</td>\n",
              "      <td>8320.0</td>\n",
              "      <td>8309</td>\n",
              "    </tr>\n",
              "    <tr>\n",
              "      <th>1162</th>\n",
              "      <td>6331.01</td>\n",
              "      <td>6020.0</td>\n",
              "      <td>6051</td>\n",
              "    </tr>\n",
              "    <tr>\n",
              "      <th>1218</th>\n",
              "      <td>6450.05</td>\n",
              "      <td>6325.0</td>\n",
              "      <td>6364</td>\n",
              "    </tr>\n",
              "    <tr>\n",
              "      <th>1407</th>\n",
              "      <td>6822.09</td>\n",
              "      <td>6554.0</td>\n",
              "      <td>6615</td>\n",
              "    </tr>\n",
              "  </tbody>\n",
              "</table>\n",
              "</div>\n",
              "    <div class=\"colab-df-buttons\">\n",
              "\n",
              "  <div class=\"colab-df-container\">\n",
              "    <button class=\"colab-df-convert\" onclick=\"convertToInteractive('df-45d2067f-2037-4715-9103-bf365193a22b')\"\n",
              "            title=\"Convert this dataframe to an interactive table.\"\n",
              "            style=\"display:none;\">\n",
              "\n",
              "  <svg xmlns=\"http://www.w3.org/2000/svg\" height=\"24px\" viewBox=\"0 -960 960 960\">\n",
              "    <path d=\"M120-120v-720h720v720H120Zm60-500h600v-160H180v160Zm220 220h160v-160H400v160Zm0 220h160v-160H400v160ZM180-400h160v-160H180v160Zm440 0h160v-160H620v160ZM180-180h160v-160H180v160Zm440 0h160v-160H620v160Z\"/>\n",
              "  </svg>\n",
              "    </button>\n",
              "\n",
              "  <style>\n",
              "    .colab-df-container {\n",
              "      display:flex;\n",
              "      gap: 12px;\n",
              "    }\n",
              "\n",
              "    .colab-df-convert {\n",
              "      background-color: #E8F0FE;\n",
              "      border: none;\n",
              "      border-radius: 50%;\n",
              "      cursor: pointer;\n",
              "      display: none;\n",
              "      fill: #1967D2;\n",
              "      height: 32px;\n",
              "      padding: 0 0 0 0;\n",
              "      width: 32px;\n",
              "    }\n",
              "\n",
              "    .colab-df-convert:hover {\n",
              "      background-color: #E2EBFA;\n",
              "      box-shadow: 0px 1px 2px rgba(60, 64, 67, 0.3), 0px 1px 3px 1px rgba(60, 64, 67, 0.15);\n",
              "      fill: #174EA6;\n",
              "    }\n",
              "\n",
              "    .colab-df-buttons div {\n",
              "      margin-bottom: 4px;\n",
              "    }\n",
              "\n",
              "    [theme=dark] .colab-df-convert {\n",
              "      background-color: #3B4455;\n",
              "      fill: #D2E3FC;\n",
              "    }\n",
              "\n",
              "    [theme=dark] .colab-df-convert:hover {\n",
              "      background-color: #434B5C;\n",
              "      box-shadow: 0px 1px 3px 1px rgba(0, 0, 0, 0.15);\n",
              "      filter: drop-shadow(0px 1px 2px rgba(0, 0, 0, 0.3));\n",
              "      fill: #FFFFFF;\n",
              "    }\n",
              "  </style>\n",
              "\n",
              "    <script>\n",
              "      const buttonEl =\n",
              "        document.querySelector('#df-45d2067f-2037-4715-9103-bf365193a22b button.colab-df-convert');\n",
              "      buttonEl.style.display =\n",
              "        google.colab.kernel.accessAllowed ? 'block' : 'none';\n",
              "\n",
              "      async function convertToInteractive(key) {\n",
              "        const element = document.querySelector('#df-45d2067f-2037-4715-9103-bf365193a22b');\n",
              "        const dataTable =\n",
              "          await google.colab.kernel.invokeFunction('convertToInteractive',\n",
              "                                                    [key], {});\n",
              "        if (!dataTable) return;\n",
              "\n",
              "        const docLinkHtml = 'Like what you see? Visit the ' +\n",
              "          '<a target=\"_blank\" href=https://colab.research.google.com/notebooks/data_table.ipynb>data table notebook</a>'\n",
              "          + ' to learn more about interactive tables.';\n",
              "        element.innerHTML = '';\n",
              "        dataTable['output_type'] = 'display_data';\n",
              "        await google.colab.output.renderOutput(dataTable, element);\n",
              "        const docLink = document.createElement('div');\n",
              "        docLink.innerHTML = docLinkHtml;\n",
              "        element.appendChild(docLink);\n",
              "      }\n",
              "    </script>\n",
              "  </div>\n",
              "\n",
              "\n",
              "    <div id=\"df-a30eb243-bd07-4f66-a990-6905f61957cb\">\n",
              "      <button class=\"colab-df-quickchart\" onclick=\"quickchart('df-a30eb243-bd07-4f66-a990-6905f61957cb')\"\n",
              "                title=\"Suggest charts\"\n",
              "                style=\"display:none;\">\n",
              "\n",
              "<svg xmlns=\"http://www.w3.org/2000/svg\" height=\"24px\"viewBox=\"0 0 24 24\"\n",
              "     width=\"24px\">\n",
              "    <g>\n",
              "        <path d=\"M19 3H5c-1.1 0-2 .9-2 2v14c0 1.1.9 2 2 2h14c1.1 0 2-.9 2-2V5c0-1.1-.9-2-2-2zM9 17H7v-7h2v7zm4 0h-2V7h2v10zm4 0h-2v-4h2v4z\"/>\n",
              "    </g>\n",
              "</svg>\n",
              "      </button>\n",
              "\n",
              "<style>\n",
              "  .colab-df-quickchart {\n",
              "      --bg-color: #E8F0FE;\n",
              "      --fill-color: #1967D2;\n",
              "      --hover-bg-color: #E2EBFA;\n",
              "      --hover-fill-color: #174EA6;\n",
              "      --disabled-fill-color: #AAA;\n",
              "      --disabled-bg-color: #DDD;\n",
              "  }\n",
              "\n",
              "  [theme=dark] .colab-df-quickchart {\n",
              "      --bg-color: #3B4455;\n",
              "      --fill-color: #D2E3FC;\n",
              "      --hover-bg-color: #434B5C;\n",
              "      --hover-fill-color: #FFFFFF;\n",
              "      --disabled-bg-color: #3B4455;\n",
              "      --disabled-fill-color: #666;\n",
              "  }\n",
              "\n",
              "  .colab-df-quickchart {\n",
              "    background-color: var(--bg-color);\n",
              "    border: none;\n",
              "    border-radius: 50%;\n",
              "    cursor: pointer;\n",
              "    display: none;\n",
              "    fill: var(--fill-color);\n",
              "    height: 32px;\n",
              "    padding: 0;\n",
              "    width: 32px;\n",
              "  }\n",
              "\n",
              "  .colab-df-quickchart:hover {\n",
              "    background-color: var(--hover-bg-color);\n",
              "    box-shadow: 0 1px 2px rgba(60, 64, 67, 0.3), 0 1px 3px 1px rgba(60, 64, 67, 0.15);\n",
              "    fill: var(--button-hover-fill-color);\n",
              "  }\n",
              "\n",
              "  .colab-df-quickchart-complete:disabled,\n",
              "  .colab-df-quickchart-complete:disabled:hover {\n",
              "    background-color: var(--disabled-bg-color);\n",
              "    fill: var(--disabled-fill-color);\n",
              "    box-shadow: none;\n",
              "  }\n",
              "\n",
              "  .colab-df-spinner {\n",
              "    border: 2px solid var(--fill-color);\n",
              "    border-color: transparent;\n",
              "    border-bottom-color: var(--fill-color);\n",
              "    animation:\n",
              "      spin 1s steps(1) infinite;\n",
              "  }\n",
              "\n",
              "  @keyframes spin {\n",
              "    0% {\n",
              "      border-color: transparent;\n",
              "      border-bottom-color: var(--fill-color);\n",
              "      border-left-color: var(--fill-color);\n",
              "    }\n",
              "    20% {\n",
              "      border-color: transparent;\n",
              "      border-left-color: var(--fill-color);\n",
              "      border-top-color: var(--fill-color);\n",
              "    }\n",
              "    30% {\n",
              "      border-color: transparent;\n",
              "      border-left-color: var(--fill-color);\n",
              "      border-top-color: var(--fill-color);\n",
              "      border-right-color: var(--fill-color);\n",
              "    }\n",
              "    40% {\n",
              "      border-color: transparent;\n",
              "      border-right-color: var(--fill-color);\n",
              "      border-top-color: var(--fill-color);\n",
              "    }\n",
              "    60% {\n",
              "      border-color: transparent;\n",
              "      border-right-color: var(--fill-color);\n",
              "    }\n",
              "    80% {\n",
              "      border-color: transparent;\n",
              "      border-right-color: var(--fill-color);\n",
              "      border-bottom-color: var(--fill-color);\n",
              "    }\n",
              "    90% {\n",
              "      border-color: transparent;\n",
              "      border-bottom-color: var(--fill-color);\n",
              "    }\n",
              "  }\n",
              "</style>\n",
              "\n",
              "      <script>\n",
              "        async function quickchart(key) {\n",
              "          const quickchartButtonEl =\n",
              "            document.querySelector('#' + key + ' button');\n",
              "          quickchartButtonEl.disabled = true;  // To prevent multiple clicks.\n",
              "          quickchartButtonEl.classList.add('colab-df-spinner');\n",
              "          try {\n",
              "            const charts = await google.colab.kernel.invokeFunction(\n",
              "                'suggestCharts', [key], {});\n",
              "          } catch (error) {\n",
              "            console.error('Error during call to suggestCharts:', error);\n",
              "          }\n",
              "          quickchartButtonEl.classList.remove('colab-df-spinner');\n",
              "          quickchartButtonEl.classList.add('colab-df-quickchart-complete');\n",
              "        }\n",
              "        (() => {\n",
              "          let quickchartButtonEl =\n",
              "            document.querySelector('#df-a30eb243-bd07-4f66-a990-6905f61957cb button');\n",
              "          quickchartButtonEl.style.display =\n",
              "            google.colab.kernel.accessAllowed ? 'block' : 'none';\n",
              "        })();\n",
              "      </script>\n",
              "    </div>\n",
              "\n",
              "  <div id=\"id_648b8e37-1103-43bf-a106-cf04e2c03657\">\n",
              "    <style>\n",
              "      .colab-df-generate {\n",
              "        background-color: #E8F0FE;\n",
              "        border: none;\n",
              "        border-radius: 50%;\n",
              "        cursor: pointer;\n",
              "        display: none;\n",
              "        fill: #1967D2;\n",
              "        height: 32px;\n",
              "        padding: 0 0 0 0;\n",
              "        width: 32px;\n",
              "      }\n",
              "\n",
              "      .colab-df-generate:hover {\n",
              "        background-color: #E2EBFA;\n",
              "        box-shadow: 0px 1px 2px rgba(60, 64, 67, 0.3), 0px 1px 3px 1px rgba(60, 64, 67, 0.15);\n",
              "        fill: #174EA6;\n",
              "      }\n",
              "\n",
              "      [theme=dark] .colab-df-generate {\n",
              "        background-color: #3B4455;\n",
              "        fill: #D2E3FC;\n",
              "      }\n",
              "\n",
              "      [theme=dark] .colab-df-generate:hover {\n",
              "        background-color: #434B5C;\n",
              "        box-shadow: 0px 1px 3px 1px rgba(0, 0, 0, 0.15);\n",
              "        filter: drop-shadow(0px 1px 2px rgba(0, 0, 0, 0.3));\n",
              "        fill: #FFFFFF;\n",
              "      }\n",
              "    </style>\n",
              "    <button class=\"colab-df-generate\" onclick=\"generateWithVariable('stations_with_high_start_count')\"\n",
              "            title=\"Generate code using this dataframe.\"\n",
              "            style=\"display:none;\">\n",
              "\n",
              "  <svg xmlns=\"http://www.w3.org/2000/svg\" height=\"24px\"viewBox=\"0 0 24 24\"\n",
              "       width=\"24px\">\n",
              "    <path d=\"M7,19H8.4L18.45,9,17,7.55,7,17.6ZM5,21V16.75L18.45,3.32a2,2,0,0,1,2.83,0l1.4,1.43a1.91,1.91,0,0,1,.58,1.4,1.91,1.91,0,0,1-.58,1.4L9.25,21ZM18.45,9,17,7.55Zm-12,3A5.31,5.31,0,0,0,4.9,8.1,5.31,5.31,0,0,0,1,6.5,5.31,5.31,0,0,0,4.9,4.9,5.31,5.31,0,0,0,6.5,1,5.31,5.31,0,0,0,8.1,4.9,5.31,5.31,0,0,0,12,6.5,5.46,5.46,0,0,0,6.5,12Z\"/>\n",
              "  </svg>\n",
              "    </button>\n",
              "    <script>\n",
              "      (() => {\n",
              "      const buttonEl =\n",
              "        document.querySelector('#id_648b8e37-1103-43bf-a106-cf04e2c03657 button.colab-df-generate');\n",
              "      buttonEl.style.display =\n",
              "        google.colab.kernel.accessAllowed ? 'block' : 'none';\n",
              "\n",
              "      buttonEl.onclick = () => {\n",
              "        google.colab.notebook.generateWithVariable('stations_with_high_start_count');\n",
              "      }\n",
              "      })();\n",
              "    </script>\n",
              "  </div>\n",
              "\n",
              "    </div>\n",
              "  </div>\n"
            ],
            "text/plain": [
              "      station_id  start_count  end_count\n",
              "1048     6140.05       8320.0       8309\n",
              "1162     6331.01       6020.0       6051\n",
              "1218     6450.05       6325.0       6364\n",
              "1407     6822.09       6554.0       6615"
            ]
          },
          "metadata": {},
          "output_type": "display_data"
        }
      ],
      "source": [
        "stations_with_high_start_count = station_counts_df[station_counts_df[\"start_count\"] > 6000]\n",
        "print(\"Station(s) with start_count > 6000:\")\n",
        "display(stations_with_high_start_count)"
      ]
    },
    {
      "cell_type": "code",
      "execution_count": null,
      "metadata": {
        "colab": {
          "base_uri": "https://localhost:8080/"
        },
        "id": "5Ewe3JZBhwb2",
        "outputId": "c8fe4526-9472-4022-d1fd-16daad6adfd8"
      },
      "outputs": [
        {
          "name": "stdout",
          "output_type": "stream",
          "text": [
            "<bound method NDFrame.head of                   ride_id  rideable_type              started_at  \\\n",
            "0        62EF1AC5BE598131   classic_bike 2024-01-24 09:03:33.533   \n",
            "1        8464E543DAB27DBF   classic_bike 2024-01-30 08:21:29.510   \n",
            "2        9C04FDC8549F5205  electric_bike 2024-01-22 21:18:25.199   \n",
            "3        7DD1703A3E0D8833  electric_bike 2024-01-31 22:15:49.861   \n",
            "4        6A96FCD170996E59   classic_bike 2024-01-29 22:52:28.276   \n",
            "...                   ...            ...                     ...   \n",
            "1888080  53C5A7DDC930FE68  electric_bike 2024-01-19 08:11:31.812   \n",
            "1888081  80C14103C204CD47  electric_bike 2024-01-23 08:50:57.782   \n",
            "1888082  E1EE9037A8CB6101  electric_bike 2024-01-21 14:16:24.984   \n",
            "1888083  DA5E681B117190A0  electric_bike 2024-01-23 09:02:49.848   \n",
            "1888084  C29B38D0D93E10BA   classic_bike 2024-01-26 09:39:15.238   \n",
            "\n",
            "                       ended_at         start_station_name  start_station_id  \\\n",
            "0       2024-01-24 09:06:53.535           E 102 St & 1 Ave           7407.13   \n",
            "1       2024-01-30 08:29:03.304           E 102 St & 1 Ave           7407.13   \n",
            "2       2024-01-22 21:26:24.647            W 35 St & 8 Ave           6526.01   \n",
            "3       2024-01-31 22:22:45.520  Warren St & Roosevelt Ave           6346.07   \n",
            "4       2024-01-29 22:57:05.099            6 Ave & W 33 St           6364.07   \n",
            "...                         ...                        ...               ...   \n",
            "1888080 2024-01-19 08:18:23.659      Devoe St & Lorimer St           5259.06   \n",
            "1888081 2024-01-23 09:12:37.637    Fulton St & Waverly Ave           4345.11   \n",
            "1888082 2024-01-21 14:22:14.498        Driggs Ave & N 9 St           5411.08   \n",
            "1888083 2024-01-23 09:21:19.513        Driggs Ave & N 9 St           5411.08   \n",
            "1888084 2024-01-26 09:42:45.447           E 102 St & 1 Ave           7407.13   \n",
            "\n",
            "                     end_station_name  end_station_id  start_lat  start_lng  \\\n",
            "0            E 103 St & Lexington Ave         7463.09  40.786995 -73.941648   \n",
            "1                     E 91 St & 2 Ave         7286.01  40.786995 -73.941648   \n",
            "2                     1 Ave & E 39 St         6303.01  40.752762 -73.992805   \n",
            "3              112 St & Northern Blvd         6683.01  40.749190 -73.870540   \n",
            "4                     W 29 St & 9 Ave         6416.06  40.749013 -73.988484   \n",
            "...                               ...             ...        ...        ...   \n",
            "1888080  Meserole Ave & Manhattan Ave         5666.04  40.713352 -73.949103   \n",
            "1888081          Broad St & Bridge St         4962.08  40.683239 -73.965996   \n",
            "1888082  Meserole Ave & Manhattan Ave         5666.04  40.718170 -73.955201   \n",
            "1888083     Pearl St & Hanover Square         4993.02  40.718170 -73.955201   \n",
            "1888084      E 103 St & Lexington Ave         7463.09  40.786995 -73.941648   \n",
            "\n",
            "           end_lat    end_lng member_casual  \n",
            "0        40.790305 -73.947558        member  \n",
            "1        40.781153 -73.949630        member  \n",
            "2        40.747140 -73.971130        member  \n",
            "3        40.757880 -73.857630        member  \n",
            "4        40.750073 -73.998393        member  \n",
            "...            ...        ...           ...  \n",
            "1888080  40.727086 -73.952991        member  \n",
            "1888081  40.703652 -74.011678        member  \n",
            "1888082  40.727086 -73.952991        member  \n",
            "1888083  40.704718 -74.009260        member  \n",
            "1888084  40.790305 -73.947558        member  \n",
            "\n",
            "[1881640 rows x 13 columns]>\n"
          ]
        }
      ],
      "source": [
        "print(df.head)"
      ]
    },
    {
      "cell_type": "markdown",
      "metadata": {
        "id": "OXeRw0cj51uA"
      },
      "source": [
        "so my basic idea here is to classify trips as normal or unusually long using stats"
      ]
    },
    {
      "cell_type": "code",
      "execution_count": null,
      "metadata": {
        "id": "48sU1yD2508a"
      },
      "outputs": [],
      "source": [
        "# finding the duration of the trip first\n",
        "# converting them to date time again to avoid it breaking the calculation(initially were converted to string)\n",
        "df['started_at'] = pd.to_datetime(df['started_at'])\n",
        "df['ended_at'] = pd.to_datetime(df['ended_at'])\n",
        "# total duration in minutes\n",
        "df['total_timetaken'] = (df['ended_at'] - df['started_at']).dt.total_seconds() / 60"
      ]
    },
    {
      "cell_type": "code",
      "execution_count": null,
      "metadata": {
        "colab": {
          "base_uri": "https://localhost:8080/"
        },
        "id": "vHrVXYir8kpY",
        "outputId": "6a148cbe-67ca-4c51-b7a9-5c38ca7a1d2c"
      },
      "outputs": [
        {
          "name": "stdout",
          "output_type": "stream",
          "text": [
            "0           3.333367\n",
            "1           7.563233\n",
            "2           7.990800\n",
            "3           6.927650\n",
            "4           4.613717\n",
            "             ...    \n",
            "1888080     6.864117\n",
            "1888081    21.664250\n",
            "1888082     5.825233\n",
            "1888083    18.494417\n",
            "1888084     3.503483\n",
            "Name: total_timetaken, Length: 1881640, dtype: float64\n"
          ]
        }
      ],
      "source": [
        "print(df['total_timetaken'])"
      ]
    },
    {
      "cell_type": "code",
      "execution_count": null,
      "metadata": {
        "colab": {
          "base_uri": "https://localhost:8080/",
          "height": 564
        },
        "id": "oBoSEwmP9FrB",
        "outputId": "ef42f3c4-cf7e-4abc-e07b-c44dddf9e42b"
      },
      "outputs": [
        {
          "data": {
            "image/png": "[encoded data removed]",
            "text/plain": [
              "<Figure size 1200x600 with 1 Axes>"
            ]
          },
          "metadata": {},
          "output_type": "display_data"
        }
      ],
      "source": [
        "import matplotlib.pyplot as plt\n",
        "import seaborn as sns\n",
        "\n",
        "plt.figure(figsize=(12,6))\n",
        "sns.histplot(df['total_timetaken'])\n",
        "plt.xlim(0, 120)\n",
        "plt.xlabel('Total time taken for the trips to complete in minutes')\n",
        "plt.ylabel('Number of Rides')\n",
        "plt.title('Distribution of Bike Trip Durations')\n",
        "plt.show()\n"
      ]
    },
    {
      "cell_type": "code",
      "execution_count": null,
      "metadata": {
        "colab": {
          "base_uri": "https://localhost:8080/"
        },
        "id": "ub9kn6lY9nVd",
        "outputId": "0e1ba312-6329-4351-df69-eb8c32626c88"
      },
      "outputs": [
        {
          "name": "stdout",
          "output_type": "stream",
          "text": [
            "Mean duration: 10.84669260687485 minutes\n"
          ]
        }
      ],
      "source": [
        "mean = df['total_timetaken'].mean()\n",
        "print(\"Mean duration:\",mean,\"minutes\")"
      ]
    },
    {
      "cell_type": "code",
      "execution_count": null,
      "metadata": {
        "colab": {
          "base_uri": "https://localhost:8080/"
        },
        "id": "opvkZo4v-2iJ",
        "outputId": "5b8882fa-1f79-433f-fd5f-76d2a46603c5"
      },
      "outputs": [
        {
          "name": "stdout",
          "output_type": "stream",
          "text": [
            "Standard deviation: 20.778979808110133 minutes\n"
          ]
        }
      ],
      "source": [
        "standard_deviation = df['total_timetaken'].std()\n",
        "print(\"Standard deviation:\",standard_deviation,\"minutes\")"
      ]
    },
    {
      "cell_type": "code",
      "execution_count": null,
      "metadata": {
        "colab": {
          "base_uri": "https://localhost:8080/"
        },
        "id": "hzIxSVswEkMq",
        "outputId": "c31c2be9-906a-4d36-b986-e19b3784ee8c"
      },
      "outputs": [
        {
          "name": "stdout",
          "output_type": "stream",
          "text": [
            "-30.711267009345416 52.40465222309511\n"
          ]
        }
      ],
      "source": [
        "lower_threshold = mean - (2*standard_deviation)\n",
        "upper_threshold = mean + (2*standard_deviation)\n",
        "print(lower_threshold,upper_threshold)"
      ]
    },
    {
      "cell_type": "markdown",
      "metadata": {
        "id": "0yjGVGRIFHFX"
      },
      "source": [
        "classification"
      ]
    },
    {
      "cell_type": "code",
      "execution_count": null,
      "metadata": {
        "id": "Tr_VdIvCFGO5"
      },
      "outputs": [],
      "source": [
        "def classification_ofrides(ride):\n",
        "  if ride <= lower_threshold:\n",
        "    return \"Too short and indicates unusual ride\"\n",
        "  elif ride >= upper_threshold:\n",
        "    return \"Too long and indicates unusual ride\"\n",
        "  else:\n",
        "    return \"Normal ride\""
      ]
    },
    {
      "cell_type": "code",
      "execution_count": null,
      "metadata": {
        "id": "2iyLhALlFo_6"
      },
      "outputs": [],
      "source": [
        "df['duration_categorization'] = np.where(df['total_timetaken'] < lower_threshold,\n",
        "                                   'Too short and indicates unusual ride',\n",
        "                                   np.where(df['total_timetaken'] > upper_threshold,\n",
        "                                            'Too long and indicates unusual ride',\n",
        "                                            'Normal ride'))"
      ]
    },
    {
      "cell_type": "code",
      "execution_count": null,
      "metadata": {
        "colab": {
          "base_uri": "https://localhost:8080/"
        },
        "id": "3QQfOiEcGV_e",
        "outputId": "7322e790-34b6-4e74-c2a0-f4649158a62c"
      },
      "outputs": [
        {
          "name": "stdout",
          "output_type": "stream",
          "text": [
            "total_timetaken\n",
            "4.539400     15\n",
            "6.278917     13\n",
            "4.419683     12\n",
            "5.388950     12\n",
            "4.582550     12\n",
            "             ..\n",
            "8.031550      1\n",
            "28.187167     1\n",
            "45.048067     1\n",
            "23.997633     1\n",
            "14.867483     1\n",
            "Name: count, Length: 978196, dtype: int64\n"
          ]
        }
      ],
      "source": [
        "print(df['total_timetaken'].value_counts())"
      ]
    },
    {
      "cell_type": "code",
      "execution_count": null,
      "metadata": {
        "colab": {
          "base_uri": "https://localhost:8080/"
        },
        "id": "50Lz7isUGhak",
        "outputId": "c1b83433-4003-4d45-d985-9190576c21da"
      },
      "outputs": [
        {
          "name": "stdout",
          "output_type": "stream",
          "text": [
            "             ride_id  rideable_type              started_at  \\\n",
            "0   62EF1AC5BE598131   classic_bike 2024-01-24 09:03:33.533   \n",
            "1   8464E543DAB27DBF   classic_bike 2024-01-30 08:21:29.510   \n",
            "2   9C04FDC8549F5205  electric_bike 2024-01-22 21:18:25.199   \n",
            "3   7DD1703A3E0D8833  electric_bike 2024-01-31 22:15:49.861   \n",
            "4   6A96FCD170996E59   classic_bike 2024-01-29 22:52:28.276   \n",
            "5   B7E5E6FAA9636FD5  electric_bike 2024-01-18 19:34:03.148   \n",
            "6   7DFBA0228776696D  electric_bike 2024-01-20 11:53:22.638   \n",
            "7   12FBBCF285A43999  electric_bike 2024-01-30 07:45:29.603   \n",
            "8   815B668E8ADAFDA8  electric_bike 2024-01-16 06:50:43.736   \n",
            "9   7D6E05FA1FDC13DD  electric_bike 2024-01-23 16:03:15.146   \n",
            "10  DC9D566EDE21493D  electric_bike 2024-01-18 20:14:30.108   \n",
            "11  AA171066E1FBBA3D  electric_bike 2024-01-26 13:38:48.610   \n",
            "12  71AB47656B2090B8   classic_bike 2024-01-27 15:50:16.756   \n",
            "13  A42F107BB6BD3833   classic_bike 2024-01-26 16:28:57.794   \n",
            "14  B4F6D243AF91588B  electric_bike 2024-01-29 19:13:26.112   \n",
            "15  67168FF34EE226A7   classic_bike 2024-01-16 12:30:01.102   \n",
            "16  13306F79597A3A06  electric_bike 2024-01-28 12:32:12.188   \n",
            "17  7656012372574079  electric_bike 2024-01-26 10:27:08.834   \n",
            "18  A159D17432D92BCD  electric_bike 2024-01-15 13:16:59.511   \n",
            "19  4D5F80D54597D58F  electric_bike 2024-01-18 07:39:57.643   \n",
            "\n",
            "                  ended_at            start_station_name  start_station_id  \\\n",
            "0  2024-01-24 09:06:53.535              E 102 St & 1 Ave           7407.13   \n",
            "1  2024-01-30 08:29:03.304              E 102 St & 1 Ave           7407.13   \n",
            "2  2024-01-22 21:26:24.647               W 35 St & 8 Ave           6526.01   \n",
            "3  2024-01-31 22:22:45.520     Warren St & Roosevelt Ave           6346.07   \n",
            "4  2024-01-29 22:57:05.099               6 Ave & W 33 St           6364.07   \n",
            "5  2024-01-18 19:42:25.392               6 Ave & W 33 St           6364.07   \n",
            "6  2024-01-20 11:57:49.114              E 102 St & 1 Ave           7407.13   \n",
            "7  2024-01-30 07:51:33.407        Leonard St & Church St           5359.11   \n",
            "8  2024-01-16 07:00:06.406  Bialystoker Pl & Delancey St           5335.03   \n",
            "9  2024-01-23 16:05:37.079        Leonard St & Church St           5359.11   \n",
            "10 2024-01-18 20:34:13.172               E 48 St & 5 Ave           6626.01   \n",
            "11 2024-01-26 14:08:54.320          Bergen St & Troy Ave           4048.03   \n",
            "12 2024-01-27 16:02:50.731              1 Ave & E 110 St           7522.02   \n",
            "13 2024-01-26 16:30:14.277  Prospect Pl & Vanderbilt Ave           4157.15   \n",
            "14 2024-01-29 19:28:24.822       Bleecker St & Crosby St           5679.08   \n",
            "15 2024-01-16 12:42:21.997       Greenwich St & Perry St           5922.04   \n",
            "16 2024-01-28 12:35:46.175          Lenox Ave & W 140 St           7872.03   \n",
            "17 2024-01-26 10:31:20.577       Bleecker St & Crosby St           5679.08   \n",
            "18 2024-01-15 13:21:34.807               W 40 St & 7 Ave           6560.14   \n",
            "19 2024-01-18 07:54:50.570       Greenwich St & Perry St           5922.04   \n",
            "\n",
            "               end_station_name  end_station_id  start_lat  start_lng  \\\n",
            "0      E 103 St & Lexington Ave         7463.09  40.786995 -73.941648   \n",
            "1               E 91 St & 2 Ave         7286.01  40.786995 -73.941648   \n",
            "2               1 Ave & E 39 St         6303.01  40.752762 -73.992805   \n",
            "3        112 St & Northern Blvd         6683.01  40.749190 -73.870540   \n",
            "4               W 29 St & 9 Ave         6416.06  40.749013 -73.988484   \n",
            "5               1 Ave & E 39 St         6303.01  40.749013 -73.988484   \n",
            "6               E 91 St & 2 Ave         7286.01  40.786995 -73.941648   \n",
            "7     Pearl St & Hanover Square         4993.02  40.717571 -74.005549   \n",
            "8         W Broadway & Watts St         5569.07  40.716226 -73.982612   \n",
            "9         W Broadway & Watts St         5569.07  40.717571 -74.005549   \n",
            "10              E 91 St & 2 Ave         7286.01  40.757246 -73.978059   \n",
            "11              E 1 St & Bowery         5636.13  40.675240 -73.935960   \n",
            "12              E 91 St & 2 Ave         7286.01  40.792327 -73.938300   \n",
            "13  Prospect Pl & Underhill Ave         4116.08  40.677675 -73.969021   \n",
            "14              1 Ave & E 39 St         6303.01  40.726156 -73.995102   \n",
            "15              W 29 St & 9 Ave         6416.06  40.734980 -74.006970   \n",
            "16   E 138 St & Grand Concourse         7803.08  40.817245 -73.938787   \n",
            "17        W Broadway & Watts St         5569.07  40.726156 -73.995102   \n",
            "18              1 Ave & E 39 St         6303.01  40.754818 -73.988154   \n",
            "19              1 Ave & E 39 St         6303.01  40.734980 -74.006970   \n",
            "\n",
            "      end_lat    end_lng member_casual  total_timetaken  \\\n",
            "0   40.790305 -73.947558        member         3.333367   \n",
            "1   40.781153 -73.949630        member         7.563233   \n",
            "2   40.747140 -73.971130        member         7.990800   \n",
            "3   40.757880 -73.857630        member         6.927650   \n",
            "4   40.750073 -73.998393        member         4.613717   \n",
            "5   40.747140 -73.971130        member         8.370733   \n",
            "6   40.781153 -73.949630        member         4.441267   \n",
            "7   40.704718 -74.009260        member         6.063400   \n",
            "8   40.723230 -74.003140        member         9.377833   \n",
            "9   40.723230 -74.003140        member         2.365550   \n",
            "10  40.781153 -73.949630        member        19.717733   \n",
            "11  40.724861 -73.992131        member        30.095167   \n",
            "12  40.781153 -73.949630        member        12.566250   \n",
            "13  40.676969 -73.965790        member         1.274717   \n",
            "14  40.747140 -73.971130        member        14.978500   \n",
            "15  40.750073 -73.998393        casual        12.348250   \n",
            "16  40.813224 -73.930605        casual         3.566450   \n",
            "17  40.723230 -74.003140        casual         4.195717   \n",
            "18  40.747140 -73.971130        member         4.588267   \n",
            "19  40.747140 -73.971130        member        14.882117   \n",
            "\n",
            "   duration_categorization  \n",
            "0              Normal ride  \n",
            "1              Normal ride  \n",
            "2              Normal ride  \n",
            "3              Normal ride  \n",
            "4              Normal ride  \n",
            "5              Normal ride  \n",
            "6              Normal ride  \n",
            "7              Normal ride  \n",
            "8              Normal ride  \n",
            "9              Normal ride  \n",
            "10             Normal ride  \n",
            "11             Normal ride  \n",
            "12             Normal ride  \n",
            "13             Normal ride  \n",
            "14             Normal ride  \n",
            "15             Normal ride  \n",
            "16             Normal ride  \n",
            "17             Normal ride  \n",
            "18             Normal ride  \n",
            "19             Normal ride  \n"
          ]
        }
      ],
      "source": [
        "print(df.head(20))"
      ]
    },
    {
      "cell_type": "code",
      "execution_count": null,
      "metadata": {
        "colab": {
          "base_uri": "https://localhost:8080/"
        },
        "id": "DL56uGI3G5qt",
        "outputId": "982c9738-2a6b-4576-c870-17f62fe72670"
      },
      "outputs": [
        {
          "name": "stdout",
          "output_type": "stream",
          "text": [
            "duration_categorization\n",
            "Normal ride                            1868753\n",
            "Too long and indicates unusual ride      12887\n",
            "Name: count, dtype: int64\n"
          ]
        }
      ],
      "source": [
        "print(df['duration_categorization'].value_counts())\n"
      ]
    },
    {
      "cell_type": "code",
      "execution_count": null,
      "metadata": {
        "colab": {
          "base_uri": "https://localhost:8080/"
        },
        "id": "x91v446jHODQ",
        "outputId": "72a227c7-6b78-46bd-810f-18a5e2f2bb80"
      },
      "outputs": [
        {
          "name": "stdout",
          "output_type": "stream",
          "text": [
            "              ride_id  rideable_type              started_at  \\\n",
            "56   9D9344AC9224D0D4  electric_bike 2024-01-25 00:14:53.275   \n",
            "608  A2E716E3D6E8C7C8  electric_bike 2024-01-18 12:35:04.674   \n",
            "649  F50D72B4A71740BB  electric_bike 2024-01-27 14:22:14.632   \n",
            "797  EB86610B2D5805C2   classic_bike 2024-01-15 12:27:02.200   \n",
            "966  AFA10FA3DF6182A7  electric_bike 2024-01-27 08:09:15.642   \n",
            "\n",
            "                   ended_at        start_station_name  start_station_id  \\\n",
            "56  2024-01-25 01:41:31.987  Parkside Ave & Ocean Ave           3448.02   \n",
            "608 2024-01-18 13:36:48.179      Hudson St & Reade St           5359.10   \n",
            "649 2024-01-27 16:49:47.313      Maiden Ln & Pearl St           5065.10   \n",
            "797 2024-01-15 13:35:08.045   Lafayette St & Grand St           5422.09   \n",
            "966 2024-01-27 09:10:55.468            43 Ave & 42 St           6251.06   \n",
            "\n",
            "              end_station_name  end_station_id  start_lat  start_lng  \\\n",
            "56      Ocean Ave & Crooke Ave         3408.05  40.654850 -73.962170   \n",
            "608            W 52 St & 5 Ave         6700.01  40.716250 -74.009106   \n",
            "649  Pearl St & Hanover Square         4993.02  40.707065 -74.007319   \n",
            "797      W Broadway & Watts St         5569.07  40.720280 -73.998790   \n",
            "966             43 Ave & 42 St         6251.06  40.745347 -73.921942   \n",
            "\n",
            "       end_lat    end_lng member_casual  total_timetaken  \\\n",
            "56   40.653260 -73.961720        member        86.645200   \n",
            "608  40.759923 -73.976485        casual        61.725083   \n",
            "649  40.704718 -74.009260        member       147.544683   \n",
            "797  40.723230 -74.003140        casual        68.097417   \n",
            "966  40.745347 -73.921942        member        61.663767   \n",
            "\n",
            "                 duration_categorization  \n",
            "56   Too long and indicates unusual ride  \n",
            "608  Too long and indicates unusual ride  \n",
            "649  Too long and indicates unusual ride  \n",
            "797  Too long and indicates unusual ride  \n",
            "966  Too long and indicates unusual ride  \n"
          ]
        }
      ],
      "source": [
        "print(df[df['duration_categorization'] == 'Too long and indicates unusual ride'].head())"
      ]
    },
    {
      "cell_type": "code",
      "execution_count": null,
      "metadata": {
        "colab": {
          "base_uri": "https://localhost:8080/"
        },
        "id": "4ADfG-ghHvsk",
        "outputId": "3bd68a07-f8b4-4541-f797-e17d29eb00f3"
      },
      "outputs": [
        {
          "name": "stdout",
          "output_type": "stream",
          "text": [
            "Empty DataFrame\n",
            "Columns: [ride_id, rideable_type, started_at, ended_at, start_station_name, start_station_id, end_station_name, end_station_id, start_lat, start_lng, end_lat, end_lng, member_casual, total_timetaken, duration_categorization]\n",
            "Index: []\n"
          ]
        }
      ],
      "source": [
        "print(df[df['duration_categorization'] == 'Too short and indicates unusual ride'].head())"
      ]
    },
    {
      "cell_type": "code",
      "execution_count": null,
      "metadata": {
        "id": "DHRmzxiQSxtt"
      },
      "outputs": [],
      "source": [
        "# df[['ride_id', 'start_station_name', 'end_station_name', 'total_timetaken', 'duration_categorization']].to_csv(\n",
        "#     'trip_categorization_results.csv', index=False\n",
        "# )"
      ]
    },
    {
      "cell_type": "markdown",
      "metadata": {
        "id": "zUKZGkwwSYBP"
      },
      "source": [
        "ml model -> to use the stats info as labels and feed that into the ml model along with other features like bike type, user type, time of day, and start/end locations. Purpose -> The purpose of this approach was twofold: first, to see if the model could learn to predict the ride categories correctly, and second, to check how well its predictions match the original statistical labels."
      ]
    },
    {
      "cell_type": "code",
      "execution_count": null,
      "metadata": {
        "id": "dNG4mhGTSbfs"
      },
      "outputs": [],
      "source": [
        "from sklearn.preprocessing import LabelEncoder\n",
        "le_ridetype = LabelEncoder()\n",
        "df['rideable_type_transform'] = le_ridetype.fit_transform(df['rideable_type'])\n"
      ]
    },
    {
      "cell_type": "code",
      "execution_count": null,
      "metadata": {
        "id": "Urwlhm9STIhR"
      },
      "outputs": [],
      "source": [
        "le_member_casual = LabelEncoder()\n",
        "df['member_casual_transform'] = le_member_casual.fit_transform(df['member_casual'])\n"
      ]
    },
    {
      "cell_type": "code",
      "execution_count": null,
      "metadata": {
        "id": "jNfTF0Wv08UH"
      },
      "outputs": [],
      "source": [
        "df['hour'] = df['started_at'].dt.hour"
      ]
    },
    {
      "cell_type": "code",
      "execution_count": null,
      "metadata": {
        "id": "Yl8gOKAQUAtA"
      },
      "outputs": [],
      "source": [
        "features = ['rideable_type_transform', 'hour', 'member_casual_transform',\n",
        "            'start_lat', 'start_lng', 'end_lat', 'end_lng']"
      ]
    },
    {
      "cell_type": "code",
      "execution_count": null,
      "metadata": {
        "id": "lPrbMfOuUFhq"
      },
      "outputs": [],
      "source": [
        "X = df[features]\n",
        "y = df['duration_categorization']"
      ]
    },
    {
      "cell_type": "code",
      "execution_count": null,
      "metadata": {
        "id": "A8jTqWOvUPFZ"
      },
      "outputs": [],
      "source": [
        "from sklearn.model_selection import train_test_split\n",
        "X_train, X_test, y_train, y_test = train_test_split(\n",
        "    X, y, test_size=0.25, random_state = 0 )\n"
      ]
    },
    {
      "cell_type": "code",
      "execution_count": null,
      "metadata": {
        "colab": {
          "base_uri": "https://localhost:8080/"
        },
        "id": "yYgmEf7EVjcU",
        "outputId": "0d22b8b1-dcf4-4c0d-c476-55c4f355d205"
      },
      "outputs": [
        {
          "name": "stdout",
          "output_type": "stream",
          "text": [
            "Number transactions X_train dataset:  (1411230, 7)\n",
            "Number transactions y_train dataset:  (1411230,)\n",
            "Number transactions X_test dataset:  (470410, 7)\n",
            "Number transactions y_test dataset:  (470410,)\n"
          ]
        }
      ],
      "source": [
        "print(\"Number transactions X_train dataset: \", X_train.shape)\n",
        "print(\"Number transactions y_train dataset: \", y_train.shape)\n",
        "print(\"Number transactions X_test dataset: \", X_test.shape)\n",
        "print(\"Number transactions y_test dataset: \", y_test.shape)\n"
      ]
    },
    {
      "cell_type": "code",
      "execution_count": null,
      "metadata": {
        "colab": {
          "base_uri": "https://localhost:8080/",
          "height": 80
        },
        "id": "Ma8G46LYV5XT",
        "outputId": "306a56dc-0a8e-4607-8870-630226973912"
      },
      "outputs": [
        {
          "data": {
            "text/html": [
              "<style>#sk-container-id-1 {\n",
              "  /* Definition of color scheme common for light and dark mode */\n",
              "  --sklearn-color-text: #000;\n",
              "  --sklearn-color-text-muted: #666;\n",
              "  --sklearn-color-line: gray;\n",
              "  /* Definition of color scheme for unfitted estimators */\n",
              "  --sklearn-color-unfitted-level-0: #fff5e6;\n",
              "  --sklearn-color-unfitted-level-1: #f6e4d2;\n",
              "  --sklearn-color-unfitted-level-2: #ffe0b3;\n",
              "  --sklearn-color-unfitted-level-3: chocolate;\n",
              "  /* Definition of color scheme for fitted estimators */\n",
              "  --sklearn-color-fitted-level-0: #f0f8ff;\n",
              "  --sklearn-color-fitted-level-1: #d4ebff;\n",
              "  --sklearn-color-fitted-level-2: #b3dbfd;\n",
              "  --sklearn-color-fitted-level-3: cornflowerblue;\n",
              "\n",
              "  /* Specific color for light theme */\n",
              "  --sklearn-color-text-on-default-background: var(--sg-text-color, var(--theme-code-foreground, var(--jp-content-font-color1, black)));\n",
              "  --sklearn-color-background: var(--sg-background-color, var(--theme-background, var(--jp-layout-color0, white)));\n",
              "  --sklearn-color-border-box: var(--sg-text-color, var(--theme-code-foreground, var(--jp-content-font-color1, black)));\n",
              "  --sklearn-color-icon: #696969;\n",
              "\n",
              "  @media (prefers-color-scheme: dark) {\n",
              "    /* Redefinition of color scheme for dark theme */\n",
              "    --sklearn-color-text-on-default-background: var(--sg-text-color, var(--theme-code-foreground, var(--jp-content-font-color1, white)));\n",
              "    --sklearn-color-background: var(--sg-background-color, var(--theme-background, var(--jp-layout-color0, #111)));\n",
              "    --sklearn-color-border-box: var(--sg-text-color, var(--theme-code-foreground, var(--jp-content-font-color1, white)));\n",
              "    --sklearn-color-icon: #878787;\n",
              "  }\n",
              "}\n",
              "\n",
              "#sk-container-id-1 {\n",
              "  color: var(--sklearn-color-text);\n",
              "}\n",
              "\n",
              "#sk-container-id-1 pre {\n",
              "  padding: 0;\n",
              "}\n",
              "\n",
              "#sk-container-id-1 input.sk-hidden--visually {\n",
              "  border: 0;\n",
              "  clip: rect(1px 1px 1px 1px);\n",
              "  clip: rect(1px, 1px, 1px, 1px);\n",
              "  height: 1px;\n",
              "  margin: -1px;\n",
              "  overflow: hidden;\n",
              "  padding: 0;\n",
              "  position: absolute;\n",
              "  width: 1px;\n",
              "}\n",
              "\n",
              "#sk-container-id-1 div.sk-dashed-wrapped {\n",
              "  border: 1px dashed var(--sklearn-color-line);\n",
              "  margin: 0 0.4em 0.5em 0.4em;\n",
              "  box-sizing: border-box;\n",
              "  padding-bottom: 0.4em;\n",
              "  background-color: var(--sklearn-color-background);\n",
              "}\n",
              "\n",
              "#sk-container-id-1 div.sk-container {\n",
              "  /* jupyter's `normalize.less` sets `[hidden] { display: none; }`\n",
              "     but bootstrap.min.css set `[hidden] { display: none !important; }`\n",
              "     so we also need the `!important` here to be able to override the\n",
              "     default hidden behavior on the sphinx rendered scikit-learn.org.\n",
              "     See: https://github.com/scikit-learn/scikit-learn/issues/21755 */\n",
              "  display: inline-block !important;\n",
              "  position: relative;\n",
              "}\n",
              "\n",
              "#sk-container-id-1 div.sk-text-repr-fallback {\n",
              "  display: none;\n",
              "}\n",
              "\n",
              "div.sk-parallel-item,\n",
              "div.sk-serial,\n",
              "div.sk-item {\n",
              "  /* draw centered vertical line to link estimators */\n",
              "  background-image: linear-gradient(var(--sklearn-color-text-on-default-background), var(--sklearn-color-text-on-default-background));\n",
              "  background-size: 2px 100%;\n",
              "  background-repeat: no-repeat;\n",
              "  background-position: center center;\n",
              "}\n",
              "\n",
              "/* Parallel-specific style estimator block */\n",
              "\n",
              "#sk-container-id-1 div.sk-parallel-item::after {\n",
              "  content: \"\";\n",
              "  width: 100%;\n",
              "  border-bottom: 2px solid var(--sklearn-color-text-on-default-background);\n",
              "  flex-grow: 1;\n",
              "}\n",
              "\n",
              "#sk-container-id-1 div.sk-parallel {\n",
              "  display: flex;\n",
              "  align-items: stretch;\n",
              "  justify-content: center;\n",
              "  background-color: var(--sklearn-color-background);\n",
              "  position: relative;\n",
              "}\n",
              "\n",
              "#sk-container-id-1 div.sk-parallel-item {\n",
              "  display: flex;\n",
              "  flex-direction: column;\n",
              "}\n",
              "\n",
              "#sk-container-id-1 div.sk-parallel-item:first-child::after {\n",
              "  align-self: flex-end;\n",
              "  width: 50%;\n",
              "}\n",
              "\n",
              "#sk-container-id-1 div.sk-parallel-item:last-child::after {\n",
              "  align-self: flex-start;\n",
              "  width: 50%;\n",
              "}\n",
              "\n",
              "#sk-container-id-1 div.sk-parallel-item:only-child::after {\n",
              "  width: 0;\n",
              "}\n",
              "\n",
              "/* Serial-specific style estimator block */\n",
              "\n",
              "#sk-container-id-1 div.sk-serial {\n",
              "  display: flex;\n",
              "  flex-direction: column;\n",
              "  align-items: center;\n",
              "  background-color: var(--sklearn-color-background);\n",
              "  padding-right: 1em;\n",
              "  padding-left: 1em;\n",
              "}\n",
              "\n",
              "\n",
              "/* Toggleable style: style used for estimator/Pipeline/ColumnTransformer box that is\n",
              "clickable and can be expanded/collapsed.\n",
              "- Pipeline and ColumnTransformer use this feature and define the default style\n",
              "- Estimators will overwrite some part of the style using the `sk-estimator` class\n",
              "*/\n",
              "\n",
              "/* Pipeline and ColumnTransformer style (default) */\n",
              "\n",
              "#sk-container-id-1 div.sk-toggleable {\n",
              "  /* Default theme specific background. It is overwritten whether we have a\n",
              "  specific estimator or a Pipeline/ColumnTransformer */\n",
              "  background-color: var(--sklearn-color-background);\n",
              "}\n",
              "\n",
              "/* Toggleable label */\n",
              "#sk-container-id-1 label.sk-toggleable__label {\n",
              "  cursor: pointer;\n",
              "  display: flex;\n",
              "  width: 100%;\n",
              "  margin-bottom: 0;\n",
              "  padding: 0.5em;\n",
              "  box-sizing: border-box;\n",
              "  text-align: center;\n",
              "  align-items: start;\n",
              "  justify-content: space-between;\n",
              "  gap: 0.5em;\n",
              "}\n",
              "\n",
              "#sk-container-id-1 label.sk-toggleable__label .caption {\n",
              "  font-size: 0.6rem;\n",
              "  font-weight: lighter;\n",
              "  color: var(--sklearn-color-text-muted);\n",
              "}\n",
              "\n",
              "#sk-container-id-1 label.sk-toggleable__label-arrow:before {\n",
              "  /* Arrow on the left of the label */\n",
              "  content: \"▸\";\n",
              "  float: left;\n",
              "  margin-right: 0.25em;\n",
              "  color: var(--sklearn-color-icon);\n",
              "}\n",
              "\n",
              "#sk-container-id-1 label.sk-toggleable__label-arrow:hover:before {\n",
              "  color: var(--sklearn-color-text);\n",
              "}\n",
              "\n",
              "/* Toggleable content - dropdown */\n",
              "\n",
              "#sk-container-id-1 div.sk-toggleable__content {\n",
              "  max-height: 0;\n",
              "  max-width: 0;\n",
              "  overflow: hidden;\n",
              "  text-align: left;\n",
              "  /* unfitted */\n",
              "  background-color: var(--sklearn-color-unfitted-level-0);\n",
              "}\n",
              "\n",
              "#sk-container-id-1 div.sk-toggleable__content.fitted {\n",
              "  /* fitted */\n",
              "  background-color: var(--sklearn-color-fitted-level-0);\n",
              "}\n",
              "\n",
              "#sk-container-id-1 div.sk-toggleable__content pre {\n",
              "  margin: 0.2em;\n",
              "  border-radius: 0.25em;\n",
              "  color: var(--sklearn-color-text);\n",
              "  /* unfitted */\n",
              "  background-color: var(--sklearn-color-unfitted-level-0);\n",
              "}\n",
              "\n",
              "#sk-container-id-1 div.sk-toggleable__content.fitted pre {\n",
              "  /* unfitted */\n",
              "  background-color: var(--sklearn-color-fitted-level-0);\n",
              "}\n",
              "\n",
              "#sk-container-id-1 input.sk-toggleable__control:checked~div.sk-toggleable__content {\n",
              "  /* Expand drop-down */\n",
              "  max-height: 200px;\n",
              "  max-width: 100%;\n",
              "  overflow: auto;\n",
              "}\n",
              "\n",
              "#sk-container-id-1 input.sk-toggleable__control:checked~label.sk-toggleable__label-arrow:before {\n",
              "  content: \"▾\";\n",
              "}\n",
              "\n",
              "/* Pipeline/ColumnTransformer-specific style */\n",
              "\n",
              "#sk-container-id-1 div.sk-label input.sk-toggleable__control:checked~label.sk-toggleable__label {\n",
              "  color: var(--sklearn-color-text);\n",
              "  background-color: var(--sklearn-color-unfitted-level-2);\n",
              "}\n",
              "\n",
              "#sk-container-id-1 div.sk-label.fitted input.sk-toggleable__control:checked~label.sk-toggleable__label {\n",
              "  background-color: var(--sklearn-color-fitted-level-2);\n",
              "}\n",
              "\n",
              "/* Estimator-specific style */\n",
              "\n",
              "/* Colorize estimator box */\n",
              "#sk-container-id-1 div.sk-estimator input.sk-toggleable__control:checked~label.sk-toggleable__label {\n",
              "  /* unfitted */\n",
              "  background-color: var(--sklearn-color-unfitted-level-2);\n",
              "}\n",
              "\n",
              "#sk-container-id-1 div.sk-estimator.fitted input.sk-toggleable__control:checked~label.sk-toggleable__label {\n",
              "  /* fitted */\n",
              "  background-color: var(--sklearn-color-fitted-level-2);\n",
              "}\n",
              "\n",
              "#sk-container-id-1 div.sk-label label.sk-toggleable__label,\n",
              "#sk-container-id-1 div.sk-label label {\n",
              "  /* The background is the default theme color */\n",
              "  color: var(--sklearn-color-text-on-default-background);\n",
              "}\n",
              "\n",
              "/* On hover, darken the color of the background */\n",
              "#sk-container-id-1 div.sk-label:hover label.sk-toggleable__label {\n",
              "  color: var(--sklearn-color-text);\n",
              "  background-color: var(--sklearn-color-unfitted-level-2);\n",
              "}\n",
              "\n",
              "/* Label box, darken color on hover, fitted */\n",
              "#sk-container-id-1 div.sk-label.fitted:hover label.sk-toggleable__label.fitted {\n",
              "  color: var(--sklearn-color-text);\n",
              "  background-color: var(--sklearn-color-fitted-level-2);\n",
              "}\n",
              "\n",
              "/* Estimator label */\n",
              "\n",
              "#sk-container-id-1 div.sk-label label {\n",
              "  font-family: monospace;\n",
              "  font-weight: bold;\n",
              "  display: inline-block;\n",
              "  line-height: 1.2em;\n",
              "}\n",
              "\n",
              "#sk-container-id-1 div.sk-label-container {\n",
              "  text-align: center;\n",
              "}\n",
              "\n",
              "/* Estimator-specific */\n",
              "#sk-container-id-1 div.sk-estimator {\n",
              "  font-family: monospace;\n",
              "  border: 1px dotted var(--sklearn-color-border-box);\n",
              "  border-radius: 0.25em;\n",
              "  box-sizing: border-box;\n",
              "  margin-bottom: 0.5em;\n",
              "  /* unfitted */\n",
              "  background-color: var(--sklearn-color-unfitted-level-0);\n",
              "}\n",
              "\n",
              "#sk-container-id-1 div.sk-estimator.fitted {\n",
              "  /* fitted */\n",
              "  background-color: var(--sklearn-color-fitted-level-0);\n",
              "}\n",
              "\n",
              "/* on hover */\n",
              "#sk-container-id-1 div.sk-estimator:hover {\n",
              "  /* unfitted */\n",
              "  background-color: var(--sklearn-color-unfitted-level-2);\n",
              "}\n",
              "\n",
              "#sk-container-id-1 div.sk-estimator.fitted:hover {\n",
              "  /* fitted */\n",
              "  background-color: var(--sklearn-color-fitted-level-2);\n",
              "}\n",
              "\n",
              "/* Specification for estimator info (e.g. \"i\" and \"?\") */\n",
              "\n",
              "/* Common style for \"i\" and \"?\" */\n",
              "\n",
              ".sk-estimator-doc-link,\n",
              "a:link.sk-estimator-doc-link,\n",
              "a:visited.sk-estimator-doc-link {\n",
              "  float: right;\n",
              "  font-size: smaller;\n",
              "  line-height: 1em;\n",
              "  font-family: monospace;\n",
              "  background-color: var(--sklearn-color-background);\n",
              "  border-radius: 1em;\n",
              "  height: 1em;\n",
              "  width: 1em;\n",
              "  text-decoration: none !important;\n",
              "  margin-left: 0.5em;\n",
              "  text-align: center;\n",
              "  /* unfitted */\n",
              "  border: var(--sklearn-color-unfitted-level-1) 1pt solid;\n",
              "  color: var(--sklearn-color-unfitted-level-1);\n",
              "}\n",
              "\n",
              ".sk-estimator-doc-link.fitted,\n",
              "a:link.sk-estimator-doc-link.fitted,\n",
              "a:visited.sk-estimator-doc-link.fitted {\n",
              "  /* fitted */\n",
              "  border: var(--sklearn-color-fitted-level-1) 1pt solid;\n",
              "  color: var(--sklearn-color-fitted-level-1);\n",
              "}\n",
              "\n",
              "/* On hover */\n",
              "div.sk-estimator:hover .sk-estimator-doc-link:hover,\n",
              ".sk-estimator-doc-link:hover,\n",
              "div.sk-label-container:hover .sk-estimator-doc-link:hover,\n",
              ".sk-estimator-doc-link:hover {\n",
              "  /* unfitted */\n",
              "  background-color: var(--sklearn-color-unfitted-level-3);\n",
              "  color: var(--sklearn-color-background);\n",
              "  text-decoration: none;\n",
              "}\n",
              "\n",
              "div.sk-estimator.fitted:hover .sk-estimator-doc-link.fitted:hover,\n",
              ".sk-estimator-doc-link.fitted:hover,\n",
              "div.sk-label-container:hover .sk-estimator-doc-link.fitted:hover,\n",
              ".sk-estimator-doc-link.fitted:hover {\n",
              "  /* fitted */\n",
              "  background-color: var(--sklearn-color-fitted-level-3);\n",
              "  color: var(--sklearn-color-background);\n",
              "  text-decoration: none;\n",
              "}\n",
              "\n",
              "/* Span, style for the box shown on hovering the info icon */\n",
              ".sk-estimator-doc-link span {\n",
              "  display: none;\n",
              "  z-index: 9999;\n",
              "  position: relative;\n",
              "  font-weight: normal;\n",
              "  right: .2ex;\n",
              "  padding: .5ex;\n",
              "  margin: .5ex;\n",
              "  width: min-content;\n",
              "  min-width: 20ex;\n",
              "  max-width: 50ex;\n",
              "  color: var(--sklearn-color-text);\n",
              "  box-shadow: 2pt 2pt 4pt #999;\n",
              "  /* unfitted */\n",
              "  background: var(--sklearn-color-unfitted-level-0);\n",
              "  border: .5pt solid var(--sklearn-color-unfitted-level-3);\n",
              "}\n",
              "\n",
              ".sk-estimator-doc-link.fitted span {\n",
              "  /* fitted */\n",
              "  background: var(--sklearn-color-fitted-level-0);\n",
              "  border: var(--sklearn-color-fitted-level-3);\n",
              "}\n",
              "\n",
              ".sk-estimator-doc-link:hover span {\n",
              "  display: block;\n",
              "}\n",
              "\n",
              "/* \"?\"-specific style due to the `<a>` HTML tag */\n",
              "\n",
              "#sk-container-id-1 a.estimator_doc_link {\n",
              "  float: right;\n",
              "  font-size: 1rem;\n",
              "  line-height: 1em;\n",
              "  font-family: monospace;\n",
              "  background-color: var(--sklearn-color-background);\n",
              "  border-radius: 1rem;\n",
              "  height: 1rem;\n",
              "  width: 1rem;\n",
              "  text-decoration: none;\n",
              "  /* unfitted */\n",
              "  color: var(--sklearn-color-unfitted-level-1);\n",
              "  border: var(--sklearn-color-unfitted-level-1) 1pt solid;\n",
              "}\n",
              "\n",
              "#sk-container-id-1 a.estimator_doc_link.fitted {\n",
              "  /* fitted */\n",
              "  border: var(--sklearn-color-fitted-level-1) 1pt solid;\n",
              "  color: var(--sklearn-color-fitted-level-1);\n",
              "}\n",
              "\n",
              "/* On hover */\n",
              "#sk-container-id-1 a.estimator_doc_link:hover {\n",
              "  /* unfitted */\n",
              "  background-color: var(--sklearn-color-unfitted-level-3);\n",
              "  color: var(--sklearn-color-background);\n",
              "  text-decoration: none;\n",
              "}\n",
              "\n",
              "#sk-container-id-1 a.estimator_doc_link.fitted:hover {\n",
              "  /* fitted */\n",
              "  background-color: var(--sklearn-color-fitted-level-3);\n",
              "}\n",
              "</style><div id=\"sk-container-id-1\" class=\"sk-top-container\"><div class=\"sk-text-repr-fallback\"><pre>RandomForestClassifier(random_state=42)</pre><b>In a Jupyter environment, please rerun this cell to show the HTML representation or trust the notebook. <br />On GitHub, the HTML representation is unable to render, please try loading this page with nbviewer.org.</b></div><div class=\"sk-container\" hidden><div class=\"sk-item\"><div class=\"sk-estimator fitted sk-toggleable\"><input class=\"sk-toggleable__control sk-hidden--visually\" id=\"sk-estimator-id-1\" type=\"checkbox\" checked><label for=\"sk-estimator-id-1\" class=\"sk-toggleable__label fitted sk-toggleable__label-arrow\"><div><div>RandomForestClassifier</div></div><div><a class=\"sk-estimator-doc-link fitted\" rel=\"noreferrer\" target=\"_blank\" href=\"https://scikit-learn.org/1.6/modules/generated/sklearn.ensemble.RandomForestClassifier.html\">?<span>Documentation for RandomForestClassifier</span></a><span class=\"sk-estimator-doc-link fitted\">i<span>Fitted</span></span></div></label><div class=\"sk-toggleable__content fitted\"><pre>RandomForestClassifier(random_state=42)</pre></div> </div></div></div></div>"
            ],
            "text/plain": [
              "RandomForestClassifier(random_state=42)"
            ]
          },
          "execution_count": 34,
          "metadata": {},
          "output_type": "execute_result"
        }
      ],
      "source": [
        "from sklearn.ensemble import RandomForestClassifier\n",
        "from sklearn.metrics import classification_report, confusion_matrix\n",
        "model = RandomForestClassifier(n_estimators=100, random_state=42)\n",
        "model.fit(X_train, y_train)\n"
      ]
    },
    {
      "cell_type": "code",
      "execution_count": null,
      "metadata": {
        "id": "COpS1vk-WTlq"
      },
      "outputs": [],
      "source": [
        "prediction_y = model.predict(X_test)"
      ]
    },
    {
      "cell_type": "code",
      "execution_count": null,
      "metadata": {
        "colab": {
          "base_uri": "https://localhost:8080/"
        },
        "id": "UoP1X7f7Wrb8",
        "outputId": "fa9b5ba2-0e5e-48c7-b5a5-8003444eb7f1"
      },
      "outputs": [
        {
          "name": "stdout",
          "output_type": "stream",
          "text": [
            "                                     precision    recall  f1-score   support\n",
            "\n",
            "                        Normal ride       0.99      1.00      1.00    467097\n",
            "Too long and indicates unusual ride       0.62      0.19      0.29      3313\n",
            "\n",
            "                           accuracy                           0.99    470410\n",
            "                          macro avg       0.81      0.59      0.64    470410\n",
            "                       weighted avg       0.99      0.99      0.99    470410\n",
            "\n"
          ]
        }
      ],
      "source": [
        "from sklearn.metrics import classification_report, confusion_matrix\n",
        "print(classification_report(y_test, prediction_y))"
      ]
    },
    {
      "cell_type": "code",
      "execution_count": null,
      "metadata": {
        "colab": {
          "base_uri": "https://localhost:8080/"
        },
        "id": "TWT3SeXAYPbH",
        "outputId": "5bf37253-861a-441e-b864-2b54c6beddca"
      },
      "outputs": [
        {
          "name": "stdout",
          "output_type": "stream",
          "text": [
            "[[466722    375]\n",
            " [  2700    613]]\n"
          ]
        }
      ],
      "source": [
        "print(confusion_matrix(y_test, prediction_y))"
      ]
    },
    {
      "cell_type": "code",
      "execution_count": null,
      "metadata": {
        "id": "MjMEjcBsZYDp"
      },
      "outputs": [],
      "source": [
        "#just to see if stats matches the ml approach\n",
        "\n",
        "df_test = df.loc[y_test.index].copy()\n",
        "df_test['ml_predicted_category'] = prediction_y"
      ]
    },
    {
      "cell_type": "code",
      "execution_count": null,
      "metadata": {
        "colab": {
          "base_uri": "https://localhost:8080/"
        },
        "id": "WWpTxQrPZ1nE",
        "outputId": "f31ab6f4-07e5-4219-8e7a-31b63137e990"
      },
      "outputs": [
        {
          "name": "stdout",
          "output_type": "stream",
          "text": [
            "agreement\n",
            "True     467335\n",
            "False      3075\n",
            "Name: count, dtype: int64\n"
          ]
        }
      ],
      "source": [
        "df_test['agreement'] = df_test['duration_categorization'] == df_test['ml_predicted_category']\n",
        "print(df_test['agreement'].value_counts())"
      ]
    },
    {
      "cell_type": "code",
      "execution_count": null,
      "metadata": {
        "colab": {
          "base_uri": "https://localhost:8080/"
        },
        "id": "IJbvtvMtaUXO",
        "outputId": "5775a64d-4e00-40f6-f046-1499b324b7ac"
      },
      "outputs": [
        {
          "name": "stdout",
          "output_type": "stream",
          "text": [
            "Accuracy: 0.9934631491677473\n",
            "Precision: 0.9916156294590123\n",
            "Recall: 0.9934631491677473\n",
            "F1-score: 0.9917044442201236\n"
          ]
        }
      ],
      "source": [
        "from sklearn.metrics import accuracy_score, precision_score, recall_score, f1_score\n",
        "\n",
        "accuracy = accuracy_score(y_test, prediction_y)\n",
        "precision = precision_score(y_test, prediction_y, average='weighted')\n",
        "recall = recall_score(y_test, prediction_y, average='weighted')\n",
        "f1 = f1_score(y_test, prediction_y, average='weighted')\n",
        "\n",
        "print(f\"Accuracy: {accuracy}\")\n",
        "print(f\"Precision: {precision}\")\n",
        "print(f\"Recall: {recall}\")\n",
        "print(f\"F1-score: {f1}\")"
      ]
    },
    {
      "cell_type": "code",
      "execution_count": null,
      "metadata": {
        "id": "A9Rgm3OrMnyu"
      },
      "outputs": [],
      "source": [
        "df_test[['ride_id', 'start_station_name', 'end_station_name',\n",
        "         'total_timetaken', 'duration_categorization',\n",
        "         'ml_predicted_category']].to_csv('tripcategorization_results.csv', index=False)"
      ]
    },
    {
      "cell_type": "markdown",
      "metadata": {
        "id": "yXU_aknZbZ6O"
      },
      "source": [
        "now looking at the unusual rides:"
      ]
    },
    {
      "cell_type": "code",
      "execution_count": null,
      "metadata": {
        "colab": {
          "base_uri": "https://localhost:8080/"
        },
        "id": "n_USVYCHbdeh",
        "outputId": "f8803b9d-7efd-4d55-a701-114bf392dae1"
      },
      "outputs": [
        {
          "name": "stdout",
          "output_type": "stream",
          "text": [
            "                  ride_id  total_timetaken  \\\n",
            "1772543  CF484EE45A71DBE7        78.043683   \n",
            "300268   E63FE8454B3D9CF5       722.671483   \n",
            "271023   034A6E3B427BF956        58.093167   \n",
            "91781    72C4E71E13BBC256        78.977017   \n",
            "1449901  57DAAC1B50626F1D       155.058483   \n",
            "\n",
            "                     duration_categorization ml_predicted_category  \n",
            "1772543  Too long and indicates unusual ride           Normal ride  \n",
            "300268   Too long and indicates unusual ride           Normal ride  \n",
            "271023   Too long and indicates unusual ride           Normal ride  \n",
            "91781    Too long and indicates unusual ride           Normal ride  \n",
            "1449901  Too long and indicates unusual ride           Normal ride  \n"
          ]
        }
      ],
      "source": [
        "misclassified = df_test[df_test['agreement'] == False]\n",
        "print(misclassified[['ride_id','total_timetaken','duration_categorization','ml_predicted_category']].head())\n"
      ]
    },
    {
      "cell_type": "markdown",
      "metadata": {
        "id": "Z5n37s6rf2N3"
      },
      "source": [
        "# 2nd ml idea -> station popularity/busyness :"
      ]
    },
    {
      "cell_type": "code",
      "execution_count": null,
      "metadata": {
        "id": "bQJV19iXgRKn"
      },
      "outputs": [],
      "source": [
        "df['started_at'] = pd.to_datetime(df['started_at'])\n",
        "df['hour'] = df['started_at'].dt.hour\n",
        "# df['minutes'] = df['started_at'].dt.minute\n",
        "df['day_of_week'] = df['started_at'].dt.dayofweek\n"
      ]
    },
    {
      "cell_type": "code",
      "execution_count": null,
      "metadata": {
        "id": "HNFgI0sN0Uzg"
      },
      "outputs": [],
      "source": [
        "station_busy = df.groupby(\n",
        "    ['start_station_name', 'day_of_week', 'hour']\n",
        ").size().reset_index(name='ride_count')"
      ]
    },
    {
      "cell_type": "code",
      "execution_count": null,
      "metadata": {
        "colab": {
          "base_uri": "https://localhost:8080/"
        },
        "id": "kBEka6Y80pXW",
        "outputId": "44edb93e-9834-4f15-c709-695fbe493674"
      },
      "outputs": [
        {
          "name": "stdout",
          "output_type": "stream",
          "text": [
            "   start_station_name  day_of_week  hour  ride_count\n",
            "0    1 Ave & E 110 St            0     1           2\n",
            "1    1 Ave & E 110 St            0     3           1\n",
            "2    1 Ave & E 110 St            0     5           1\n",
            "3    1 Ave & E 110 St            0     6          11\n",
            "4    1 Ave & E 110 St            0     7          12\n",
            "5    1 Ave & E 110 St            0     8          14\n",
            "6    1 Ave & E 110 St            0     9           6\n",
            "7    1 Ave & E 110 St            0    10           3\n",
            "8    1 Ave & E 110 St            0    11           8\n",
            "9    1 Ave & E 110 St            0    12          10\n",
            "10   1 Ave & E 110 St            0    13          11\n",
            "11   1 Ave & E 110 St            0    14           4\n",
            "12   1 Ave & E 110 St            0    15           8\n",
            "13   1 Ave & E 110 St            0    16          13\n",
            "14   1 Ave & E 110 St            0    17           7\n",
            "15   1 Ave & E 110 St            0    18           6\n",
            "16   1 Ave & E 110 St            0    19          14\n",
            "17   1 Ave & E 110 St            0    20           8\n",
            "18   1 Ave & E 110 St            0    21          11\n",
            "19   1 Ave & E 110 St            0    22           3\n"
          ]
        }
      ],
      "source": [
        "print(station_busy.head(20))"
      ]
    },
    {
      "cell_type": "code",
      "execution_count": null,
      "metadata": {
        "id": "38FhWaP90zX-"
      },
      "outputs": [],
      "source": [
        "from sklearn.preprocessing import LabelEncoder\n",
        "\n",
        "le_station = LabelEncoder()\n",
        "station_busy['station_id'] = le_station.fit_transform(station_busy['start_station_name'])\n"
      ]
    },
    {
      "cell_type": "code",
      "execution_count": null,
      "metadata": {
        "id": "gRb7-c291RI-"
      },
      "outputs": [],
      "source": [
        "X = station_busy[['day_of_week', 'hour', 'station_id']]\n",
        "y = station_busy['ride_count']"
      ]
    },
    {
      "cell_type": "code",
      "execution_count": null,
      "metadata": {
        "id": "XE2ii8ry1Uz9"
      },
      "outputs": [],
      "source": [
        "from sklearn.model_selection import train_test_split\n",
        "\n",
        "X_train, X_test, y_train, y_test = train_test_split(\n",
        "    X, y, test_size=0.25, random_state=0\n",
        ")"
      ]
    },
    {
      "cell_type": "code",
      "execution_count": null,
      "metadata": {
        "colab": {
          "base_uri": "https://localhost:8080/",
          "height": 80
        },
        "id": "BleiOTl11lRE",
        "outputId": "3b4aa289-1ca3-4d14-c50d-3ceee6145013"
      },
      "outputs": [
        {
          "data": {
            "text/html": [
              "<style>#sk-container-id-2 {\n",
              "  /* Definition of color scheme common for light and dark mode */\n",
              "  --sklearn-color-text: #000;\n",
              "  --sklearn-color-text-muted: #666;\n",
              "  --sklearn-color-line: gray;\n",
              "  /* Definition of color scheme for unfitted estimators */\n",
              "  --sklearn-color-unfitted-level-0: #fff5e6;\n",
              "  --sklearn-color-unfitted-level-1: #f6e4d2;\n",
              "  --sklearn-color-unfitted-level-2: #ffe0b3;\n",
              "  --sklearn-color-unfitted-level-3: chocolate;\n",
              "  /* Definition of color scheme for fitted estimators */\n",
              "  --sklearn-color-fitted-level-0: #f0f8ff;\n",
              "  --sklearn-color-fitted-level-1: #d4ebff;\n",
              "  --sklearn-color-fitted-level-2: #b3dbfd;\n",
              "  --sklearn-color-fitted-level-3: cornflowerblue;\n",
              "\n",
              "  /* Specific color for light theme */\n",
              "  --sklearn-color-text-on-default-background: var(--sg-text-color, var(--theme-code-foreground, var(--jp-content-font-color1, black)));\n",
              "  --sklearn-color-background: var(--sg-background-color, var(--theme-background, var(--jp-layout-color0, white)));\n",
              "  --sklearn-color-border-box: var(--sg-text-color, var(--theme-code-foreground, var(--jp-content-font-color1, black)));\n",
              "  --sklearn-color-icon: #696969;\n",
              "\n",
              "  @media (prefers-color-scheme: dark) {\n",
              "    /* Redefinition of color scheme for dark theme */\n",
              "    --sklearn-color-text-on-default-background: var(--sg-text-color, var(--theme-code-foreground, var(--jp-content-font-color1, white)));\n",
              "    --sklearn-color-background: var(--sg-background-color, var(--theme-background, var(--jp-layout-color0, #111)));\n",
              "    --sklearn-color-border-box: var(--sg-text-color, var(--theme-code-foreground, var(--jp-content-font-color1, white)));\n",
              "    --sklearn-color-icon: #878787;\n",
              "  }\n",
              "}\n",
              "\n",
              "#sk-container-id-2 {\n",
              "  color: var(--sklearn-color-text);\n",
              "}\n",
              "\n",
              "#sk-container-id-2 pre {\n",
              "  padding: 0;\n",
              "}\n",
              "\n",
              "#sk-container-id-2 input.sk-hidden--visually {\n",
              "  border: 0;\n",
              "  clip: rect(1px 1px 1px 1px);\n",
              "  clip: rect(1px, 1px, 1px, 1px);\n",
              "  height: 1px;\n",
              "  margin: -1px;\n",
              "  overflow: hidden;\n",
              "  padding: 0;\n",
              "  position: absolute;\n",
              "  width: 1px;\n",
              "}\n",
              "\n",
              "#sk-container-id-2 div.sk-dashed-wrapped {\n",
              "  border: 1px dashed var(--sklearn-color-line);\n",
              "  margin: 0 0.4em 0.5em 0.4em;\n",
              "  box-sizing: border-box;\n",
              "  padding-bottom: 0.4em;\n",
              "  background-color: var(--sklearn-color-background);\n",
              "}\n",
              "\n",
              "#sk-container-id-2 div.sk-container {\n",
              "  /* jupyter's `normalize.less` sets `[hidden] { display: none; }`\n",
              "     but bootstrap.min.css set `[hidden] { display: none !important; }`\n",
              "     so we also need the `!important` here to be able to override the\n",
              "     default hidden behavior on the sphinx rendered scikit-learn.org.\n",
              "     See: https://github.com/scikit-learn/scikit-learn/issues/21755 */\n",
              "  display: inline-block !important;\n",
              "  position: relative;\n",
              "}\n",
              "\n",
              "#sk-container-id-2 div.sk-text-repr-fallback {\n",
              "  display: none;\n",
              "}\n",
              "\n",
              "div.sk-parallel-item,\n",
              "div.sk-serial,\n",
              "div.sk-item {\n",
              "  /* draw centered vertical line to link estimators */\n",
              "  background-image: linear-gradient(var(--sklearn-color-text-on-default-background), var(--sklearn-color-text-on-default-background));\n",
              "  background-size: 2px 100%;\n",
              "  background-repeat: no-repeat;\n",
              "  background-position: center center;\n",
              "}\n",
              "\n",
              "/* Parallel-specific style estimator block */\n",
              "\n",
              "#sk-container-id-2 div.sk-parallel-item::after {\n",
              "  content: \"\";\n",
              "  width: 100%;\n",
              "  border-bottom: 2px solid var(--sklearn-color-text-on-default-background);\n",
              "  flex-grow: 1;\n",
              "}\n",
              "\n",
              "#sk-container-id-2 div.sk-parallel {\n",
              "  display: flex;\n",
              "  align-items: stretch;\n",
              "  justify-content: center;\n",
              "  background-color: var(--sklearn-color-background);\n",
              "  position: relative;\n",
              "}\n",
              "\n",
              "#sk-container-id-2 div.sk-parallel-item {\n",
              "  display: flex;\n",
              "  flex-direction: column;\n",
              "}\n",
              "\n",
              "#sk-container-id-2 div.sk-parallel-item:first-child::after {\n",
              "  align-self: flex-end;\n",
              "  width: 50%;\n",
              "}\n",
              "\n",
              "#sk-container-id-2 div.sk-parallel-item:last-child::after {\n",
              "  align-self: flex-start;\n",
              "  width: 50%;\n",
              "}\n",
              "\n",
              "#sk-container-id-2 div.sk-parallel-item:only-child::after {\n",
              "  width: 0;\n",
              "}\n",
              "\n",
              "/* Serial-specific style estimator block */\n",
              "\n",
              "#sk-container-id-2 div.sk-serial {\n",
              "  display: flex;\n",
              "  flex-direction: column;\n",
              "  align-items: center;\n",
              "  background-color: var(--sklearn-color-background);\n",
              "  padding-right: 1em;\n",
              "  padding-left: 1em;\n",
              "}\n",
              "\n",
              "\n",
              "/* Toggleable style: style used for estimator/Pipeline/ColumnTransformer box that is\n",
              "clickable and can be expanded/collapsed.\n",
              "- Pipeline and ColumnTransformer use this feature and define the default style\n",
              "- Estimators will overwrite some part of the style using the `sk-estimator` class\n",
              "*/\n",
              "\n",
              "/* Pipeline and ColumnTransformer style (default) */\n",
              "\n",
              "#sk-container-id-2 div.sk-toggleable {\n",
              "  /* Default theme specific background. It is overwritten whether we have a\n",
              "  specific estimator or a Pipeline/ColumnTransformer */\n",
              "  background-color: var(--sklearn-color-background);\n",
              "}\n",
              "\n",
              "/* Toggleable label */\n",
              "#sk-container-id-2 label.sk-toggleable__label {\n",
              "  cursor: pointer;\n",
              "  display: flex;\n",
              "  width: 100%;\n",
              "  margin-bottom: 0;\n",
              "  padding: 0.5em;\n",
              "  box-sizing: border-box;\n",
              "  text-align: center;\n",
              "  align-items: start;\n",
              "  justify-content: space-between;\n",
              "  gap: 0.5em;\n",
              "}\n",
              "\n",
              "#sk-container-id-2 label.sk-toggleable__label .caption {\n",
              "  font-size: 0.6rem;\n",
              "  font-weight: lighter;\n",
              "  color: var(--sklearn-color-text-muted);\n",
              "}\n",
              "\n",
              "#sk-container-id-2 label.sk-toggleable__label-arrow:before {\n",
              "  /* Arrow on the left of the label */\n",
              "  content: \"▸\";\n",
              "  float: left;\n",
              "  margin-right: 0.25em;\n",
              "  color: var(--sklearn-color-icon);\n",
              "}\n",
              "\n",
              "#sk-container-id-2 label.sk-toggleable__label-arrow:hover:before {\n",
              "  color: var(--sklearn-color-text);\n",
              "}\n",
              "\n",
              "/* Toggleable content - dropdown */\n",
              "\n",
              "#sk-container-id-2 div.sk-toggleable__content {\n",
              "  max-height: 0;\n",
              "  max-width: 0;\n",
              "  overflow: hidden;\n",
              "  text-align: left;\n",
              "  /* unfitted */\n",
              "  background-color: var(--sklearn-color-unfitted-level-0);\n",
              "}\n",
              "\n",
              "#sk-container-id-2 div.sk-toggleable__content.fitted {\n",
              "  /* fitted */\n",
              "  background-color: var(--sklearn-color-fitted-level-0);\n",
              "}\n",
              "\n",
              "#sk-container-id-2 div.sk-toggleable__content pre {\n",
              "  margin: 0.2em;\n",
              "  border-radius: 0.25em;\n",
              "  color: var(--sklearn-color-text);\n",
              "  /* unfitted */\n",
              "  background-color: var(--sklearn-color-unfitted-level-0);\n",
              "}\n",
              "\n",
              "#sk-container-id-2 div.sk-toggleable__content.fitted pre {\n",
              "  /* unfitted */\n",
              "  background-color: var(--sklearn-color-fitted-level-0);\n",
              "}\n",
              "\n",
              "#sk-container-id-2 input.sk-toggleable__control:checked~div.sk-toggleable__content {\n",
              "  /* Expand drop-down */\n",
              "  max-height: 200px;\n",
              "  max-width: 100%;\n",
              "  overflow: auto;\n",
              "}\n",
              "\n",
              "#sk-container-id-2 input.sk-toggleable__control:checked~label.sk-toggleable__label-arrow:before {\n",
              "  content: \"▾\";\n",
              "}\n",
              "\n",
              "/* Pipeline/ColumnTransformer-specific style */\n",
              "\n",
              "#sk-container-id-2 div.sk-label input.sk-toggleable__control:checked~label.sk-toggleable__label {\n",
              "  color: var(--sklearn-color-text);\n",
              "  background-color: var(--sklearn-color-unfitted-level-2);\n",
              "}\n",
              "\n",
              "#sk-container-id-2 div.sk-label.fitted input.sk-toggleable__control:checked~label.sk-toggleable__label {\n",
              "  background-color: var(--sklearn-color-fitted-level-2);\n",
              "}\n",
              "\n",
              "/* Estimator-specific style */\n",
              "\n",
              "/* Colorize estimator box */\n",
              "#sk-container-id-2 div.sk-estimator input.sk-toggleable__control:checked~label.sk-toggleable__label {\n",
              "  /* unfitted */\n",
              "  background-color: var(--sklearn-color-unfitted-level-2);\n",
              "}\n",
              "\n",
              "#sk-container-id-2 div.sk-estimator.fitted input.sk-toggleable__control:checked~label.sk-toggleable__label {\n",
              "  /* fitted */\n",
              "  background-color: var(--sklearn-color-fitted-level-2);\n",
              "}\n",
              "\n",
              "#sk-container-id-2 div.sk-label label.sk-toggleable__label,\n",
              "#sk-container-id-2 div.sk-label label {\n",
              "  /* The background is the default theme color */\n",
              "  color: var(--sklearn-color-text-on-default-background);\n",
              "}\n",
              "\n",
              "/* On hover, darken the color of the background */\n",
              "#sk-container-id-2 div.sk-label:hover label.sk-toggleable__label {\n",
              "  color: var(--sklearn-color-text);\n",
              "  background-color: var(--sklearn-color-unfitted-level-2);\n",
              "}\n",
              "\n",
              "/* Label box, darken color on hover, fitted */\n",
              "#sk-container-id-2 div.sk-label.fitted:hover label.sk-toggleable__label.fitted {\n",
              "  color: var(--sklearn-color-text);\n",
              "  background-color: var(--sklearn-color-fitted-level-2);\n",
              "}\n",
              "\n",
              "/* Estimator label */\n",
              "\n",
              "#sk-container-id-2 div.sk-label label {\n",
              "  font-family: monospace;\n",
              "  font-weight: bold;\n",
              "  display: inline-block;\n",
              "  line-height: 1.2em;\n",
              "}\n",
              "\n",
              "#sk-container-id-2 div.sk-label-container {\n",
              "  text-align: center;\n",
              "}\n",
              "\n",
              "/* Estimator-specific */\n",
              "#sk-container-id-2 div.sk-estimator {\n",
              "  font-family: monospace;\n",
              "  border: 1px dotted var(--sklearn-color-border-box);\n",
              "  border-radius: 0.25em;\n",
              "  box-sizing: border-box;\n",
              "  margin-bottom: 0.5em;\n",
              "  /* unfitted */\n",
              "  background-color: var(--sklearn-color-unfitted-level-0);\n",
              "}\n",
              "\n",
              "#sk-container-id-2 div.sk-estimator.fitted {\n",
              "  /* fitted */\n",
              "  background-color: var(--sklearn-color-fitted-level-0);\n",
              "}\n",
              "\n",
              "/* on hover */\n",
              "#sk-container-id-2 div.sk-estimator:hover {\n",
              "  /* unfitted */\n",
              "  background-color: var(--sklearn-color-unfitted-level-2);\n",
              "}\n",
              "\n",
              "#sk-container-id-2 div.sk-estimator.fitted:hover {\n",
              "  /* fitted */\n",
              "  background-color: var(--sklearn-color-fitted-level-2);\n",
              "}\n",
              "\n",
              "/* Specification for estimator info (e.g. \"i\" and \"?\") */\n",
              "\n",
              "/* Common style for \"i\" and \"?\" */\n",
              "\n",
              ".sk-estimator-doc-link,\n",
              "a:link.sk-estimator-doc-link,\n",
              "a:visited.sk-estimator-doc-link {\n",
              "  float: right;\n",
              "  font-size: smaller;\n",
              "  line-height: 1em;\n",
              "  font-family: monospace;\n",
              "  background-color: var(--sklearn-color-background);\n",
              "  border-radius: 1em;\n",
              "  height: 1em;\n",
              "  width: 1em;\n",
              "  text-decoration: none !important;\n",
              "  margin-left: 0.5em;\n",
              "  text-align: center;\n",
              "  /* unfitted */\n",
              "  border: var(--sklearn-color-unfitted-level-1) 1pt solid;\n",
              "  color: var(--sklearn-color-unfitted-level-1);\n",
              "}\n",
              "\n",
              ".sk-estimator-doc-link.fitted,\n",
              "a:link.sk-estimator-doc-link.fitted,\n",
              "a:visited.sk-estimator-doc-link.fitted {\n",
              "  /* fitted */\n",
              "  border: var(--sklearn-color-fitted-level-1) 1pt solid;\n",
              "  color: var(--sklearn-color-fitted-level-1);\n",
              "}\n",
              "\n",
              "/* On hover */\n",
              "div.sk-estimator:hover .sk-estimator-doc-link:hover,\n",
              ".sk-estimator-doc-link:hover,\n",
              "div.sk-label-container:hover .sk-estimator-doc-link:hover,\n",
              ".sk-estimator-doc-link:hover {\n",
              "  /* unfitted */\n",
              "  background-color: var(--sklearn-color-unfitted-level-3);\n",
              "  color: var(--sklearn-color-background);\n",
              "  text-decoration: none;\n",
              "}\n",
              "\n",
              "div.sk-estimator.fitted:hover .sk-estimator-doc-link.fitted:hover,\n",
              ".sk-estimator-doc-link.fitted:hover,\n",
              "div.sk-label-container:hover .sk-estimator-doc-link.fitted:hover,\n",
              ".sk-estimator-doc-link.fitted:hover {\n",
              "  /* fitted */\n",
              "  background-color: var(--sklearn-color-fitted-level-3);\n",
              "  color: var(--sklearn-color-background);\n",
              "  text-decoration: none;\n",
              "}\n",
              "\n",
              "/* Span, style for the box shown on hovering the info icon */\n",
              ".sk-estimator-doc-link span {\n",
              "  display: none;\n",
              "  z-index: 9999;\n",
              "  position: relative;\n",
              "  font-weight: normal;\n",
              "  right: .2ex;\n",
              "  padding: .5ex;\n",
              "  margin: .5ex;\n",
              "  width: min-content;\n",
              "  min-width: 20ex;\n",
              "  max-width: 50ex;\n",
              "  color: var(--sklearn-color-text);\n",
              "  box-shadow: 2pt 2pt 4pt #999;\n",
              "  /* unfitted */\n",
              "  background: var(--sklearn-color-unfitted-level-0);\n",
              "  border: .5pt solid var(--sklearn-color-unfitted-level-3);\n",
              "}\n",
              "\n",
              ".sk-estimator-doc-link.fitted span {\n",
              "  /* fitted */\n",
              "  background: var(--sklearn-color-fitted-level-0);\n",
              "  border: var(--sklearn-color-fitted-level-3);\n",
              "}\n",
              "\n",
              ".sk-estimator-doc-link:hover span {\n",
              "  display: block;\n",
              "}\n",
              "\n",
              "/* \"?\"-specific style due to the `<a>` HTML tag */\n",
              "\n",
              "#sk-container-id-2 a.estimator_doc_link {\n",
              "  float: right;\n",
              "  font-size: 1rem;\n",
              "  line-height: 1em;\n",
              "  font-family: monospace;\n",
              "  background-color: var(--sklearn-color-background);\n",
              "  border-radius: 1rem;\n",
              "  height: 1rem;\n",
              "  width: 1rem;\n",
              "  text-decoration: none;\n",
              "  /* unfitted */\n",
              "  color: var(--sklearn-color-unfitted-level-1);\n",
              "  border: var(--sklearn-color-unfitted-level-1) 1pt solid;\n",
              "}\n",
              "\n",
              "#sk-container-id-2 a.estimator_doc_link.fitted {\n",
              "  /* fitted */\n",
              "  border: var(--sklearn-color-fitted-level-1) 1pt solid;\n",
              "  color: var(--sklearn-color-fitted-level-1);\n",
              "}\n",
              "\n",
              "/* On hover */\n",
              "#sk-container-id-2 a.estimator_doc_link:hover {\n",
              "  /* unfitted */\n",
              "  background-color: var(--sklearn-color-unfitted-level-3);\n",
              "  color: var(--sklearn-color-background);\n",
              "  text-decoration: none;\n",
              "}\n",
              "\n",
              "#sk-container-id-2 a.estimator_doc_link.fitted:hover {\n",
              "  /* fitted */\n",
              "  background-color: var(--sklearn-color-fitted-level-3);\n",
              "}\n",
              "</style><div id=\"sk-container-id-2\" class=\"sk-top-container\"><div class=\"sk-text-repr-fallback\"><pre>RandomForestRegressor(random_state=0)</pre><b>In a Jupyter environment, please rerun this cell to show the HTML representation or trust the notebook. <br />On GitHub, the HTML representation is unable to render, please try loading this page with nbviewer.org.</b></div><div class=\"sk-container\" hidden><div class=\"sk-item\"><div class=\"sk-estimator fitted sk-toggleable\"><input class=\"sk-toggleable__control sk-hidden--visually\" id=\"sk-estimator-id-2\" type=\"checkbox\" checked><label for=\"sk-estimator-id-2\" class=\"sk-toggleable__label fitted sk-toggleable__label-arrow\"><div><div>RandomForestRegressor</div></div><div><a class=\"sk-estimator-doc-link fitted\" rel=\"noreferrer\" target=\"_blank\" href=\"https://scikit-learn.org/1.6/modules/generated/sklearn.ensemble.RandomForestRegressor.html\">?<span>Documentation for RandomForestRegressor</span></a><span class=\"sk-estimator-doc-link fitted\">i<span>Fitted</span></span></div></label><div class=\"sk-toggleable__content fitted\"><pre>RandomForestRegressor(random_state=0)</pre></div> </div></div></div></div>"
            ],
            "text/plain": [
              "RandomForestRegressor(random_state=0)"
            ]
          },
          "execution_count": 51,
          "metadata": {},
          "output_type": "execute_result"
        }
      ],
      "source": [
        "from sklearn.ensemble import RandomForestRegressor\n",
        "\n",
        "# Training a randomforest to predict number of rides\n",
        "model = RandomForestRegressor(n_estimators=100, random_state=0)\n",
        "model.fit(X_train, y_train)"
      ]
    },
    {
      "cell_type": "code",
      "execution_count": null,
      "metadata": {
        "colab": {
          "base_uri": "https://localhost:8080/"
        },
        "id": "16u025GN1p-i",
        "outputId": "fd28f9eb-9a67-402f-b33a-8021caacb898"
      },
      "outputs": [
        {
          "name": "stdout",
          "output_type": "stream",
          "text": [
            "MAE: 2.860452981651376\n",
            "R² Score: 0.8349416944814908\n"
          ]
        }
      ],
      "source": [
        "from sklearn.metrics import mean_absolute_error, r2_score\n",
        "\n",
        "y_pred = model.predict(X_test)\n",
        "\n",
        "print(\"MAE:\", mean_absolute_error(y_test, y_pred))\n",
        "print(\"R² Score:\", r2_score(y_test, y_pred))\n"
      ]
    },
    {
      "cell_type": "code",
      "execution_count": null,
      "metadata": {
        "colab": {
          "base_uri": "https://localhost:8080/"
        },
        "id": "24ded1a3",
        "outputId": "86ab97ad-190a-44b6-9fad-7f1ff17283a8"
      },
      "outputs": [
        {
          "name": "stdout",
          "output_type": "stream",
          "text": [
            "Predictions saved to hourly_ride_predictions.csv\n"
          ]
        }
      ],
      "source": [
        "predictions_df = X_test.copy()\n",
        "predictions_df['actual_ride_count'] = y_test\n",
        "predictions_df['predicted_ride_count'] = y_pred\n",
        "\n",
        "predictions_df['start_station_name'] = le_station.inverse_transform(predictions_df['station_id'])\n",
        "predictions_df = predictions_df[['start_station_name', 'day_of_week', 'hour', 'actual_ride_count', 'predicted_ride_count']]\n",
        "predictions_df.to_csv('hourly_ride_predictions.csv', index=False)\n",
        "\n",
        "print(\"Predictions saved to hourly_ride_predictions.csv\")"
      ]
    },
    {
      "cell_type": "code",
      "execution_count": null,
      "metadata": {
        "colab": {
          "base_uri": "https://localhost:8080/"
        },
        "id": "ryyc1y0YPCB6",
        "outputId": "b691c46a-3ceb-4d80-bc05-32f09c59f9eb"
      },
      "outputs": [
        {
          "name": "stdout",
          "output_type": "stream",
          "text": [
            "Predicted number of bikes rented at 'W 21 St & 6 Ave' on day 24 at hour 16: 71.18\n"
          ]
        }
      ],
      "source": [
        "predict_station = \"W 21 St & 6 Ave\"\n",
        "predict_day = 24\n",
        "predict_hour = 16\n",
        "predict_station_id = le_station.transform([predict_station])[0]\n",
        "\n",
        "input_data = pd.DataFrame({\n",
        "    'day_of_week': [predict_day],\n",
        "    'hour': [predict_hour],\n",
        "    'station_id': [predict_station_id]\n",
        "})\n",
        "\n",
        "predicted_ride_count = model.predict(input_data)\n",
        "print(f\"Predicted number of bikes rented at '{predict_station}' on day {predict_day} at hour {predict_hour}: {predicted_ride_count[0]:.2f}\")"
      ]
    },
    {
      "cell_type": "code",
      "execution_count": null,
      "metadata": {
        "colab": {
          "base_uri": "https://localhost:8080/"
        },
        "id": "ae5214NX4JxY",
        "outputId": "5f834be0-a030-4c80-905a-41466809e7fe"
      },
      "outputs": [
        {
          "name": "stdout",
          "output_type": "stream",
          "text": [
            "           start_station_name  total_rides\n",
            "1938          W 21 St & 6 Ave         8320\n",
            "8             1 Ave & E 68 St         6554\n",
            "440           8 Ave & W 31 St         6325\n",
            "1958          W 31 St & 7 Ave         6020\n",
            "1019          E 33 St & 1 Ave         5879\n",
            "...                       ...          ...\n",
            "607        Borden Ave & 25 St            5\n",
            "333    56 Ave & Junction Blvd            5\n",
            "1744     Somers St & Broadway            5\n",
            "1144  Faile St & Garrison Ave            4\n",
            "454            87 St & 30 Ave            1\n",
            "\n",
            "[2122 rows x 2 columns]\n"
          ]
        }
      ],
      "source": [
        "\n",
        "station_total = df.groupby('start_station_name')['ride_id'].count().reset_index(name='total_rides')\n",
        "\n",
        "\n",
        "station_total = station_total.sort_values(by='total_rides', ascending=False)\n",
        "\n",
        "print(station_total)\n"
      ]
    },
    {
      "cell_type": "markdown",
      "metadata": {
        "id": "NoMjYxlbSEQz"
      },
      "source": [
        "Testing on the  month ->"
      ]
    },
    {
      "cell_type": "code",
      "execution_count": null,
      "metadata": {
        "id": "1SDcU6NGTj2d"
      },
      "outputs": [],
      "source": [
        "from urllib.request import urlretrieve\n",
        "import shutil\n",
        "\n",
        "url = \"https://s3.amazonaws.com/tripdata/202403-citibike-tripdata.zip\"\n",
        "urlretrieve(url, \"202403-citibike-tripdata.zip\") # Download dataset\n",
        "shutil.unpack_archive(\"202403-citibike-tripdata.zip\", \"202403-citibike-tripdata\") # Unzip dataset"
      ]
    },
    {
      "cell_type": "code",
      "execution_count": null,
      "metadata": {
        "id": "8KM3ltPEUb6t"
      },
      "outputs": [],
      "source": [
        "import pandas as pd\n",
        "import os\n",
        "\n",
        "csv_dir = \"/content/202403-citibike-tripdata/\"\n",
        "csv_files = [f for f in os.listdir(csv_dir) if f.endswith('.csv')]\n",
        "dfs = []\n",
        "\n",
        "for csv_file in csv_files:\n",
        "    file_path = os.path.join(csv_dir, csv_file)\n",
        "    df_temp = pd.read_csv(file_path, dtype={\n",
        "    \"start_station_id\": \"string\",\n",
        "    \"end_station_id\": \"string\"\n",
        "}, parse_dates=[\"started_at\", \"ended_at\"])  # convert station ids to string for now\n",
        "    dfs.append(df_temp)\n",
        "\n",
        "df_newdata = pd.concat(dfs, ignore_index=True) # combine the 2 csv files\n",
        "print(df_newdata.head())\n",
        "print(f\"\\nShape of the combined DataFrame: {df_newdata.shape}\")"
      ]
    },
    {
      "cell_type": "code",
      "execution_count": null,
      "metadata": {
        "id": "CCrpekE_UlAA"
      },
      "outputs": [],
      "source": [
        "# Convert to datetime\n",
        "df_newdata['started_at'] = pd.to_datetime(df_newdata['started_at'])\n",
        "df_newdata['day_of_week'] = df_newdata['started_at'].dt.dayofweek\n",
        "df_newdata['hour'] = df_newdata['started_at'].dt.hour\n",
        "df_newdata['station_id'] = le_station.transform(df_newdata['start_station_name'])\n"
      ]
    }
  ],
  "metadata": {
    "colab": {
      "provenance": []
    },
    "kernelspec": {
      "display_name": "base",
      "language": "python",
      "name": "python3"
    },
    "language_info": {
      "codemirror_mode": {
        "name": "ipython",
        "version": 3
      },
      "file_extension": ".py",
      "mimetype": "text/x-python",
      "name": "python",
      "nbconvert_exporter": "python",
      "pygments_lexer": "ipython3",
      "version": "3.11.7"
    }
  },
  "nbformat": 4,
  "nbformat_minor": 0
}
