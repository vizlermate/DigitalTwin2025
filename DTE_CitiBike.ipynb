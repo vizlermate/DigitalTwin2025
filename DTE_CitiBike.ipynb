{
  "nbformat": 4,
  "nbformat_minor": 0,
  "metadata": {
    "colab": {
      "provenance": [],
      "include_colab_link": true
    },
    "kernelspec": {
      "name": "python3",
      "display_name": "Python 3"
    },
    "language_info": {
      "name": "python"
    }
  },
  "cells": [
    {
      "cell_type": "markdown",
      "metadata": {
        "id": "view-in-github",
        "colab_type": "text"
      },
      "source": [
        "<a href=\"https://colab.research.google.com/github/vizlermate/DigitalTwin2025/blob/Sakshi/DTE_CitiBike.ipynb\" target=\"_parent\"><img src=\"https://colab.research.google.com/assets/colab-badge.svg\" alt=\"Open In Colab\"/></a>"
      ]
    },
    {
      "cell_type": "markdown",
      "source": [
        "# Data Input"
      ],
      "metadata": {
        "id": "UmNgxrlZJJn4"
      }
    },
    {
      "cell_type": "code",
      "source": [
        "from urllib.request import urlretrieve\n",
        "import shutil\n",
        "\n",
        "url = \"https://s3.amazonaws.com/tripdata/202401-citibike-tripdata.zip\"\n",
        "urlretrieve(url, \"202401-citibike-tripdata.zip\") # Download dataset\n",
        "shutil.unpack_archive(\"202401-citibike-tripdata.zip\", \"202401-citibike-tripdata\") # Unzip dataset"
      ],
      "metadata": {
        "id": "G9MHPWJRMo9r"
      },
      "execution_count": null,
      "outputs": []
    },
    {
      "cell_type": "code",
      "metadata": {
        "colab": {
          "base_uri": "https://localhost:8080/"
        },
        "id": "441fecdd",
        "outputId": "9453c41d-cf06-4f3c-ffe3-1bd0569359d8"
      },
      "source": [
        "import pandas as pd\n",
        "import os\n",
        "\n",
        "csv_dir = \"/content/202401-citibike-tripdata/\"\n",
        "csv_files = [f for f in os.listdir(csv_dir) if f.endswith('.csv')]\n",
        "dfs = []\n",
        "\n",
        "for csv_file in csv_files:\n",
        "    file_path = os.path.join(csv_dir, csv_file)\n",
        "    df_temp = pd.read_csv(file_path, dtype={\n",
        "    \"start_station_id\": \"string\",\n",
        "    \"end_station_id\": \"string\"\n",
        "}, parse_dates=[\"started_at\", \"ended_at\"])  # convert station ids to string for now\n",
        "    dfs.append(df_temp)\n",
        "\n",
        "df = pd.concat(dfs, ignore_index=True) # combine the 2 csv files\n",
        "print(df.head())\n",
        "print(f\"\\nShape of the combined DataFrame: {df.shape}\")"
      ],
      "execution_count": null,
      "outputs": [
        {
          "output_type": "stream",
          "name": "stdout",
          "text": [
            "            ride_id  rideable_type              started_at  \\\n",
            "0  62EF1AC5BE598131   classic_bike 2024-01-24 09:03:33.533   \n",
            "1  8464E543DAB27DBF   classic_bike 2024-01-30 08:21:29.510   \n",
            "2  9C04FDC8549F5205  electric_bike 2024-01-22 21:18:25.199   \n",
            "3  7DD1703A3E0D8833  electric_bike 2024-01-31 22:15:49.861   \n",
            "4  6A96FCD170996E59   classic_bike 2024-01-29 22:52:28.276   \n",
            "\n",
            "                 ended_at         start_station_name start_station_id  \\\n",
            "0 2024-01-24 09:06:53.535           E 102 St & 1 Ave          7407.13   \n",
            "1 2024-01-30 08:29:03.304           E 102 St & 1 Ave          7407.13   \n",
            "2 2024-01-22 21:26:24.647            W 35 St & 8 Ave          6526.01   \n",
            "3 2024-01-31 22:22:45.520  Warren St & Roosevelt Ave          6346.07   \n",
            "4 2024-01-29 22:57:05.099            6 Ave & W 33 St          6364.07   \n",
            "\n",
            "           end_station_name end_station_id  start_lat  start_lng    end_lat  \\\n",
            "0  E 103 St & Lexington Ave        7463.09  40.786995 -73.941648  40.790305   \n",
            "1           E 91 St & 2 Ave        7286.01  40.786995 -73.941648  40.781153   \n",
            "2           1 Ave & E 39 St        6303.01  40.752762 -73.992805  40.747140   \n",
            "3    112 St & Northern Blvd        6683.01  40.749190 -73.870540  40.757880   \n",
            "4           W 29 St & 9 Ave        6416.06  40.749013 -73.988484  40.750073   \n",
            "\n",
            "     end_lng member_casual  \n",
            "0 -73.947558        member  \n",
            "1 -73.949630        member  \n",
            "2 -73.971130        member  \n",
            "3 -73.857630        member  \n",
            "4 -73.998393        member  \n",
            "\n",
            "Shape of the combined DataFrame: (1888085, 13)\n"
          ]
        }
      ]
    },
    {
      "cell_type": "markdown",
      "source": [
        "# Data Preprocessing"
      ],
      "metadata": {
        "id": "HkVMFUSPLc-Z"
      }
    },
    {
      "cell_type": "code",
      "source": [
        "mask_start = ~df[\"start_station_id\"].str.replace(\".\", \"\", regex=False).str.isnumeric()\n",
        "mask_end = ~df[\"end_station_id\"].str.replace(\".\", \"\", regex=False).str.isnumeric() # Find non-numeric station ids\n",
        "mask = mask_start | mask_end\n",
        "print(f\"Found {mask.sum()} rows with non-numeric station IDs\")\n",
        "df.loc[mask, [\"start_station_id\", \"end_station_id\"]].head()"
      ],
      "metadata": {
        "colab": {
          "base_uri": "https://localhost:8080/",
          "height": 223
        },
        "id": "dX_b37jnNizC",
        "outputId": "baa3d8b4-5b0e-4983-8f7e-f527cf24860c"
      },
      "execution_count": null,
      "outputs": [
        {
          "output_type": "stream",
          "name": "stdout",
          "text": [
            "Found 337 rows with non-numeric station IDs\n"
          ]
        },
        {
          "output_type": "execute_result",
          "data": {
            "text/plain": [
              "      start_station_id end_station_id\n",
              "29386           SYS016        4768.02\n",
              "52517          6740.10          HB610\n",
              "55975          6740.10          HB610\n",
              "67218           SYS016        5170.01\n",
              "68710          6432.11          JC035"
            ],
            "text/html": [
              "\n",
              "  <div id=\"df-a5ca5722-42e3-4e8f-af38-44d4a1ebf74b\" class=\"colab-df-container\">\n",
              "    <div>\n",
              "<style scoped>\n",
              "    .dataframe tbody tr th:only-of-type {\n",
              "        vertical-align: middle;\n",
              "    }\n",
              "\n",
              "    .dataframe tbody tr th {\n",
              "        vertical-align: top;\n",
              "    }\n",
              "\n",
              "    .dataframe thead th {\n",
              "        text-align: right;\n",
              "    }\n",
              "</style>\n",
              "<table border=\"1\" class=\"dataframe\">\n",
              "  <thead>\n",
              "    <tr style=\"text-align: right;\">\n",
              "      <th></th>\n",
              "      <th>start_station_id</th>\n",
              "      <th>end_station_id</th>\n",
              "    </tr>\n",
              "  </thead>\n",
              "  <tbody>\n",
              "    <tr>\n",
              "      <th>29386</th>\n",
              "      <td>SYS016</td>\n",
              "      <td>4768.02</td>\n",
              "    </tr>\n",
              "    <tr>\n",
              "      <th>52517</th>\n",
              "      <td>6740.10</td>\n",
              "      <td>HB610</td>\n",
              "    </tr>\n",
              "    <tr>\n",
              "      <th>55975</th>\n",
              "      <td>6740.10</td>\n",
              "      <td>HB610</td>\n",
              "    </tr>\n",
              "    <tr>\n",
              "      <th>67218</th>\n",
              "      <td>SYS016</td>\n",
              "      <td>5170.01</td>\n",
              "    </tr>\n",
              "    <tr>\n",
              "      <th>68710</th>\n",
              "      <td>6432.11</td>\n",
              "      <td>JC035</td>\n",
              "    </tr>\n",
              "  </tbody>\n",
              "</table>\n",
              "</div>\n",
              "    <div class=\"colab-df-buttons\">\n",
              "\n",
              "  <div class=\"colab-df-container\">\n",
              "    <button class=\"colab-df-convert\" onclick=\"convertToInteractive('df-a5ca5722-42e3-4e8f-af38-44d4a1ebf74b')\"\n",
              "            title=\"Convert this dataframe to an interactive table.\"\n",
              "            style=\"display:none;\">\n",
              "\n",
              "  <svg xmlns=\"http://www.w3.org/2000/svg\" height=\"24px\" viewBox=\"0 -960 960 960\">\n",
              "    <path d=\"M120-120v-720h720v720H120Zm60-500h600v-160H180v160Zm220 220h160v-160H400v160Zm0 220h160v-160H400v160ZM180-400h160v-160H180v160Zm440 0h160v-160H620v160ZM180-180h160v-160H180v160Zm440 0h160v-160H620v160Z\"/>\n",
              "  </svg>\n",
              "    </button>\n",
              "\n",
              "  <style>\n",
              "    .colab-df-container {\n",
              "      display:flex;\n",
              "      gap: 12px;\n",
              "    }\n",
              "\n",
              "    .colab-df-convert {\n",
              "      background-color: #E8F0FE;\n",
              "      border: none;\n",
              "      border-radius: 50%;\n",
              "      cursor: pointer;\n",
              "      display: none;\n",
              "      fill: #1967D2;\n",
              "      height: 32px;\n",
              "      padding: 0 0 0 0;\n",
              "      width: 32px;\n",
              "    }\n",
              "\n",
              "    .colab-df-convert:hover {\n",
              "      background-color: #E2EBFA;\n",
              "      box-shadow: 0px 1px 2px rgba(60, 64, 67, 0.3), 0px 1px 3px 1px rgba(60, 64, 67, 0.15);\n",
              "      fill: #174EA6;\n",
              "    }\n",
              "\n",
              "    .colab-df-buttons div {\n",
              "      margin-bottom: 4px;\n",
              "    }\n",
              "\n",
              "    [theme=dark] .colab-df-convert {\n",
              "      background-color: #3B4455;\n",
              "      fill: #D2E3FC;\n",
              "    }\n",
              "\n",
              "    [theme=dark] .colab-df-convert:hover {\n",
              "      background-color: #434B5C;\n",
              "      box-shadow: 0px 1px 3px 1px rgba(0, 0, 0, 0.15);\n",
              "      filter: drop-shadow(0px 1px 2px rgba(0, 0, 0, 0.3));\n",
              "      fill: #FFFFFF;\n",
              "    }\n",
              "  </style>\n",
              "\n",
              "    <script>\n",
              "      const buttonEl =\n",
              "        document.querySelector('#df-a5ca5722-42e3-4e8f-af38-44d4a1ebf74b button.colab-df-convert');\n",
              "      buttonEl.style.display =\n",
              "        google.colab.kernel.accessAllowed ? 'block' : 'none';\n",
              "\n",
              "      async function convertToInteractive(key) {\n",
              "        const element = document.querySelector('#df-a5ca5722-42e3-4e8f-af38-44d4a1ebf74b');\n",
              "        const dataTable =\n",
              "          await google.colab.kernel.invokeFunction('convertToInteractive',\n",
              "                                                    [key], {});\n",
              "        if (!dataTable) return;\n",
              "\n",
              "        const docLinkHtml = 'Like what you see? Visit the ' +\n",
              "          '<a target=\"_blank\" href=https://colab.research.google.com/notebooks/data_table.ipynb>data table notebook</a>'\n",
              "          + ' to learn more about interactive tables.';\n",
              "        element.innerHTML = '';\n",
              "        dataTable['output_type'] = 'display_data';\n",
              "        await google.colab.output.renderOutput(dataTable, element);\n",
              "        const docLink = document.createElement('div');\n",
              "        docLink.innerHTML = docLinkHtml;\n",
              "        element.appendChild(docLink);\n",
              "      }\n",
              "    </script>\n",
              "  </div>\n",
              "\n",
              "\n",
              "    <div id=\"df-eda76ea3-a2bf-42ef-a680-dfe2c1897b5a\">\n",
              "      <button class=\"colab-df-quickchart\" onclick=\"quickchart('df-eda76ea3-a2bf-42ef-a680-dfe2c1897b5a')\"\n",
              "                title=\"Suggest charts\"\n",
              "                style=\"display:none;\">\n",
              "\n",
              "<svg xmlns=\"http://www.w3.org/2000/svg\" height=\"24px\"viewBox=\"0 0 24 24\"\n",
              "     width=\"24px\">\n",
              "    <g>\n",
              "        <path d=\"M19 3H5c-1.1 0-2 .9-2 2v14c0 1.1.9 2 2 2h14c1.1 0 2-.9 2-2V5c0-1.1-.9-2-2-2zM9 17H7v-7h2v7zm4 0h-2V7h2v10zm4 0h-2v-4h2v4z\"/>\n",
              "    </g>\n",
              "</svg>\n",
              "      </button>\n",
              "\n",
              "<style>\n",
              "  .colab-df-quickchart {\n",
              "      --bg-color: #E8F0FE;\n",
              "      --fill-color: #1967D2;\n",
              "      --hover-bg-color: #E2EBFA;\n",
              "      --hover-fill-color: #174EA6;\n",
              "      --disabled-fill-color: #AAA;\n",
              "      --disabled-bg-color: #DDD;\n",
              "  }\n",
              "\n",
              "  [theme=dark] .colab-df-quickchart {\n",
              "      --bg-color: #3B4455;\n",
              "      --fill-color: #D2E3FC;\n",
              "      --hover-bg-color: #434B5C;\n",
              "      --hover-fill-color: #FFFFFF;\n",
              "      --disabled-bg-color: #3B4455;\n",
              "      --disabled-fill-color: #666;\n",
              "  }\n",
              "\n",
              "  .colab-df-quickchart {\n",
              "    background-color: var(--bg-color);\n",
              "    border: none;\n",
              "    border-radius: 50%;\n",
              "    cursor: pointer;\n",
              "    display: none;\n",
              "    fill: var(--fill-color);\n",
              "    height: 32px;\n",
              "    padding: 0;\n",
              "    width: 32px;\n",
              "  }\n",
              "\n",
              "  .colab-df-quickchart:hover {\n",
              "    background-color: var(--hover-bg-color);\n",
              "    box-shadow: 0 1px 2px rgba(60, 64, 67, 0.3), 0 1px 3px 1px rgba(60, 64, 67, 0.15);\n",
              "    fill: var(--button-hover-fill-color);\n",
              "  }\n",
              "\n",
              "  .colab-df-quickchart-complete:disabled,\n",
              "  .colab-df-quickchart-complete:disabled:hover {\n",
              "    background-color: var(--disabled-bg-color);\n",
              "    fill: var(--disabled-fill-color);\n",
              "    box-shadow: none;\n",
              "  }\n",
              "\n",
              "  .colab-df-spinner {\n",
              "    border: 2px solid var(--fill-color);\n",
              "    border-color: transparent;\n",
              "    border-bottom-color: var(--fill-color);\n",
              "    animation:\n",
              "      spin 1s steps(1) infinite;\n",
              "  }\n",
              "\n",
              "  @keyframes spin {\n",
              "    0% {\n",
              "      border-color: transparent;\n",
              "      border-bottom-color: var(--fill-color);\n",
              "      border-left-color: var(--fill-color);\n",
              "    }\n",
              "    20% {\n",
              "      border-color: transparent;\n",
              "      border-left-color: var(--fill-color);\n",
              "      border-top-color: var(--fill-color);\n",
              "    }\n",
              "    30% {\n",
              "      border-color: transparent;\n",
              "      border-left-color: var(--fill-color);\n",
              "      border-top-color: var(--fill-color);\n",
              "      border-right-color: var(--fill-color);\n",
              "    }\n",
              "    40% {\n",
              "      border-color: transparent;\n",
              "      border-right-color: var(--fill-color);\n",
              "      border-top-color: var(--fill-color);\n",
              "    }\n",
              "    60% {\n",
              "      border-color: transparent;\n",
              "      border-right-color: var(--fill-color);\n",
              "    }\n",
              "    80% {\n",
              "      border-color: transparent;\n",
              "      border-right-color: var(--fill-color);\n",
              "      border-bottom-color: var(--fill-color);\n",
              "    }\n",
              "    90% {\n",
              "      border-color: transparent;\n",
              "      border-bottom-color: var(--fill-color);\n",
              "    }\n",
              "  }\n",
              "</style>\n",
              "\n",
              "      <script>\n",
              "        async function quickchart(key) {\n",
              "          const quickchartButtonEl =\n",
              "            document.querySelector('#' + key + ' button');\n",
              "          quickchartButtonEl.disabled = true;  // To prevent multiple clicks.\n",
              "          quickchartButtonEl.classList.add('colab-df-spinner');\n",
              "          try {\n",
              "            const charts = await google.colab.kernel.invokeFunction(\n",
              "                'suggestCharts', [key], {});\n",
              "          } catch (error) {\n",
              "            console.error('Error during call to suggestCharts:', error);\n",
              "          }\n",
              "          quickchartButtonEl.classList.remove('colab-df-spinner');\n",
              "          quickchartButtonEl.classList.add('colab-df-quickchart-complete');\n",
              "        }\n",
              "        (() => {\n",
              "          let quickchartButtonEl =\n",
              "            document.querySelector('#df-eda76ea3-a2bf-42ef-a680-dfe2c1897b5a button');\n",
              "          quickchartButtonEl.style.display =\n",
              "            google.colab.kernel.accessAllowed ? 'block' : 'none';\n",
              "        })();\n",
              "      </script>\n",
              "    </div>\n",
              "\n",
              "    </div>\n",
              "  </div>\n"
            ],
            "application/vnd.google.colaboratory.intrinsic+json": {
              "type": "dataframe",
              "summary": "{\n  \"name\": \"df\",\n  \"rows\": 5,\n  \"fields\": [\n    {\n      \"column\": \"start_station_id\",\n      \"properties\": {\n        \"dtype\": \"string\",\n        \"num_unique_values\": 3,\n        \"samples\": [\n          \"SYS016\",\n          \"6740.10\",\n          \"6432.11\"\n        ],\n        \"semantic_type\": \"\",\n        \"description\": \"\"\n      }\n    },\n    {\n      \"column\": \"end_station_id\",\n      \"properties\": {\n        \"dtype\": \"string\",\n        \"num_unique_values\": 4,\n        \"samples\": [\n          \"HB610\",\n          \"JC035\",\n          \"4768.02\"\n        ],\n        \"semantic_type\": \"\",\n        \"description\": \"\"\n      }\n    }\n  ]\n}"
            }
          },
          "metadata": {},
          "execution_count": 3
        }
      ]
    },
    {
      "cell_type": "code",
      "source": [
        "df = df[~mask].copy() # Remove the station ids\n",
        "df[\"start_station_id\"] = df[\"start_station_id\"].astype(float)\n",
        "df[\"end_station_id\"] = df[\"end_station_id\"].astype(float) # Convert station ids to float"
      ],
      "metadata": {
        "id": "2O2Ht8wdNkUH"
      },
      "execution_count": null,
      "outputs": []
    },
    {
      "cell_type": "code",
      "metadata": {
        "colab": {
          "base_uri": "https://localhost:8080/"
        },
        "id": "0e632295",
        "outputId": "0e05a6a8-40f1-46f7-d6a4-90fc72e6528b"
      },
      "source": [
        "na_station_ids_df = df[df['start_station_id'].isna() | df['end_station_id'].isna()]\n",
        "print(f\"Number of rows with N/A station IDs: {len(na_station_ids_df)}\")\n",
        "df = df.dropna(subset=['start_station_id', 'end_station_id'])"
      ],
      "execution_count": null,
      "outputs": [
        {
          "output_type": "stream",
          "name": "stdout",
          "text": [
            "Number of rows with N/A station IDs: 0\n"
          ]
        }
      ]
    },
    {
      "cell_type": "markdown",
      "source": [
        "# Data Visualization"
      ],
      "metadata": {
        "id": "zTsZEWgyLrP9"
      }
    },
    {
      "cell_type": "code",
      "source": [
        "import matplotlib.pyplot as plt\n",
        "\n",
        "rideable_type_counts = df[\"rideable_type\"].value_counts()\n",
        "\n",
        "plt.bar(rideable_type_counts.index, rideable_type_counts.values)\n",
        "plt.xlabel(\"Rideable Type\")\n",
        "plt.ylabel(\"Count\")\n",
        "plt.title(\"Distribution of Rideable Types\")\n",
        "plt.show()"
      ],
      "metadata": {
        "colab": {
          "base_uri": "https://localhost:8080/",
          "height": 472
        },
        "id": "WhWFm7NgPugC",
        "outputId": "54c62d64-73cd-4c11-d6ac-f0c5b3b3aab4"
      },
      "execution_count": null,
      "outputs": [
        {
          "output_type": "display_data",
          "data": {
            "text/plain": [
              "<Figure size 640x480 with 1 Axes>"
            ],
            "image/png": "[encoded data removed]"
          },
          "metadata": {}
        }
      ]
    },
    {
      "cell_type": "code",
      "source": [
        "user_type_counts = df[\"member_casual\"].value_counts()\n",
        "\n",
        "plt.bar(user_type_counts.index, user_type_counts.values)\n",
        "plt.xlabel(\"User Type\")\n",
        "plt.ylabel(\"Count\")\n",
        "plt.title(\"Distribution of Regular Members vs Casual Riders\")\n",
        "plt.show()"
      ],
      "metadata": {
        "colab": {
          "base_uri": "https://localhost:8080/",
          "height": 472
        },
        "id": "HU2ROacDR2Dy",
        "outputId": "de0b9550-4b1f-4c23-852f-4a36e95fe5c3"
      },
      "execution_count": null,
      "outputs": [
        {
          "output_type": "display_data",
          "data": {
            "text/plain": [
              "<Figure size 640x480 with 1 Axes>"
            ],
            "image/png": "[encoded data removed]"
          },
          "metadata": {}
        }
      ]
    },
    {
      "cell_type": "code",
      "metadata": {
        "colab": {
          "base_uri": "https://localhost:8080/",
          "height": 206
        },
        "id": "9c7a9af3",
        "outputId": "d1929086-1f83-4554-a517-a068e85f0cef"
      },
      "source": [
        "start_station_counts = df[\"start_station_id\"].value_counts()\n",
        "end_station_counts = df[\"end_station_id\"].value_counts()\n",
        "start_station_df = start_station_counts.reset_index()\n",
        "start_station_df.columns = [\"station_id\", \"start_count\"]\n",
        "\n",
        "end_station_df = end_station_counts.reset_index()\n",
        "end_station_df.columns = [\"station_id\", \"end_count\"]\n",
        "\n",
        "station_counts_df = pd.merge(start_station_df, end_station_df, on=\"station_id\", how=\"outer\").fillna(0)\n",
        "station_counts_df.head()"
      ],
      "execution_count": null,
      "outputs": [
        {
          "output_type": "execute_result",
          "data": {
            "text/plain": [
              "   station_id  start_count  end_count\n",
              "0     2733.03         64.0         69\n",
              "1     2782.02        102.0         97\n",
              "2     2821.05        156.0        167\n",
              "3     2832.03        119.0        124\n",
              "4     2861.02        113.0        100"
            ],
            "text/html": [
              "\n",
              "  <div id=\"df-007c813e-151f-4484-a807-7dd5365bc5ca\" class=\"colab-df-container\">\n",
              "    <div>\n",
              "<style scoped>\n",
              "    .dataframe tbody tr th:only-of-type {\n",
              "        vertical-align: middle;\n",
              "    }\n",
              "\n",
              "    .dataframe tbody tr th {\n",
              "        vertical-align: top;\n",
              "    }\n",
              "\n",
              "    .dataframe thead th {\n",
              "        text-align: right;\n",
              "    }\n",
              "</style>\n",
              "<table border=\"1\" class=\"dataframe\">\n",
              "  <thead>\n",
              "    <tr style=\"text-align: right;\">\n",
              "      <th></th>\n",
              "      <th>station_id</th>\n",
              "      <th>start_count</th>\n",
              "      <th>end_count</th>\n",
              "    </tr>\n",
              "  </thead>\n",
              "  <tbody>\n",
              "    <tr>\n",
              "      <th>0</th>\n",
              "      <td>2733.03</td>\n",
              "      <td>64.0</td>\n",
              "      <td>69</td>\n",
              "    </tr>\n",
              "    <tr>\n",
              "      <th>1</th>\n",
              "      <td>2782.02</td>\n",
              "      <td>102.0</td>\n",
              "      <td>97</td>\n",
              "    </tr>\n",
              "    <tr>\n",
              "      <th>2</th>\n",
              "      <td>2821.05</td>\n",
              "      <td>156.0</td>\n",
              "      <td>167</td>\n",
              "    </tr>\n",
              "    <tr>\n",
              "      <th>3</th>\n",
              "      <td>2832.03</td>\n",
              "      <td>119.0</td>\n",
              "      <td>124</td>\n",
              "    </tr>\n",
              "    <tr>\n",
              "      <th>4</th>\n",
              "      <td>2861.02</td>\n",
              "      <td>113.0</td>\n",
              "      <td>100</td>\n",
              "    </tr>\n",
              "  </tbody>\n",
              "</table>\n",
              "</div>\n",
              "    <div class=\"colab-df-buttons\">\n",
              "\n",
              "  <div class=\"colab-df-container\">\n",
              "    <button class=\"colab-df-convert\" onclick=\"convertToInteractive('df-007c813e-151f-4484-a807-7dd5365bc5ca')\"\n",
              "            title=\"Convert this dataframe to an interactive table.\"\n",
              "            style=\"display:none;\">\n",
              "\n",
              "  <svg xmlns=\"http://www.w3.org/2000/svg\" height=\"24px\" viewBox=\"0 -960 960 960\">\n",
              "    <path d=\"M120-120v-720h720v720H120Zm60-500h600v-160H180v160Zm220 220h160v-160H400v160Zm0 220h160v-160H400v160ZM180-400h160v-160H180v160Zm440 0h160v-160H620v160ZM180-180h160v-160H180v160Zm440 0h160v-160H620v160Z\"/>\n",
              "  </svg>\n",
              "    </button>\n",
              "\n",
              "  <style>\n",
              "    .colab-df-container {\n",
              "      display:flex;\n",
              "      gap: 12px;\n",
              "    }\n",
              "\n",
              "    .colab-df-convert {\n",
              "      background-color: #E8F0FE;\n",
              "      border: none;\n",
              "      border-radius: 50%;\n",
              "      cursor: pointer;\n",
              "      display: none;\n",
              "      fill: #1967D2;\n",
              "      height: 32px;\n",
              "      padding: 0 0 0 0;\n",
              "      width: 32px;\n",
              "    }\n",
              "\n",
              "    .colab-df-convert:hover {\n",
              "      background-color: #E2EBFA;\n",
              "      box-shadow: 0px 1px 2px rgba(60, 64, 67, 0.3), 0px 1px 3px 1px rgba(60, 64, 67, 0.15);\n",
              "      fill: #174EA6;\n",
              "    }\n",
              "\n",
              "    .colab-df-buttons div {\n",
              "      margin-bottom: 4px;\n",
              "    }\n",
              "\n",
              "    [theme=dark] .colab-df-convert {\n",
              "      background-color: #3B4455;\n",
              "      fill: #D2E3FC;\n",
              "    }\n",
              "\n",
              "    [theme=dark] .colab-df-convert:hover {\n",
              "      background-color: #434B5C;\n",
              "      box-shadow: 0px 1px 3px 1px rgba(0, 0, 0, 0.15);\n",
              "      filter: drop-shadow(0px 1px 2px rgba(0, 0, 0, 0.3));\n",
              "      fill: #FFFFFF;\n",
              "    }\n",
              "  </style>\n",
              "\n",
              "    <script>\n",
              "      const buttonEl =\n",
              "        document.querySelector('#df-007c813e-151f-4484-a807-7dd5365bc5ca button.colab-df-convert');\n",
              "      buttonEl.style.display =\n",
              "        google.colab.kernel.accessAllowed ? 'block' : 'none';\n",
              "\n",
              "      async function convertToInteractive(key) {\n",
              "        const element = document.querySelector('#df-007c813e-151f-4484-a807-7dd5365bc5ca');\n",
              "        const dataTable =\n",
              "          await google.colab.kernel.invokeFunction('convertToInteractive',\n",
              "                                                    [key], {});\n",
              "        if (!dataTable) return;\n",
              "\n",
              "        const docLinkHtml = 'Like what you see? Visit the ' +\n",
              "          '<a target=\"_blank\" href=https://colab.research.google.com/notebooks/data_table.ipynb>data table notebook</a>'\n",
              "          + ' to learn more about interactive tables.';\n",
              "        element.innerHTML = '';\n",
              "        dataTable['output_type'] = 'display_data';\n",
              "        await google.colab.output.renderOutput(dataTable, element);\n",
              "        const docLink = document.createElement('div');\n",
              "        docLink.innerHTML = docLinkHtml;\n",
              "        element.appendChild(docLink);\n",
              "      }\n",
              "    </script>\n",
              "  </div>\n",
              "\n",
              "\n",
              "    <div id=\"df-9431e2af-a0f9-4312-9bd4-c868825fe0a5\">\n",
              "      <button class=\"colab-df-quickchart\" onclick=\"quickchart('df-9431e2af-a0f9-4312-9bd4-c868825fe0a5')\"\n",
              "                title=\"Suggest charts\"\n",
              "                style=\"display:none;\">\n",
              "\n",
              "<svg xmlns=\"http://www.w3.org/2000/svg\" height=\"24px\"viewBox=\"0 0 24 24\"\n",
              "     width=\"24px\">\n",
              "    <g>\n",
              "        <path d=\"M19 3H5c-1.1 0-2 .9-2 2v14c0 1.1.9 2 2 2h14c1.1 0 2-.9 2-2V5c0-1.1-.9-2-2-2zM9 17H7v-7h2v7zm4 0h-2V7h2v10zm4 0h-2v-4h2v4z\"/>\n",
              "    </g>\n",
              "</svg>\n",
              "      </button>\n",
              "\n",
              "<style>\n",
              "  .colab-df-quickchart {\n",
              "      --bg-color: #E8F0FE;\n",
              "      --fill-color: #1967D2;\n",
              "      --hover-bg-color: #E2EBFA;\n",
              "      --hover-fill-color: #174EA6;\n",
              "      --disabled-fill-color: #AAA;\n",
              "      --disabled-bg-color: #DDD;\n",
              "  }\n",
              "\n",
              "  [theme=dark] .colab-df-quickchart {\n",
              "      --bg-color: #3B4455;\n",
              "      --fill-color: #D2E3FC;\n",
              "      --hover-bg-color: #434B5C;\n",
              "      --hover-fill-color: #FFFFFF;\n",
              "      --disabled-bg-color: #3B4455;\n",
              "      --disabled-fill-color: #666;\n",
              "  }\n",
              "\n",
              "  .colab-df-quickchart {\n",
              "    background-color: var(--bg-color);\n",
              "    border: none;\n",
              "    border-radius: 50%;\n",
              "    cursor: pointer;\n",
              "    display: none;\n",
              "    fill: var(--fill-color);\n",
              "    height: 32px;\n",
              "    padding: 0;\n",
              "    width: 32px;\n",
              "  }\n",
              "\n",
              "  .colab-df-quickchart:hover {\n",
              "    background-color: var(--hover-bg-color);\n",
              "    box-shadow: 0 1px 2px rgba(60, 64, 67, 0.3), 0 1px 3px 1px rgba(60, 64, 67, 0.15);\n",
              "    fill: var(--button-hover-fill-color);\n",
              "  }\n",
              "\n",
              "  .colab-df-quickchart-complete:disabled,\n",
              "  .colab-df-quickchart-complete:disabled:hover {\n",
              "    background-color: var(--disabled-bg-color);\n",
              "    fill: var(--disabled-fill-color);\n",
              "    box-shadow: none;\n",
              "  }\n",
              "\n",
              "  .colab-df-spinner {\n",
              "    border: 2px solid var(--fill-color);\n",
              "    border-color: transparent;\n",
              "    border-bottom-color: var(--fill-color);\n",
              "    animation:\n",
              "      spin 1s steps(1) infinite;\n",
              "  }\n",
              "\n",
              "  @keyframes spin {\n",
              "    0% {\n",
              "      border-color: transparent;\n",
              "      border-bottom-color: var(--fill-color);\n",
              "      border-left-color: var(--fill-color);\n",
              "    }\n",
              "    20% {\n",
              "      border-color: transparent;\n",
              "      border-left-color: var(--fill-color);\n",
              "      border-top-color: var(--fill-color);\n",
              "    }\n",
              "    30% {\n",
              "      border-color: transparent;\n",
              "      border-left-color: var(--fill-color);\n",
              "      border-top-color: var(--fill-color);\n",
              "      border-right-color: var(--fill-color);\n",
              "    }\n",
              "    40% {\n",
              "      border-color: transparent;\n",
              "      border-right-color: var(--fill-color);\n",
              "      border-top-color: var(--fill-color);\n",
              "    }\n",
              "    60% {\n",
              "      border-color: transparent;\n",
              "      border-right-color: var(--fill-color);\n",
              "    }\n",
              "    80% {\n",
              "      border-color: transparent;\n",
              "      border-right-color: var(--fill-color);\n",
              "      border-bottom-color: var(--fill-color);\n",
              "    }\n",
              "    90% {\n",
              "      border-color: transparent;\n",
              "      border-bottom-color: var(--fill-color);\n",
              "    }\n",
              "  }\n",
              "</style>\n",
              "\n",
              "      <script>\n",
              "        async function quickchart(key) {\n",
              "          const quickchartButtonEl =\n",
              "            document.querySelector('#' + key + ' button');\n",
              "          quickchartButtonEl.disabled = true;  // To prevent multiple clicks.\n",
              "          quickchartButtonEl.classList.add('colab-df-spinner');\n",
              "          try {\n",
              "            const charts = await google.colab.kernel.invokeFunction(\n",
              "                'suggestCharts', [key], {});\n",
              "          } catch (error) {\n",
              "            console.error('Error during call to suggestCharts:', error);\n",
              "          }\n",
              "          quickchartButtonEl.classList.remove('colab-df-spinner');\n",
              "          quickchartButtonEl.classList.add('colab-df-quickchart-complete');\n",
              "        }\n",
              "        (() => {\n",
              "          let quickchartButtonEl =\n",
              "            document.querySelector('#df-9431e2af-a0f9-4312-9bd4-c868825fe0a5 button');\n",
              "          quickchartButtonEl.style.display =\n",
              "            google.colab.kernel.accessAllowed ? 'block' : 'none';\n",
              "        })();\n",
              "      </script>\n",
              "    </div>\n",
              "\n",
              "    </div>\n",
              "  </div>\n"
            ],
            "application/vnd.google.colaboratory.intrinsic+json": {
              "type": "dataframe",
              "variable_name": "station_counts_df",
              "summary": "{\n  \"name\": \"station_counts_df\",\n  \"rows\": 2126,\n  \"fields\": [\n    {\n      \"column\": \"station_id\",\n      \"properties\": {\n        \"dtype\": \"number\",\n        \"std\": 1602.7070963053493,\n        \"min\": 2733.03,\n        \"max\": 8897.05,\n        \"num_unique_values\": 2126,\n        \"samples\": [\n          4066.15,\n          8462.09,\n          7800.03\n        ],\n        \"semantic_type\": \"\",\n        \"description\": \"\"\n      }\n    },\n    {\n      \"column\": \"start_count\",\n      \"properties\": {\n        \"dtype\": \"number\",\n        \"std\": 1082.6085230320114,\n        \"min\": 0.0,\n        \"max\": 8320.0,\n        \"num_unique_values\": 1221,\n        \"samples\": [\n          285.0,\n          1022.0,\n          124.0\n        ],\n        \"semantic_type\": \"\",\n        \"description\": \"\"\n      }\n    },\n    {\n      \"column\": \"end_count\",\n      \"properties\": {\n        \"dtype\": \"number\",\n        \"std\": 1086,\n        \"min\": 4,\n        \"max\": 8309,\n        \"num_unique_values\": 1221,\n        \"samples\": [\n          200,\n          947,\n          105\n        ],\n        \"semantic_type\": \"\",\n        \"description\": \"\"\n      }\n    }\n  ]\n}"
            }
          },
          "metadata": {},
          "execution_count": 6
        }
      ]
    },
    {
      "cell_type": "code",
      "metadata": {
        "colab": {
          "base_uri": "https://localhost:8080/",
          "height": 678
        },
        "id": "aab1ed07",
        "outputId": "e8cf139f-8f89-4c17-e493-f10f6b19e862"
      },
      "source": [
        "import numpy as np\n",
        "\n",
        "n_stations = len(station_counts_df)\n",
        "bar_width = 0.35\n",
        "index = np.arange(n_stations)\n",
        "\n",
        "plt.figure(figsize=(15, 7))\n",
        "plt.bar(index, station_counts_df[\"start_count\"], bar_width, label=\"Start Count\")\n",
        "plt.bar(index + bar_width, station_counts_df[\"end_count\"], bar_width, label=\"End Count\")\n",
        "\n",
        "plt.xlabel(\"Station ID Index\")\n",
        "plt.ylabel(\"Count\")\n",
        "plt.title(\"Start and End Station Counts by Station ID\")\n",
        "plt.xticks(index[::50], station_counts_df[\"station_id\"][::50], rotation=45, ha='right')\n",
        "plt.legend()\n",
        "plt.show()"
      ],
      "execution_count": null,
      "outputs": [
        {
          "output_type": "display_data",
          "data": {
            "text/plain": [
              "<Figure size 1500x700 with 1 Axes>"
            ],
            "image/png": "[encoded data removed]"
          },
          "metadata": {}
        }
      ]
    },
    {
      "cell_type": "code",
      "source": [
        "df['started_at'] = pd.to_datetime(df['started_at'])\n",
        "df['hour'] = df['started_at'].dt.hour\n",
        "df['day_of_week'] = df['started_at'].dt.dayofweek # Monday=0, Sunday=6\n",
        "\n",
        "num_unique_days = df['started_at'].dt.date.nunique()\n",
        "\n",
        "avg_trips_per_hour = df.groupby('hour').size().reset_index(name='total_trips')\n",
        "avg_trips_per_hour['average_trips'] = avg_trips_per_hour['total_trips'] / num_unique_days\n",
        "\n",
        "\n",
        "plt.figure(figsize=(10, 6))\n",
        "plt.bar(avg_trips_per_hour['hour'], avg_trips_per_hour['average_trips'])\n",
        "plt.xlabel(\"Hour of Day\")\n",
        "plt.ylabel(\"Average Number of Trips\")\n",
        "plt.title(\"Average Number of Trips per Hour of Day\")\n",
        "plt.xticks(avg_trips_per_hour['hour'])\n",
        "plt.grid(axis='y', linestyle='--')\n",
        "plt.show()"
      ],
      "metadata": {
        "colab": {
          "base_uri": "https://localhost:8080/",
          "height": 564
        },
        "id": "EdnZhrqIyqz5",
        "outputId": "f01fce2e-bf78-44a2-ba95-d4a76eb1d573"
      },
      "execution_count": null,
      "outputs": [
        {
          "output_type": "display_data",
          "data": {
            "text/plain": [
              "<Figure size 1000x600 with 1 Axes>"
            ],
            "image/png": "[encoded data removed]"
          },
          "metadata": {}
        }
      ]
    },
    {
      "cell_type": "code",
      "metadata": {
        "colab": {
          "base_uri": "https://localhost:8080/",
          "height": 564
        },
        "id": "bdbcb5b0",
        "outputId": "7b17320a-3586-44da-a74d-7295c64931c4"
      },
      "source": [
        "num_unique_days = df['started_at'].dt.date.nunique()\n",
        "\n",
        "avg_trips_per_day_of_week = df.groupby('day_of_week').size().reset_index(name='total_trips')\n",
        "avg_trips_per_day_of_week['average_trips'] = avg_trips_per_day_of_week['total_trips'] / num_unique_days\n",
        "\n",
        "\n",
        "plt.figure(figsize=(10, 6))\n",
        "plt.bar(avg_trips_per_day_of_week['day_of_week'], avg_trips_per_day_of_week['average_trips'])\n",
        "plt.xlabel(\"Day of Week\")\n",
        "plt.ylabel(\"Average Number of Trips\")\n",
        "plt.title(\"Average Number of Trips per Day of Week\")\n",
        "plt.xticks(avg_trips_per_day_of_week['day_of_week'], ['Mon', 'Tue', 'Wed', 'Thu', 'Fri', 'Sat', 'Sun'])\n",
        "plt.grid(axis='y', linestyle='--')\n",
        "plt.show()"
      ],
      "execution_count": null,
      "outputs": [
        {
          "output_type": "display_data",
          "data": {
            "text/plain": [
              "<Figure size 1000x600 with 1 Axes>"
            ],
            "image/png": "[encoded data removed]"
          },
          "metadata": {}
        }
      ]
    },
    {
      "cell_type": "code",
      "source": [
        "n_stations"
      ],
      "metadata": {
        "colab": {
          "base_uri": "https://localhost:8080/"
        },
        "id": "Ccy4UUiOVFMM",
        "outputId": "c21354be-74e0-4de1-8e15-cf8ab81b72a7"
      },
      "execution_count": null,
      "outputs": [
        {
          "output_type": "execute_result",
          "data": {
            "text/plain": [
              "2126"
            ]
          },
          "metadata": {},
          "execution_count": 10
        }
      ]
    },
    {
      "cell_type": "code",
      "source": [
        "stations_with_high_start_count = station_counts_df[station_counts_df[\"start_count\"] > 6000]\n",
        "print(\"Station(s) with start_count > 6000:\")\n",
        "display(stations_with_high_start_count)"
      ],
      "metadata": {
        "colab": {
          "base_uri": "https://localhost:8080/",
          "height": 192
        },
        "id": "NZpnbdGVVF-B",
        "outputId": "4c86b704-1334-456f-a222-b30677da78fd"
      },
      "execution_count": null,
      "outputs": [
        {
          "output_type": "stream",
          "name": "stdout",
          "text": [
            "Station(s) with start_count > 6000:\n"
          ]
        },
        {
          "output_type": "display_data",
          "data": {
            "text/plain": [
              "      station_id  start_count  end_count\n",
              "1048     6140.05       8320.0       8309\n",
              "1162     6331.01       6020.0       6051\n",
              "1218     6450.05       6325.0       6364\n",
              "1407     6822.09       6554.0       6615"
            ],
            "text/html": [
              "\n",
              "  <div id=\"df-891e5fb2-7a6f-4cc3-b866-7787add34249\" class=\"colab-df-container\">\n",
              "    <div>\n",
              "<style scoped>\n",
              "    .dataframe tbody tr th:only-of-type {\n",
              "        vertical-align: middle;\n",
              "    }\n",
              "\n",
              "    .dataframe tbody tr th {\n",
              "        vertical-align: top;\n",
              "    }\n",
              "\n",
              "    .dataframe thead th {\n",
              "        text-align: right;\n",
              "    }\n",
              "</style>\n",
              "<table border=\"1\" class=\"dataframe\">\n",
              "  <thead>\n",
              "    <tr style=\"text-align: right;\">\n",
              "      <th></th>\n",
              "      <th>station_id</th>\n",
              "      <th>start_count</th>\n",
              "      <th>end_count</th>\n",
              "    </tr>\n",
              "  </thead>\n",
              "  <tbody>\n",
              "    <tr>\n",
              "      <th>1048</th>\n",
              "      <td>6140.05</td>\n",
              "      <td>8320.0</td>\n",
              "      <td>8309</td>\n",
              "    </tr>\n",
              "    <tr>\n",
              "      <th>1162</th>\n",
              "      <td>6331.01</td>\n",
              "      <td>6020.0</td>\n",
              "      <td>6051</td>\n",
              "    </tr>\n",
              "    <tr>\n",
              "      <th>1218</th>\n",
              "      <td>6450.05</td>\n",
              "      <td>6325.0</td>\n",
              "      <td>6364</td>\n",
              "    </tr>\n",
              "    <tr>\n",
              "      <th>1407</th>\n",
              "      <td>6822.09</td>\n",
              "      <td>6554.0</td>\n",
              "      <td>6615</td>\n",
              "    </tr>\n",
              "  </tbody>\n",
              "</table>\n",
              "</div>\n",
              "    <div class=\"colab-df-buttons\">\n",
              "\n",
              "  <div class=\"colab-df-container\">\n",
              "    <button class=\"colab-df-convert\" onclick=\"convertToInteractive('df-891e5fb2-7a6f-4cc3-b866-7787add34249')\"\n",
              "            title=\"Convert this dataframe to an interactive table.\"\n",
              "            style=\"display:none;\">\n",
              "\n",
              "  <svg xmlns=\"http://www.w3.org/2000/svg\" height=\"24px\" viewBox=\"0 -960 960 960\">\n",
              "    <path d=\"M120-120v-720h720v720H120Zm60-500h600v-160H180v160Zm220 220h160v-160H400v160Zm0 220h160v-160H400v160ZM180-400h160v-160H180v160Zm440 0h160v-160H620v160ZM180-180h160v-160H180v160Zm440 0h160v-160H620v160Z\"/>\n",
              "  </svg>\n",
              "    </button>\n",
              "\n",
              "  <style>\n",
              "    .colab-df-container {\n",
              "      display:flex;\n",
              "      gap: 12px;\n",
              "    }\n",
              "\n",
              "    .colab-df-convert {\n",
              "      background-color: #E8F0FE;\n",
              "      border: none;\n",
              "      border-radius: 50%;\n",
              "      cursor: pointer;\n",
              "      display: none;\n",
              "      fill: #1967D2;\n",
              "      height: 32px;\n",
              "      padding: 0 0 0 0;\n",
              "      width: 32px;\n",
              "    }\n",
              "\n",
              "    .colab-df-convert:hover {\n",
              "      background-color: #E2EBFA;\n",
              "      box-shadow: 0px 1px 2px rgba(60, 64, 67, 0.3), 0px 1px 3px 1px rgba(60, 64, 67, 0.15);\n",
              "      fill: #174EA6;\n",
              "    }\n",
              "\n",
              "    .colab-df-buttons div {\n",
              "      margin-bottom: 4px;\n",
              "    }\n",
              "\n",
              "    [theme=dark] .colab-df-convert {\n",
              "      background-color: #3B4455;\n",
              "      fill: #D2E3FC;\n",
              "    }\n",
              "\n",
              "    [theme=dark] .colab-df-convert:hover {\n",
              "      background-color: #434B5C;\n",
              "      box-shadow: 0px 1px 3px 1px rgba(0, 0, 0, 0.15);\n",
              "      filter: drop-shadow(0px 1px 2px rgba(0, 0, 0, 0.3));\n",
              "      fill: #FFFFFF;\n",
              "    }\n",
              "  </style>\n",
              "\n",
              "    <script>\n",
              "      const buttonEl =\n",
              "        document.querySelector('#df-891e5fb2-7a6f-4cc3-b866-7787add34249 button.colab-df-convert');\n",
              "      buttonEl.style.display =\n",
              "        google.colab.kernel.accessAllowed ? 'block' : 'none';\n",
              "\n",
              "      async function convertToInteractive(key) {\n",
              "        const element = document.querySelector('#df-891e5fb2-7a6f-4cc3-b866-7787add34249');\n",
              "        const dataTable =\n",
              "          await google.colab.kernel.invokeFunction('convertToInteractive',\n",
              "                                                    [key], {});\n",
              "        if (!dataTable) return;\n",
              "\n",
              "        const docLinkHtml = 'Like what you see? Visit the ' +\n",
              "          '<a target=\"_blank\" href=https://colab.research.google.com/notebooks/data_table.ipynb>data table notebook</a>'\n",
              "          + ' to learn more about interactive tables.';\n",
              "        element.innerHTML = '';\n",
              "        dataTable['output_type'] = 'display_data';\n",
              "        await google.colab.output.renderOutput(dataTable, element);\n",
              "        const docLink = document.createElement('div');\n",
              "        docLink.innerHTML = docLinkHtml;\n",
              "        element.appendChild(docLink);\n",
              "      }\n",
              "    </script>\n",
              "  </div>\n",
              "\n",
              "\n",
              "    <div id=\"df-4771ac5c-513a-4236-aa1f-33b48b71abac\">\n",
              "      <button class=\"colab-df-quickchart\" onclick=\"quickchart('df-4771ac5c-513a-4236-aa1f-33b48b71abac')\"\n",
              "                title=\"Suggest charts\"\n",
              "                style=\"display:none;\">\n",
              "\n",
              "<svg xmlns=\"http://www.w3.org/2000/svg\" height=\"24px\"viewBox=\"0 0 24 24\"\n",
              "     width=\"24px\">\n",
              "    <g>\n",
              "        <path d=\"M19 3H5c-1.1 0-2 .9-2 2v14c0 1.1.9 2 2 2h14c1.1 0 2-.9 2-2V5c0-1.1-.9-2-2-2zM9 17H7v-7h2v7zm4 0h-2V7h2v10zm4 0h-2v-4h2v4z\"/>\n",
              "    </g>\n",
              "</svg>\n",
              "      </button>\n",
              "\n",
              "<style>\n",
              "  .colab-df-quickchart {\n",
              "      --bg-color: #E8F0FE;\n",
              "      --fill-color: #1967D2;\n",
              "      --hover-bg-color: #E2EBFA;\n",
              "      --hover-fill-color: #174EA6;\n",
              "      --disabled-fill-color: #AAA;\n",
              "      --disabled-bg-color: #DDD;\n",
              "  }\n",
              "\n",
              "  [theme=dark] .colab-df-quickchart {\n",
              "      --bg-color: #3B4455;\n",
              "      --fill-color: #D2E3FC;\n",
              "      --hover-bg-color: #434B5C;\n",
              "      --hover-fill-color: #FFFFFF;\n",
              "      --disabled-bg-color: #3B4455;\n",
              "      --disabled-fill-color: #666;\n",
              "  }\n",
              "\n",
              "  .colab-df-quickchart {\n",
              "    background-color: var(--bg-color);\n",
              "    border: none;\n",
              "    border-radius: 50%;\n",
              "    cursor: pointer;\n",
              "    display: none;\n",
              "    fill: var(--fill-color);\n",
              "    height: 32px;\n",
              "    padding: 0;\n",
              "    width: 32px;\n",
              "  }\n",
              "\n",
              "  .colab-df-quickchart:hover {\n",
              "    background-color: var(--hover-bg-color);\n",
              "    box-shadow: 0 1px 2px rgba(60, 64, 67, 0.3), 0 1px 3px 1px rgba(60, 64, 67, 0.15);\n",
              "    fill: var(--button-hover-fill-color);\n",
              "  }\n",
              "\n",
              "  .colab-df-quickchart-complete:disabled,\n",
              "  .colab-df-quickchart-complete:disabled:hover {\n",
              "    background-color: var(--disabled-bg-color);\n",
              "    fill: var(--disabled-fill-color);\n",
              "    box-shadow: none;\n",
              "  }\n",
              "\n",
              "  .colab-df-spinner {\n",
              "    border: 2px solid var(--fill-color);\n",
              "    border-color: transparent;\n",
              "    border-bottom-color: var(--fill-color);\n",
              "    animation:\n",
              "      spin 1s steps(1) infinite;\n",
              "  }\n",
              "\n",
              "  @keyframes spin {\n",
              "    0% {\n",
              "      border-color: transparent;\n",
              "      border-bottom-color: var(--fill-color);\n",
              "      border-left-color: var(--fill-color);\n",
              "    }\n",
              "    20% {\n",
              "      border-color: transparent;\n",
              "      border-left-color: var(--fill-color);\n",
              "      border-top-color: var(--fill-color);\n",
              "    }\n",
              "    30% {\n",
              "      border-color: transparent;\n",
              "      border-left-color: var(--fill-color);\n",
              "      border-top-color: var(--fill-color);\n",
              "      border-right-color: var(--fill-color);\n",
              "    }\n",
              "    40% {\n",
              "      border-color: transparent;\n",
              "      border-right-color: var(--fill-color);\n",
              "      border-top-color: var(--fill-color);\n",
              "    }\n",
              "    60% {\n",
              "      border-color: transparent;\n",
              "      border-right-color: var(--fill-color);\n",
              "    }\n",
              "    80% {\n",
              "      border-color: transparent;\n",
              "      border-right-color: var(--fill-color);\n",
              "      border-bottom-color: var(--fill-color);\n",
              "    }\n",
              "    90% {\n",
              "      border-color: transparent;\n",
              "      border-bottom-color: var(--fill-color);\n",
              "    }\n",
              "  }\n",
              "</style>\n",
              "\n",
              "      <script>\n",
              "        async function quickchart(key) {\n",
              "          const quickchartButtonEl =\n",
              "            document.querySelector('#' + key + ' button');\n",
              "          quickchartButtonEl.disabled = true;  // To prevent multiple clicks.\n",
              "          quickchartButtonEl.classList.add('colab-df-spinner');\n",
              "          try {\n",
              "            const charts = await google.colab.kernel.invokeFunction(\n",
              "                'suggestCharts', [key], {});\n",
              "          } catch (error) {\n",
              "            console.error('Error during call to suggestCharts:', error);\n",
              "          }\n",
              "          quickchartButtonEl.classList.remove('colab-df-spinner');\n",
              "          quickchartButtonEl.classList.add('colab-df-quickchart-complete');\n",
              "        }\n",
              "        (() => {\n",
              "          let quickchartButtonEl =\n",
              "            document.querySelector('#df-4771ac5c-513a-4236-aa1f-33b48b71abac button');\n",
              "          quickchartButtonEl.style.display =\n",
              "            google.colab.kernel.accessAllowed ? 'block' : 'none';\n",
              "        })();\n",
              "      </script>\n",
              "    </div>\n",
              "\n",
              "  <div id=\"id_b6c620ba-91f6-4945-bf4c-f5febaeb9808\">\n",
              "    <style>\n",
              "      .colab-df-generate {\n",
              "        background-color: #E8F0FE;\n",
              "        border: none;\n",
              "        border-radius: 50%;\n",
              "        cursor: pointer;\n",
              "        display: none;\n",
              "        fill: #1967D2;\n",
              "        height: 32px;\n",
              "        padding: 0 0 0 0;\n",
              "        width: 32px;\n",
              "      }\n",
              "\n",
              "      .colab-df-generate:hover {\n",
              "        background-color: #E2EBFA;\n",
              "        box-shadow: 0px 1px 2px rgba(60, 64, 67, 0.3), 0px 1px 3px 1px rgba(60, 64, 67, 0.15);\n",
              "        fill: #174EA6;\n",
              "      }\n",
              "\n",
              "      [theme=dark] .colab-df-generate {\n",
              "        background-color: #3B4455;\n",
              "        fill: #D2E3FC;\n",
              "      }\n",
              "\n",
              "      [theme=dark] .colab-df-generate:hover {\n",
              "        background-color: #434B5C;\n",
              "        box-shadow: 0px 1px 3px 1px rgba(0, 0, 0, 0.15);\n",
              "        filter: drop-shadow(0px 1px 2px rgba(0, 0, 0, 0.3));\n",
              "        fill: #FFFFFF;\n",
              "      }\n",
              "    </style>\n",
              "    <button class=\"colab-df-generate\" onclick=\"generateWithVariable('stations_with_high_start_count')\"\n",
              "            title=\"Generate code using this dataframe.\"\n",
              "            style=\"display:none;\">\n",
              "\n",
              "  <svg xmlns=\"http://www.w3.org/2000/svg\" height=\"24px\"viewBox=\"0 0 24 24\"\n",
              "       width=\"24px\">\n",
              "    <path d=\"M7,19H8.4L18.45,9,17,7.55,7,17.6ZM5,21V16.75L18.45,3.32a2,2,0,0,1,2.83,0l1.4,1.43a1.91,1.91,0,0,1,.58,1.4,1.91,1.91,0,0,1-.58,1.4L9.25,21ZM18.45,9,17,7.55Zm-12,3A5.31,5.31,0,0,0,4.9,8.1,5.31,5.31,0,0,0,1,6.5,5.31,5.31,0,0,0,4.9,4.9,5.31,5.31,0,0,0,6.5,1,5.31,5.31,0,0,0,8.1,4.9,5.31,5.31,0,0,0,12,6.5,5.46,5.46,0,0,0,6.5,12Z\"/>\n",
              "  </svg>\n",
              "    </button>\n",
              "    <script>\n",
              "      (() => {\n",
              "      const buttonEl =\n",
              "        document.querySelector('#id_b6c620ba-91f6-4945-bf4c-f5febaeb9808 button.colab-df-generate');\n",
              "      buttonEl.style.display =\n",
              "        google.colab.kernel.accessAllowed ? 'block' : 'none';\n",
              "\n",
              "      buttonEl.onclick = () => {\n",
              "        google.colab.notebook.generateWithVariable('stations_with_high_start_count');\n",
              "      }\n",
              "      })();\n",
              "    </script>\n",
              "  </div>\n",
              "\n",
              "    </div>\n",
              "  </div>\n"
            ],
            "application/vnd.google.colaboratory.intrinsic+json": {
              "type": "dataframe",
              "variable_name": "stations_with_high_start_count",
              "summary": "{\n  \"name\": \"stations_with_high_start_count\",\n  \"rows\": 4,\n  \"fields\": [\n    {\n      \"column\": \"station_id\",\n      \"properties\": {\n        \"dtype\": \"number\",\n        \"std\": 287.4439268216788,\n        \"min\": 6140.05,\n        \"max\": 6822.09,\n        \"num_unique_values\": 4,\n        \"samples\": [\n          6331.01,\n          6822.09,\n          6140.05\n        ],\n        \"semantic_type\": \"\",\n        \"description\": \"\"\n      }\n    },\n    {\n      \"column\": \"start_count\",\n      \"properties\": {\n        \"dtype\": \"number\",\n        \"std\": 1033.5780489800145,\n        \"min\": 6020.0,\n        \"max\": 8320.0,\n        \"num_unique_values\": 4,\n        \"samples\": [\n          6020.0,\n          6554.0,\n          8320.0\n        ],\n        \"semantic_type\": \"\",\n        \"description\": \"\"\n      }\n    },\n    {\n      \"column\": \"end_count\",\n      \"properties\": {\n        \"dtype\": \"number\",\n        \"std\": 1009,\n        \"min\": 6051,\n        \"max\": 8309,\n        \"num_unique_values\": 4,\n        \"samples\": [\n          6051,\n          6615,\n          8309\n        ],\n        \"semantic_type\": \"\",\n        \"description\": \"\"\n      }\n    }\n  ]\n}"
            }
          },
          "metadata": {}
        }
      ]
    },
    {
      "cell_type": "code",
      "source": [
        "print(df.head)"
      ],
      "metadata": {
        "id": "5Ewe3JZBhwb2",
        "colab": {
          "base_uri": "https://localhost:8080/"
        },
        "outputId": "65ad5403-c62e-4ed1-b897-40aa074cbbeb"
      },
      "execution_count": null,
      "outputs": [
        {
          "output_type": "stream",
          "name": "stdout",
          "text": [
            "<bound method NDFrame.head of                   ride_id  rideable_type              started_at  \\\n",
            "0        62EF1AC5BE598131   classic_bike 2024-01-24 09:03:33.533   \n",
            "1        8464E543DAB27DBF   classic_bike 2024-01-30 08:21:29.510   \n",
            "2        9C04FDC8549F5205  electric_bike 2024-01-22 21:18:25.199   \n",
            "3        7DD1703A3E0D8833  electric_bike 2024-01-31 22:15:49.861   \n",
            "4        6A96FCD170996E59   classic_bike 2024-01-29 22:52:28.276   \n",
            "...                   ...            ...                     ...   \n",
            "1888080  53C5A7DDC930FE68  electric_bike 2024-01-19 08:11:31.812   \n",
            "1888081  80C14103C204CD47  electric_bike 2024-01-23 08:50:57.782   \n",
            "1888082  E1EE9037A8CB6101  electric_bike 2024-01-21 14:16:24.984   \n",
            "1888083  DA5E681B117190A0  electric_bike 2024-01-23 09:02:49.848   \n",
            "1888084  C29B38D0D93E10BA   classic_bike 2024-01-26 09:39:15.238   \n",
            "\n",
            "                       ended_at         start_station_name  start_station_id  \\\n",
            "0       2024-01-24 09:06:53.535           E 102 St & 1 Ave           7407.13   \n",
            "1       2024-01-30 08:29:03.304           E 102 St & 1 Ave           7407.13   \n",
            "2       2024-01-22 21:26:24.647            W 35 St & 8 Ave           6526.01   \n",
            "3       2024-01-31 22:22:45.520  Warren St & Roosevelt Ave           6346.07   \n",
            "4       2024-01-29 22:57:05.099            6 Ave & W 33 St           6364.07   \n",
            "...                         ...                        ...               ...   \n",
            "1888080 2024-01-19 08:18:23.659      Devoe St & Lorimer St           5259.06   \n",
            "1888081 2024-01-23 09:12:37.637    Fulton St & Waverly Ave           4345.11   \n",
            "1888082 2024-01-21 14:22:14.498        Driggs Ave & N 9 St           5411.08   \n",
            "1888083 2024-01-23 09:21:19.513        Driggs Ave & N 9 St           5411.08   \n",
            "1888084 2024-01-26 09:42:45.447           E 102 St & 1 Ave           7407.13   \n",
            "\n",
            "                     end_station_name  end_station_id  start_lat  start_lng  \\\n",
            "0            E 103 St & Lexington Ave         7463.09  40.786995 -73.941648   \n",
            "1                     E 91 St & 2 Ave         7286.01  40.786995 -73.941648   \n",
            "2                     1 Ave & E 39 St         6303.01  40.752762 -73.992805   \n",
            "3              112 St & Northern Blvd         6683.01  40.749190 -73.870540   \n",
            "4                     W 29 St & 9 Ave         6416.06  40.749013 -73.988484   \n",
            "...                               ...             ...        ...        ...   \n",
            "1888080  Meserole Ave & Manhattan Ave         5666.04  40.713352 -73.949103   \n",
            "1888081          Broad St & Bridge St         4962.08  40.683239 -73.965996   \n",
            "1888082  Meserole Ave & Manhattan Ave         5666.04  40.718170 -73.955201   \n",
            "1888083     Pearl St & Hanover Square         4993.02  40.718170 -73.955201   \n",
            "1888084      E 103 St & Lexington Ave         7463.09  40.786995 -73.941648   \n",
            "\n",
            "           end_lat    end_lng member_casual  \n",
            "0        40.790305 -73.947558        member  \n",
            "1        40.781153 -73.949630        member  \n",
            "2        40.747140 -73.971130        member  \n",
            "3        40.757880 -73.857630        member  \n",
            "4        40.750073 -73.998393        member  \n",
            "...            ...        ...           ...  \n",
            "1888080  40.727086 -73.952991        member  \n",
            "1888081  40.703652 -74.011678        member  \n",
            "1888082  40.727086 -73.952991        member  \n",
            "1888083  40.704718 -74.009260        member  \n",
            "1888084  40.790305 -73.947558        member  \n",
            "\n",
            "[1881640 rows x 13 columns]>\n"
          ]
        }
      ]
    },
    {
      "cell_type": "markdown",
      "source": [
        "# 2nd ml idea -> station popularity/busyness :"
      ],
      "metadata": {
        "id": "Z5n37s6rf2N3"
      }
    },
    {
      "cell_type": "code",
      "source": [
        "df['started_at'] = pd.to_datetime(df['started_at'])\n",
        "df['hour'] = df['started_at'].dt.hour\n",
        "df['day_of_month'] = df['started_at'].dt.day"
      ],
      "metadata": {
        "id": "HTSTQvrtH0hH"
      },
      "execution_count": null,
      "outputs": []
    },
    {
      "cell_type": "code",
      "source": [
        "station_busyness = df.groupby(\n",
        "    ['start_station_name', 'day_of_month', 'hour']\n",
        ").size().reset_index(name='ride_count')"
      ],
      "metadata": {
        "id": "d4KH4R_vH0qc"
      },
      "execution_count": null,
      "outputs": []
    },
    {
      "cell_type": "code",
      "source": [
        "print(station_busyness.drop_duplicates(subset=['start_station_name']).head(20))"
      ],
      "metadata": {
        "colab": {
          "base_uri": "https://localhost:8080/"
        },
        "id": "exsMIhFua9ur",
        "outputId": "fd630d30-5ba3-4b2b-822f-dc21a859e6bf"
      },
      "execution_count": null,
      "outputs": [
        {
          "output_type": "stream",
          "name": "stdout",
          "text": [
            "     start_station_name  day_of_month  hour  ride_count\n",
            "0      1 Ave & E 110 St             1     6           2\n",
            "480     1 Ave & E 16 St             1     0           3\n",
            "1097    1 Ave & E 18 St             1     0           1\n",
            "1697    1 Ave & E 30 St             1     0           5\n",
            "2302    1 Ave & E 39 St             1     1           2\n",
            "2885    1 Ave & E 44 St             1     0           1\n",
            "3321     1 Ave & E 6 St             1     0           5\n",
            "3880    1 Ave & E 62 St             1     1           2\n",
            "4510    1 Ave & E 68 St             1     0           1\n",
            "5145    1 Ave & E 94 St             1     0           1\n",
            "5577  1 Pl & Clinton St             1     1           4\n",
            "5981       1 St & 6 Ave             1     2           4\n",
            "6399   10 Ave & W 14 St             1     0           1\n",
            "6840  10 Ave & W 202 St             1     1           1\n",
            "6913  10 Ave & W 204 St             2    18           1\n",
            "6940  10 Ave & W 207 St             1    17           1\n",
            "7048  10 Ave & W 215 St             1    14           1\n",
            "7095   10 Ave & W 28 St             1     0           3\n",
            "7703      10 St & 2 Ave             1     8           1\n",
            "8015      10 St & 4 Ave             1     0           5\n"
          ]
        }
      ]
    },
    {
      "cell_type": "code",
      "source": [
        "from sklearn.preprocessing import LabelEncoder\n",
        "le_station = LabelEncoder()\n",
        "station_busyness['station_id'] = le_station.fit_transform(station_busyness['start_station_name'])\n",
        "# reference: https://scikit-learn.org/stable/modules/generated/sklearn.preprocessing.LabelEncoder.html"
      ],
      "metadata": {
        "id": "m7ZKd76-H0tz"
      },
      "execution_count": null,
      "outputs": []
    },
    {
      "cell_type": "code",
      "source": [
        "x = station_busyness[['day_of_month', 'hour', 'station_id']]\n",
        "y = station_busyness['ride_count']"
      ],
      "metadata": {
        "id": "KufQyJLjH0wu"
      },
      "execution_count": null,
      "outputs": []
    },
    {
      "cell_type": "code",
      "source": [
        "from sklearn.model_selection import train_test_split\n",
        "x_train, x_test, y_train, y_test = train_test_split(x, y, test_size=0.25, random_state=0)"
      ],
      "metadata": {
        "id": "l5f9NmdPIvnj"
      },
      "execution_count": null,
      "outputs": []
    },
    {
      "cell_type": "code",
      "source": [
        "print(\"Training set x: \",x_train)\n",
        "print(\"Training set y: \",y_train)"
      ],
      "metadata": {
        "colab": {
          "base_uri": "https://localhost:8080/"
        },
        "id": "1EZMGpxaIvqI",
        "outputId": "15aa0328-bdbc-4c82-c96f-f5bded253849"
      },
      "execution_count": null,
      "outputs": [
        {
          "output_type": "stream",
          "name": "stdout",
          "text": [
            "Training set x:          day_of_month  hour  station_id\n",
            "223560            30    18         891\n",
            "303580            16    15        1113\n",
            "209188            13    19         836\n",
            "409591             1     0        1484\n",
            "296425            20    13        1095\n",
            "...              ...   ...         ...\n",
            "359783             8    18        1315\n",
            "152315             4    22         640\n",
            "117952            11     6         518\n",
            "435829             2    16        1567\n",
            "305711            11     9        1121\n",
            "\n",
            "[454158 rows x 3 columns]\n",
            "Training set y:  223560    2\n",
            "303580    1\n",
            "209188    1\n",
            "409591    2\n",
            "296425    5\n",
            "         ..\n",
            "359783    3\n",
            "152315    2\n",
            "117952    1\n",
            "435829    1\n",
            "305711    2\n",
            "Name: ride_count, Length: 454158, dtype: int64\n"
          ]
        }
      ]
    },
    {
      "cell_type": "code",
      "source": [
        "from sklearn.ensemble import RandomForestRegressor\n",
        "\n",
        "model_bikedemand = RandomForestRegressor(n_estimators=100, random_state=0)\n",
        "model_bikedemand.fit(x_train, y_train)"
      ],
      "metadata": {
        "colab": {
          "base_uri": "https://localhost:8080/",
          "height": 80
        },
        "id": "2HHfelvQIvsq",
        "outputId": "d37adc4d-d98c-4933-f4ea-160b9af0cc6a"
      },
      "execution_count": null,
      "outputs": [
        {
          "output_type": "execute_result",
          "data": {
            "text/plain": [
              "RandomForestRegressor(random_state=0)"
            ],
            "text/html": [
              "<style>#sk-container-id-1 {\n",
              "  /* Definition of color scheme common for light and dark mode */\n",
              "  --sklearn-color-text: #000;\n",
              "  --sklearn-color-text-muted: #666;\n",
              "  --sklearn-color-line: gray;\n",
              "  /* Definition of color scheme for unfitted estimators */\n",
              "  --sklearn-color-unfitted-level-0: #fff5e6;\n",
              "  --sklearn-color-unfitted-level-1: #f6e4d2;\n",
              "  --sklearn-color-unfitted-level-2: #ffe0b3;\n",
              "  --sklearn-color-unfitted-level-3: chocolate;\n",
              "  /* Definition of color scheme for fitted estimators */\n",
              "  --sklearn-color-fitted-level-0: #f0f8ff;\n",
              "  --sklearn-color-fitted-level-1: #d4ebff;\n",
              "  --sklearn-color-fitted-level-2: #b3dbfd;\n",
              "  --sklearn-color-fitted-level-3: cornflowerblue;\n",
              "\n",
              "  /* Specific color for light theme */\n",
              "  --sklearn-color-text-on-default-background: var(--sg-text-color, var(--theme-code-foreground, var(--jp-content-font-color1, black)));\n",
              "  --sklearn-color-background: var(--sg-background-color, var(--theme-background, var(--jp-layout-color0, white)));\n",
              "  --sklearn-color-border-box: var(--sg-text-color, var(--theme-code-foreground, var(--jp-content-font-color1, black)));\n",
              "  --sklearn-color-icon: #696969;\n",
              "\n",
              "  @media (prefers-color-scheme: dark) {\n",
              "    /* Redefinition of color scheme for dark theme */\n",
              "    --sklearn-color-text-on-default-background: var(--sg-text-color, var(--theme-code-foreground, var(--jp-content-font-color1, white)));\n",
              "    --sklearn-color-background: var(--sg-background-color, var(--theme-background, var(--jp-layout-color0, #111)));\n",
              "    --sklearn-color-border-box: var(--sg-text-color, var(--theme-code-foreground, var(--jp-content-font-color1, white)));\n",
              "    --sklearn-color-icon: #878787;\n",
              "  }\n",
              "}\n",
              "\n",
              "#sk-container-id-1 {\n",
              "  color: var(--sklearn-color-text);\n",
              "}\n",
              "\n",
              "#sk-container-id-1 pre {\n",
              "  padding: 0;\n",
              "}\n",
              "\n",
              "#sk-container-id-1 input.sk-hidden--visually {\n",
              "  border: 0;\n",
              "  clip: rect(1px 1px 1px 1px);\n",
              "  clip: rect(1px, 1px, 1px, 1px);\n",
              "  height: 1px;\n",
              "  margin: -1px;\n",
              "  overflow: hidden;\n",
              "  padding: 0;\n",
              "  position: absolute;\n",
              "  width: 1px;\n",
              "}\n",
              "\n",
              "#sk-container-id-1 div.sk-dashed-wrapped {\n",
              "  border: 1px dashed var(--sklearn-color-line);\n",
              "  margin: 0 0.4em 0.5em 0.4em;\n",
              "  box-sizing: border-box;\n",
              "  padding-bottom: 0.4em;\n",
              "  background-color: var(--sklearn-color-background);\n",
              "}\n",
              "\n",
              "#sk-container-id-1 div.sk-container {\n",
              "  /* jupyter's `normalize.less` sets `[hidden] { display: none; }`\n",
              "     but bootstrap.min.css set `[hidden] { display: none !important; }`\n",
              "     so we also need the `!important` here to be able to override the\n",
              "     default hidden behavior on the sphinx rendered scikit-learn.org.\n",
              "     See: https://github.com/scikit-learn/scikit-learn/issues/21755 */\n",
              "  display: inline-block !important;\n",
              "  position: relative;\n",
              "}\n",
              "\n",
              "#sk-container-id-1 div.sk-text-repr-fallback {\n",
              "  display: none;\n",
              "}\n",
              "\n",
              "div.sk-parallel-item,\n",
              "div.sk-serial,\n",
              "div.sk-item {\n",
              "  /* draw centered vertical line to link estimators */\n",
              "  background-image: linear-gradient(var(--sklearn-color-text-on-default-background), var(--sklearn-color-text-on-default-background));\n",
              "  background-size: 2px 100%;\n",
              "  background-repeat: no-repeat;\n",
              "  background-position: center center;\n",
              "}\n",
              "\n",
              "/* Parallel-specific style estimator block */\n",
              "\n",
              "#sk-container-id-1 div.sk-parallel-item::after {\n",
              "  content: \"\";\n",
              "  width: 100%;\n",
              "  border-bottom: 2px solid var(--sklearn-color-text-on-default-background);\n",
              "  flex-grow: 1;\n",
              "}\n",
              "\n",
              "#sk-container-id-1 div.sk-parallel {\n",
              "  display: flex;\n",
              "  align-items: stretch;\n",
              "  justify-content: center;\n",
              "  background-color: var(--sklearn-color-background);\n",
              "  position: relative;\n",
              "}\n",
              "\n",
              "#sk-container-id-1 div.sk-parallel-item {\n",
              "  display: flex;\n",
              "  flex-direction: column;\n",
              "}\n",
              "\n",
              "#sk-container-id-1 div.sk-parallel-item:first-child::after {\n",
              "  align-self: flex-end;\n",
              "  width: 50%;\n",
              "}\n",
              "\n",
              "#sk-container-id-1 div.sk-parallel-item:last-child::after {\n",
              "  align-self: flex-start;\n",
              "  width: 50%;\n",
              "}\n",
              "\n",
              "#sk-container-id-1 div.sk-parallel-item:only-child::after {\n",
              "  width: 0;\n",
              "}\n",
              "\n",
              "/* Serial-specific style estimator block */\n",
              "\n",
              "#sk-container-id-1 div.sk-serial {\n",
              "  display: flex;\n",
              "  flex-direction: column;\n",
              "  align-items: center;\n",
              "  background-color: var(--sklearn-color-background);\n",
              "  padding-right: 1em;\n",
              "  padding-left: 1em;\n",
              "}\n",
              "\n",
              "\n",
              "/* Toggleable style: style used for estimator/Pipeline/ColumnTransformer box that is\n",
              "clickable and can be expanded/collapsed.\n",
              "- Pipeline and ColumnTransformer use this feature and define the default style\n",
              "- Estimators will overwrite some part of the style using the `sk-estimator` class\n",
              "*/\n",
              "\n",
              "/* Pipeline and ColumnTransformer style (default) */\n",
              "\n",
              "#sk-container-id-1 div.sk-toggleable {\n",
              "  /* Default theme specific background. It is overwritten whether we have a\n",
              "  specific estimator or a Pipeline/ColumnTransformer */\n",
              "  background-color: var(--sklearn-color-background);\n",
              "}\n",
              "\n",
              "/* Toggleable label */\n",
              "#sk-container-id-1 label.sk-toggleable__label {\n",
              "  cursor: pointer;\n",
              "  display: flex;\n",
              "  width: 100%;\n",
              "  margin-bottom: 0;\n",
              "  padding: 0.5em;\n",
              "  box-sizing: border-box;\n",
              "  text-align: center;\n",
              "  align-items: start;\n",
              "  justify-content: space-between;\n",
              "  gap: 0.5em;\n",
              "}\n",
              "\n",
              "#sk-container-id-1 label.sk-toggleable__label .caption {\n",
              "  font-size: 0.6rem;\n",
              "  font-weight: lighter;\n",
              "  color: var(--sklearn-color-text-muted);\n",
              "}\n",
              "\n",
              "#sk-container-id-1 label.sk-toggleable__label-arrow:before {\n",
              "  /* Arrow on the left of the label */\n",
              "  content: \"▸\";\n",
              "  float: left;\n",
              "  margin-right: 0.25em;\n",
              "  color: var(--sklearn-color-icon);\n",
              "}\n",
              "\n",
              "#sk-container-id-1 label.sk-toggleable__label-arrow:hover:before {\n",
              "  color: var(--sklearn-color-text);\n",
              "}\n",
              "\n",
              "/* Toggleable content - dropdown */\n",
              "\n",
              "#sk-container-id-1 div.sk-toggleable__content {\n",
              "  max-height: 0;\n",
              "  max-width: 0;\n",
              "  overflow: hidden;\n",
              "  text-align: left;\n",
              "  /* unfitted */\n",
              "  background-color: var(--sklearn-color-unfitted-level-0);\n",
              "}\n",
              "\n",
              "#sk-container-id-1 div.sk-toggleable__content.fitted {\n",
              "  /* fitted */\n",
              "  background-color: var(--sklearn-color-fitted-level-0);\n",
              "}\n",
              "\n",
              "#sk-container-id-1 div.sk-toggleable__content pre {\n",
              "  margin: 0.2em;\n",
              "  border-radius: 0.25em;\n",
              "  color: var(--sklearn-color-text);\n",
              "  /* unfitted */\n",
              "  background-color: var(--sklearn-color-unfitted-level-0);\n",
              "}\n",
              "\n",
              "#sk-container-id-1 div.sk-toggleable__content.fitted pre {\n",
              "  /* unfitted */\n",
              "  background-color: var(--sklearn-color-fitted-level-0);\n",
              "}\n",
              "\n",
              "#sk-container-id-1 input.sk-toggleable__control:checked~div.sk-toggleable__content {\n",
              "  /* Expand drop-down */\n",
              "  max-height: 200px;\n",
              "  max-width: 100%;\n",
              "  overflow: auto;\n",
              "}\n",
              "\n",
              "#sk-container-id-1 input.sk-toggleable__control:checked~label.sk-toggleable__label-arrow:before {\n",
              "  content: \"▾\";\n",
              "}\n",
              "\n",
              "/* Pipeline/ColumnTransformer-specific style */\n",
              "\n",
              "#sk-container-id-1 div.sk-label input.sk-toggleable__control:checked~label.sk-toggleable__label {\n",
              "  color: var(--sklearn-color-text);\n",
              "  background-color: var(--sklearn-color-unfitted-level-2);\n",
              "}\n",
              "\n",
              "#sk-container-id-1 div.sk-label.fitted input.sk-toggleable__control:checked~label.sk-toggleable__label {\n",
              "  background-color: var(--sklearn-color-fitted-level-2);\n",
              "}\n",
              "\n",
              "/* Estimator-specific style */\n",
              "\n",
              "/* Colorize estimator box */\n",
              "#sk-container-id-1 div.sk-estimator input.sk-toggleable__control:checked~label.sk-toggleable__label {\n",
              "  /* unfitted */\n",
              "  background-color: var(--sklearn-color-unfitted-level-2);\n",
              "}\n",
              "\n",
              "#sk-container-id-1 div.sk-estimator.fitted input.sk-toggleable__control:checked~label.sk-toggleable__label {\n",
              "  /* fitted */\n",
              "  background-color: var(--sklearn-color-fitted-level-2);\n",
              "}\n",
              "\n",
              "#sk-container-id-1 div.sk-label label.sk-toggleable__label,\n",
              "#sk-container-id-1 div.sk-label label {\n",
              "  /* The background is the default theme color */\n",
              "  color: var(--sklearn-color-text-on-default-background);\n",
              "}\n",
              "\n",
              "/* On hover, darken the color of the background */\n",
              "#sk-container-id-1 div.sk-label:hover label.sk-toggleable__label {\n",
              "  color: var(--sklearn-color-text);\n",
              "  background-color: var(--sklearn-color-unfitted-level-2);\n",
              "}\n",
              "\n",
              "/* Label box, darken color on hover, fitted */\n",
              "#sk-container-id-1 div.sk-label.fitted:hover label.sk-toggleable__label.fitted {\n",
              "  color: var(--sklearn-color-text);\n",
              "  background-color: var(--sklearn-color-fitted-level-2);\n",
              "}\n",
              "\n",
              "/* Estimator label */\n",
              "\n",
              "#sk-container-id-1 div.sk-label label {\n",
              "  font-family: monospace;\n",
              "  font-weight: bold;\n",
              "  display: inline-block;\n",
              "  line-height: 1.2em;\n",
              "}\n",
              "\n",
              "#sk-container-id-1 div.sk-label-container {\n",
              "  text-align: center;\n",
              "}\n",
              "\n",
              "/* Estimator-specific */\n",
              "#sk-container-id-1 div.sk-estimator {\n",
              "  font-family: monospace;\n",
              "  border: 1px dotted var(--sklearn-color-border-box);\n",
              "  border-radius: 0.25em;\n",
              "  box-sizing: border-box;\n",
              "  margin-bottom: 0.5em;\n",
              "  /* unfitted */\n",
              "  background-color: var(--sklearn-color-unfitted-level-0);\n",
              "}\n",
              "\n",
              "#sk-container-id-1 div.sk-estimator.fitted {\n",
              "  /* fitted */\n",
              "  background-color: var(--sklearn-color-fitted-level-0);\n",
              "}\n",
              "\n",
              "/* on hover */\n",
              "#sk-container-id-1 div.sk-estimator:hover {\n",
              "  /* unfitted */\n",
              "  background-color: var(--sklearn-color-unfitted-level-2);\n",
              "}\n",
              "\n",
              "#sk-container-id-1 div.sk-estimator.fitted:hover {\n",
              "  /* fitted */\n",
              "  background-color: var(--sklearn-color-fitted-level-2);\n",
              "}\n",
              "\n",
              "/* Specification for estimator info (e.g. \"i\" and \"?\") */\n",
              "\n",
              "/* Common style for \"i\" and \"?\" */\n",
              "\n",
              ".sk-estimator-doc-link,\n",
              "a:link.sk-estimator-doc-link,\n",
              "a:visited.sk-estimator-doc-link {\n",
              "  float: right;\n",
              "  font-size: smaller;\n",
              "  line-height: 1em;\n",
              "  font-family: monospace;\n",
              "  background-color: var(--sklearn-color-background);\n",
              "  border-radius: 1em;\n",
              "  height: 1em;\n",
              "  width: 1em;\n",
              "  text-decoration: none !important;\n",
              "  margin-left: 0.5em;\n",
              "  text-align: center;\n",
              "  /* unfitted */\n",
              "  border: var(--sklearn-color-unfitted-level-1) 1pt solid;\n",
              "  color: var(--sklearn-color-unfitted-level-1);\n",
              "}\n",
              "\n",
              ".sk-estimator-doc-link.fitted,\n",
              "a:link.sk-estimator-doc-link.fitted,\n",
              "a:visited.sk-estimator-doc-link.fitted {\n",
              "  /* fitted */\n",
              "  border: var(--sklearn-color-fitted-level-1) 1pt solid;\n",
              "  color: var(--sklearn-color-fitted-level-1);\n",
              "}\n",
              "\n",
              "/* On hover */\n",
              "div.sk-estimator:hover .sk-estimator-doc-link:hover,\n",
              ".sk-estimator-doc-link:hover,\n",
              "div.sk-label-container:hover .sk-estimator-doc-link:hover,\n",
              ".sk-estimator-doc-link:hover {\n",
              "  /* unfitted */\n",
              "  background-color: var(--sklearn-color-unfitted-level-3);\n",
              "  color: var(--sklearn-color-background);\n",
              "  text-decoration: none;\n",
              "}\n",
              "\n",
              "div.sk-estimator.fitted:hover .sk-estimator-doc-link.fitted:hover,\n",
              ".sk-estimator-doc-link.fitted:hover,\n",
              "div.sk-label-container:hover .sk-estimator-doc-link.fitted:hover,\n",
              ".sk-estimator-doc-link.fitted:hover {\n",
              "  /* fitted */\n",
              "  background-color: var(--sklearn-color-fitted-level-3);\n",
              "  color: var(--sklearn-color-background);\n",
              "  text-decoration: none;\n",
              "}\n",
              "\n",
              "/* Span, style for the box shown on hovering the info icon */\n",
              ".sk-estimator-doc-link span {\n",
              "  display: none;\n",
              "  z-index: 9999;\n",
              "  position: relative;\n",
              "  font-weight: normal;\n",
              "  right: .2ex;\n",
              "  padding: .5ex;\n",
              "  margin: .5ex;\n",
              "  width: min-content;\n",
              "  min-width: 20ex;\n",
              "  max-width: 50ex;\n",
              "  color: var(--sklearn-color-text);\n",
              "  box-shadow: 2pt 2pt 4pt #999;\n",
              "  /* unfitted */\n",
              "  background: var(--sklearn-color-unfitted-level-0);\n",
              "  border: .5pt solid var(--sklearn-color-unfitted-level-3);\n",
              "}\n",
              "\n",
              ".sk-estimator-doc-link.fitted span {\n",
              "  /* fitted */\n",
              "  background: var(--sklearn-color-fitted-level-0);\n",
              "  border: var(--sklearn-color-fitted-level-3);\n",
              "}\n",
              "\n",
              ".sk-estimator-doc-link:hover span {\n",
              "  display: block;\n",
              "}\n",
              "\n",
              "/* \"?\"-specific style due to the `<a>` HTML tag */\n",
              "\n",
              "#sk-container-id-1 a.estimator_doc_link {\n",
              "  float: right;\n",
              "  font-size: 1rem;\n",
              "  line-height: 1em;\n",
              "  font-family: monospace;\n",
              "  background-color: var(--sklearn-color-background);\n",
              "  border-radius: 1rem;\n",
              "  height: 1rem;\n",
              "  width: 1rem;\n",
              "  text-decoration: none;\n",
              "  /* unfitted */\n",
              "  color: var(--sklearn-color-unfitted-level-1);\n",
              "  border: var(--sklearn-color-unfitted-level-1) 1pt solid;\n",
              "}\n",
              "\n",
              "#sk-container-id-1 a.estimator_doc_link.fitted {\n",
              "  /* fitted */\n",
              "  border: var(--sklearn-color-fitted-level-1) 1pt solid;\n",
              "  color: var(--sklearn-color-fitted-level-1);\n",
              "}\n",
              "\n",
              "/* On hover */\n",
              "#sk-container-id-1 a.estimator_doc_link:hover {\n",
              "  /* unfitted */\n",
              "  background-color: var(--sklearn-color-unfitted-level-3);\n",
              "  color: var(--sklearn-color-background);\n",
              "  text-decoration: none;\n",
              "}\n",
              "\n",
              "#sk-container-id-1 a.estimator_doc_link.fitted:hover {\n",
              "  /* fitted */\n",
              "  background-color: var(--sklearn-color-fitted-level-3);\n",
              "}\n",
              "</style><div id=\"sk-container-id-1\" class=\"sk-top-container\"><div class=\"sk-text-repr-fallback\"><pre>RandomForestRegressor(random_state=0)</pre><b>In a Jupyter environment, please rerun this cell to show the HTML representation or trust the notebook. <br />On GitHub, the HTML representation is unable to render, please try loading this page with nbviewer.org.</b></div><div class=\"sk-container\" hidden><div class=\"sk-item\"><div class=\"sk-estimator fitted sk-toggleable\"><input class=\"sk-toggleable__control sk-hidden--visually\" id=\"sk-estimator-id-1\" type=\"checkbox\" checked><label for=\"sk-estimator-id-1\" class=\"sk-toggleable__label fitted sk-toggleable__label-arrow\"><div><div>RandomForestRegressor</div></div><div><a class=\"sk-estimator-doc-link fitted\" rel=\"noreferrer\" target=\"_blank\" href=\"https://scikit-learn.org/1.6/modules/generated/sklearn.ensemble.RandomForestRegressor.html\">?<span>Documentation for RandomForestRegressor</span></a><span class=\"sk-estimator-doc-link fitted\">i<span>Fitted</span></span></div></label><div class=\"sk-toggleable__content fitted\"><pre>RandomForestRegressor(random_state=0)</pre></div> </div></div></div></div>"
            ]
          },
          "metadata": {},
          "execution_count": 19
        }
      ]
    },
    {
      "cell_type": "code",
      "source": [
        "import joblib\n",
        "joblib.dump(model_bikedemand, 'bike_demand_model.pkl')\n",
        "joblib.dump(le_station, 'le_station.pkl')\n",
        "print(\" Both Model and encoder saved for using in 2025 dataset\")\n"
      ],
      "metadata": {
        "colab": {
          "base_uri": "https://localhost:8080/"
        },
        "id": "_u9ow5LUIvvF",
        "outputId": "7044b11d-8e56-484b-d075-b81f242ffcd3"
      },
      "execution_count": null,
      "outputs": [
        {
          "output_type": "stream",
          "name": "stdout",
          "text": [
            " Both Model and encoder saved for using in 2025 dataset\n"
          ]
        }
      ]
    },
    {
      "cell_type": "code",
      "source": [
        "from sklearn.metrics import mean_absolute_error, mean_squared_error, r2_score\n",
        "y_predict = model_bikedemand.predict(x_test)\n",
        "mean_absolute_percentage_error_score = mean_absolute_error(y_test, y_predict)\n",
        "r2 = r2_score(y_test, y_predict)\n",
        "mean_squared_error_score = mean_squared_error(y_test, y_predict)\n",
        "print(\"mae score(in%):\",mean_absolute_percentage_error_score)\n",
        "print(\"r2 score:\",r2)\n",
        "print(\"mse score:\",mean_squared_error_score)"
      ],
      "metadata": {
        "colab": {
          "base_uri": "https://localhost:8080/"
        },
        "id": "nHTgKlggIvxo",
        "outputId": "4d405dfe-29a3-48ae-b086-8f5b17de31c7"
      },
      "execution_count": null,
      "outputs": [
        {
          "output_type": "stream",
          "name": "stdout",
          "text": [
            "mae score(in%): 1.3790934492393663\n",
            "r2 score: 0.6025020602922706\n",
            "mse score: 4.639561128762708\n"
          ]
        }
      ]
    },
    {
      "cell_type": "markdown",
      "source": [
        "time to validate how well the model is working"
      ],
      "metadata": {
        "id": "bqE_aEznOdro"
      }
    },
    {
      "cell_type": "code",
      "source": [
        "predict_station = \"W 21 St & 6 Ave\"\n",
        "predict_day = 20          # shows the day of the month\n",
        "predict_hour = 11         # hour of the day (0–23)\n",
        "\n",
        "predict_station_id = le_station.transform([predict_station])[0]\n",
        "real_station_id = df[df['start_station_name'] == predict_station]['start_station_id'].iloc[0]\n",
        "\n",
        "input_data = pd.DataFrame({\n",
        "    'day_of_month': [predict_day],\n",
        "    'hour': [predict_hour],\n",
        "    'station_id': [predict_station_id]\n",
        "})"
      ],
      "metadata": {
        "id": "ICj04YBdH0zg"
      },
      "execution_count": null,
      "outputs": []
    },
    {
      "cell_type": "code",
      "source": [
        "predicted_ride_count = model_bikedemand.predict(input_data)"
      ],
      "metadata": {
        "id": "HxALP5zBH02M"
      },
      "execution_count": null,
      "outputs": []
    },
    {
      "cell_type": "code",
      "source": [
        "actual_ride_count = station_busyness[\n",
        "    (station_busyness['start_station_name'] == predict_station) &\n",
        "    (station_busyness['day_of_month'] == predict_day) &\n",
        "    (station_busyness['hour'] == predict_hour)\n",
        "]['ride_count'].values"
      ],
      "metadata": {
        "id": "eAASOV7UH043"
      },
      "execution_count": null,
      "outputs": []
    },
    {
      "cell_type": "code",
      "source": [
        "predicted_ride_count = model_bikedemand.predict(input_data)\n",
        "print(f\"Predicted number of bikes rented at '{predict_station}' on day {predict_day} at hour {predict_hour}: {predicted_ride_count[0]:.2f}\")\n",
        "print(f\"Actual number of bikes rented at '{predict_station}' on {predict_day} at {predict_hour}:00: {actual_ride_count[0]}\")\n",
        "print(f\"Station ID for '{predict_station}': {predict_station_id}\")\n",
        "print(f\"Real Station ID for '{predict_station}': {real_station_id}\")"
      ],
      "metadata": {
        "colab": {
          "base_uri": "https://localhost:8080/"
        },
        "id": "DW4iImIpOzTY",
        "outputId": "d54e8c9e-9c71-4fef-a172-7be669ce4cd6"
      },
      "execution_count": null,
      "outputs": [
        {
          "output_type": "stream",
          "name": "stdout",
          "text": [
            "Predicted number of bikes rented at 'W 21 St & 6 Ave' on day 20 at hour 11: 14.21\n",
            "Actual number of bikes rented at 'W 21 St & 6 Ave' on 20 at 11:00: 16\n",
            "Station ID for 'W 21 St & 6 Ave': 1938\n",
            "Real Station ID for 'W 21 St & 6 Ave': 6140.05\n"
          ]
        }
      ]
    },
    {
      "cell_type": "code",
      "source": [],
      "metadata": {
        "id": "L39GtFkEOzbf"
      },
      "execution_count": null,
      "outputs": []
    },
    {
      "cell_type": "markdown",
      "source": [
        "2025 Jan"
      ],
      "metadata": {
        "id": "bBZuoC9RP1Ly"
      }
    },
    {
      "cell_type": "code",
      "source": [
        "from urllib.request import urlretrieve\n",
        "import shutil\n",
        "\n",
        "url = \"https://s3.amazonaws.com/tripdata/202501-citibike-tripdata.zip\"\n",
        "urlretrieve(url, \"202501-citibike-tripdata.zip\") # Download dataset\n",
        "shutil.unpack_archive(\"202501-citibike-tripdata.zip\", \"202501-citibike-tripdata\") # Unzip dataset"
      ],
      "metadata": {
        "id": "DIm1nCQVOzeB"
      },
      "execution_count": 38,
      "outputs": []
    },
    {
      "cell_type": "code",
      "source": [
        "import pandas as pd\n",
        "import os\n",
        "\n",
        "csv_dir = \"/content/202501-citibike-tripdata/\"\n",
        "csv_files = [f for f in os.listdir(csv_dir) if f.endswith('.csv')]\n",
        "dfs = []\n",
        "\n",
        "for csv_file in csv_files:\n",
        "    file_path = os.path.join(csv_dir, csv_file)\n",
        "    df_temp = pd.read_csv(file_path, dtype={\n",
        "    \"start_station_id\": \"string\",\n",
        "    \"end_station_id\": \"string\"\n",
        "}, parse_dates=[\"started_at\", \"ended_at\"])  # convert station ids to string for now\n",
        "    dfs.append(df_temp)\n",
        "\n",
        "jan_df = pd.concat(dfs, ignore_index=True) # combine the 2 csv files\n",
        "print(jan_df.head())\n",
        "print(jan_df.shape)"
      ],
      "metadata": {
        "colab": {
          "base_uri": "https://localhost:8080/"
        },
        "id": "n0BOCbGcOzgc",
        "outputId": "e2d0b795-311b-4ad0-8473-5a0f77b3dcc7"
      },
      "execution_count": 39,
      "outputs": [
        {
          "output_type": "stream",
          "name": "stdout",
          "text": [
            "            ride_id  rideable_type              started_at  \\\n",
            "0  44001153A1291415  electric_bike 2025-01-15 20:21:30.116   \n",
            "1  29A89672D7BEFFD5  electric_bike 2025-01-24 13:06:57.377   \n",
            "2  2CA4DFEBDCE7E925   classic_bike 2025-01-31 07:07:21.473   \n",
            "3  49388F1F48DD1693   classic_bike 2025-01-24 17:19:44.412   \n",
            "4  AF222F8FAE2CFC02  electric_bike 2025-01-25 12:02:15.011   \n",
            "\n",
            "                 ended_at        start_station_name start_station_id  \\\n",
            "0 2025-01-15 20:34:16.182    Ash St & Manhattan Ave          6019.04   \n",
            "1 2025-01-24 13:26:37.168     Allen St & Stanton St          5484.09   \n",
            "2 2025-01-31 07:10:01.536     Carlton Ave & Dean St          4199.12   \n",
            "3 2025-01-24 17:28:25.872            31 Ave & 30 St          6857.09   \n",
            "4 2025-01-25 12:14:09.748  Central Park W & W 91 St          7453.01   \n",
            "\n",
            "                end_station_name end_station_id  start_lat  start_lng  \\\n",
            "0                      Motorgate        6814.01  40.738095 -73.954867   \n",
            "1  Atlantic Ave & Fort Greene Pl        4354.07  40.722055 -73.989111   \n",
            "2  Atlantic Ave & Fort Greene Pl        4354.07  40.680974 -73.971010   \n",
            "3            Newtown Ave & 23 St        7026.08  40.764700 -73.924031   \n",
            "4       Central Park W & W 76 St        7253.04  40.788665 -73.966801   \n",
            "\n",
            "     end_lat    end_lng member_casual  \n",
            "0  40.763909 -73.947721        member  \n",
            "1  40.683826 -73.976323        member  \n",
            "2  40.683826 -73.976323        member  \n",
            "3  40.771361 -73.924615        member  \n",
            "4  40.778968 -73.973747        member  \n",
            "(2124475, 13)\n"
          ]
        }
      ]
    },
    {
      "cell_type": "code",
      "source": [
        "import joblib\n",
        "\n",
        "model_path = '/content/bike_demand_model.pkl'\n",
        "model_jan = joblib.load(model_path)"
      ],
      "metadata": {
        "id": "FVt4yGThrRkQ"
      },
      "execution_count": 41,
      "outputs": []
    },
    {
      "cell_type": "code",
      "source": [
        "import pandas as pd\n",
        "jan_df['started_at'] = pd.to_datetime(df['started_at'])\n",
        "jan_df['hour'] = jan_df['started_at'].dt.hour\n",
        "jan_df['day_of_month'] = jan_df['started_at'].dt.day"
      ],
      "metadata": {
        "id": "RNzyLQdMP0aE"
      },
      "execution_count": 45,
      "outputs": []
    },
    {
      "cell_type": "code",
      "source": [
        "\n",
        "jan_station_busy = jan_df.groupby(['start_station_name', 'day_of_month', 'hour']).size().reset_index(name='ride_count')\n"
      ],
      "metadata": {
        "id": "QFwWqEvhP0ct"
      },
      "execution_count": 46,
      "outputs": []
    },
    {
      "cell_type": "code",
      "source": [
        "from sklearn.preprocessing import LabelEncoder\n",
        "\n",
        "le_station = LabelEncoder()\n",
        "jan_station_busy['station_id'] = le_station.fit_transform(jan_station_busy['start_station_name'])\n"
      ],
      "metadata": {
        "id": "np6aVGipP0fW"
      },
      "execution_count": 47,
      "outputs": []
    },
    {
      "cell_type": "code",
      "source": [
        "x_jan = jan_station_busy[['day_of_month', 'hour', 'station_id']]\n",
        "y_jan = jan_station_busy['ride_count']"
      ],
      "metadata": {
        "id": "RB6e6QxAP0iC"
      },
      "execution_count": 48,
      "outputs": []
    },
    {
      "cell_type": "code",
      "source": [
        "y_pred_jan = model_jan.predict(x_jan)"
      ],
      "metadata": {
        "id": "bAzZOgNIP0k1"
      },
      "execution_count": 49,
      "outputs": []
    },
    {
      "cell_type": "code",
      "source": [
        "predict_station = \"W 21 St & 6 Ave\"\n",
        "predict_day = 20          # shows the day of the month\n",
        "predict_hour = 11         # hour of the day (0–23)\n",
        "\n",
        "predict_station_id = le_station.transform([predict_station])[0]\n",
        "real_station_id = jan_df[jan_df['start_station_name'] == predict_station]['start_station_id'].iloc[0]\n",
        "\n",
        "input_data_jan = pd.DataFrame({\n",
        "    'day_of_month': [predict_day],\n",
        "    'hour': [predict_hour],\n",
        "    'station_id': [predict_station_id]\n",
        "})"
      ],
      "metadata": {
        "id": "qjdrPefQ_-x-"
      },
      "execution_count": 50,
      "outputs": []
    },
    {
      "cell_type": "code",
      "source": [
        "predicted_ride_count_jan = model_jan.predict(input_data_jan)"
      ],
      "metadata": {
        "id": "Yi40Y7QWADmc"
      },
      "execution_count": 51,
      "outputs": []
    },
    {
      "cell_type": "code",
      "source": [
        "actual_ride_count = jan_station_busy[\n",
        "    (jan_station_busy['start_station_name'] == predict_station) &\n",
        "    (jan_station_busy['day_of_month'] == predict_day) &\n",
        "    (jan_station_busy['hour'] == predict_hour)\n",
        "]['ride_count'].values"
      ],
      "metadata": {
        "id": "ZaZ-7VKOAGnh"
      },
      "execution_count": 52,
      "outputs": []
    },
    {
      "cell_type": "code",
      "source": [
        "predicted_ride_count = model_jan.predict(input_data_jan)\n",
        "print(f\"Predicted number of bikes rented at '{predict_station}' on day {predict_day} at hour {predict_hour}: {predicted_ride_count_jan [0]:.2f}\")\n",
        "print(f\"Actual number of bikes rented at '{predict_station}' on {predict_day} at {predict_hour}:00: {actual_ride_count[0]}\")\n",
        "print(f\"Station ID for '{predict_station}': {predict_station_id}\")\n",
        "print(f\"Real Station ID for '{predict_station}': {real_station_id}\")"
      ],
      "metadata": {
        "colab": {
          "base_uri": "https://localhost:8080/"
        },
        "id": "CWhlySYcAI14",
        "outputId": "a65189a9-57af-4d12-8af3-ca81c2b9b5ea"
      },
      "execution_count": 53,
      "outputs": [
        {
          "output_type": "stream",
          "name": "stdout",
          "text": [
            "Predicted number of bikes rented at 'W 21 St & 6 Ave' on day 20 at hour 11: 5.10\n",
            "Actual number of bikes rented at 'W 21 St & 6 Ave' on 20 at 11:00: 14\n",
            "Station ID for 'W 21 St & 6 Ave': 1972\n",
            "Real Station ID for 'W 21 St & 6 Ave': 6140.05\n"
          ]
        }
      ]
    },
    {
      "cell_type": "code",
      "source": [
        "from sklearn.metrics import mean_absolute_error, mean_squared_error, r2_score\n",
        "y_predict = model_jan.predict(x_jan)\n",
        "mean_absolute_percentage_error_score = mean_absolute_error(y_jan, y_pred_jan)\n",
        "r2 = r2_score(y_jan, y_pred_jan)\n",
        "mean_squared_error_score = mean_squared_error(y_jan, y_pred_jan)\n",
        "print(\"mae score(in%):\",mean_absolute_percentage_error_score)\n",
        "print(\"r2 score:\",r2)\n",
        "print(\"mse score:\",mean_squared_error_score)"
      ],
      "metadata": {
        "id": "tVQijL5YP0n5",
        "colab": {
          "base_uri": "https://localhost:8080/"
        },
        "outputId": "7e7fc1bb-7e0b-48fa-a713-264f3f201e99"
      },
      "execution_count": 55,
      "outputs": [
        {
          "output_type": "stream",
          "name": "stdout",
          "text": [
            "mae score(in%): 2.0566630898802685\n",
            "r2 score: -0.4096584438051065\n",
            "mse score: 12.08731487166027\n"
          ]
        }
      ]
    }
  ]
}